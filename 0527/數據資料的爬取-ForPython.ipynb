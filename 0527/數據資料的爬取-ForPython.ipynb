{
 "cells": [
  {
   "cell_type": "code",
   "execution_count": null,
   "metadata": {},
   "outputs": [],
   "source": [
    "'''\n",
    "helper functions:\n",
    "'''\n",
    "\n",
    "def show(cmdstr):\n",
    "    print(cmdstr, '=', eval(cmdstr))\n",
    "    \n",
    "def newline(row=1):\n",
    "    print('\\n' * (row-1))\n",
    "    \n",
    "def markline(length=15, mark='-'):\n",
    "    print(f\"\\n{mark * length}\")"
   ]
  },
  {
   "cell_type": "markdown",
   "metadata": {
    "id": "67Pcatw7vY7W"
   },
   "source": [
    "# requests 模組：讀取網站檔案"
   ]
  },
  {
   "cell_type": "markdown",
   "metadata": {
    "id": "YCAtT6q1upoU"
   },
   "source": [
    "## 讀取網頁原始碼"
   ]
  },
  {
   "cell_type": "code",
   "execution_count": null,
   "metadata": {
    "colab": {
     "base_uri": "https://localhost:8080/"
    },
    "id": "6gkohlk7uYOe",
    "outputId": "e1fd5414-5907-445f-b6cb-6ecf98ca81db"
   },
   "outputs": [],
   "source": [
    "'''\n",
    "讀取網頁資料的主要方法有: get 與 post。\n",
    " get: 會將傳遞請求的參數，附加在網址的後面。又因為使用的是環境變數，所以能傳遞的資料相對較少。\n",
    "post: 不會將傳遞請求的參數，附加在網址的後面。因為使用的是標準輸出入，所以能傳遞大量的資料。\n",
    "\n",
    "回傳的內容其實就是: 所請求網頁的原始碼文字內容。\n",
    "'''\n",
    "import requests\n",
    "\n",
    "url = 'https://www.ntut.edu.tw/index.php'\n",
    "html = requests.get(url)  \n",
    "\n",
    "# 檢查HTTP回應碼是否為 200 (或是使用 requests.code.ok)\n",
    "if html.status_code == requests.codes.ok:  # 表示正確地讀回網頁資料。\n",
    "    print(html.text)  # html.text 就是網頁的原始碼內容。\n",
    "    "
   ]
  },
  {
   "cell_type": "markdown",
   "metadata": {
    "id": "EKm2uq_Kvwy8"
   },
   "source": [
    "## 加上 URL 參數"
   ]
  },
  {
   "cell_type": "code",
   "execution_count": null,
   "metadata": {
    "colab": {
     "base_uri": "https://localhost:8080/"
    },
    "id": "5xTaLcg7upWc",
    "outputId": "5da4a8f8-9abf-4b75-88f2-5f0c38f7b8d0"
   },
   "outputs": [],
   "source": [
    "import requests\n",
    "\n",
    "# 將查詢參數定義為字典資料，並放入 GET 請求的參數中。\n",
    "# 下列的程式寫法，相當於在網址列，下右列的指令: http://httpbin.org/get?key1=value1&key2=value2  <-- 瀏覽網址的內容。\n",
    "\n",
    "payload = {'key1': 'value1', 'key2': 'value2'}  # 使用 dict 的格式。\n",
    "\n",
    "# 網站: http://httpbin.org/get，可以回傳我們測試網頁請求時，所傳遞參數的內容。\n",
    "html = requests.get(\"http://httpbin.org/get\",\n",
    "                     params=payload)  # 透過參數 params (for get)\n",
    "\n",
    "# 或是直接將參數附加在網址的後面也 OK。\n",
    "# html = requests.get(\"http://httpbin.org/get?key1=value1&key2=value2\")\n",
    "\n",
    "print(html.text)\n"
   ]
  },
  {
   "cell_type": "markdown",
   "metadata": {
    "id": "hSsOMyYPwINz"
   },
   "source": [
    "## 發送POST請求"
   ]
  },
  {
   "cell_type": "code",
   "execution_count": null,
   "metadata": {
    "colab": {
     "base_uri": "https://localhost:8080/"
    },
    "id": "UtVDOS60v1PE",
    "outputId": "60ea514f-b5aa-484f-eaa9-6fb9d46f7f35"
   },
   "outputs": [],
   "source": [
    "import requests\n",
    "\n",
    "# 將查詢參數加入 POST 請求的參數中。\n",
    "payload = {'key1': 'value1', 'key2': 'value2'}   # 使用 dict 的格式。\n",
    "\n",
    "html = requests.post(\"http://httpbin.org/post\",\n",
    "                     data=payload)  # 透過參數 data (for post)\n",
    "print(html.text)"
   ]
  },
  {
   "cell_type": "markdown",
   "metadata": {
    "id": "4ByWJud04AFI"
   },
   "source": [
    "# BeautifulSoup 模組：網頁解析"
   ]
  },
  {
   "cell_type": "code",
   "execution_count": null,
   "metadata": {},
   "outputs": [],
   "source": [
    "'''\n",
    "如果需要安裝 BeautifulSoup 的話:\n",
    "pip install -U BeautifulSoup4\n",
    "\n",
    "如果需要安裝 lxml 的話:\n",
    "pip install lxml\n",
    "'''"
   ]
  },
  {
   "cell_type": "markdown",
   "metadata": {},
   "source": [
    "[Beautiful Soup 4.12.0 documentation](https://www.crummy.com/software/BeautifulSoup/bs4/doc/#the-string-argument)"
   ]
  },
  {
   "cell_type": "markdown",
   "metadata": {
    "id": "hu1y5Jz-yvAR"
   },
   "source": [
    "## 認識網頁的結構"
   ]
  },
  {
   "cell_type": "markdown",
   "metadata": {
    "id": "vmJUvs_14vLp"
   },
   "source": [
    "## BeautifulSoup 常用的屬性"
   ]
  },
  {
   "cell_type": "code",
   "execution_count": null,
   "metadata": {
    "colab": {
     "base_uri": "https://localhost:8080/"
    },
    "id": "NZTxcMOv4fCR",
    "outputId": "98f0c2cd-b5f9-4dcc-c580-c5e012eecead"
   },
   "outputs": [],
   "source": [
    "import requests\n",
    "from bs4 import BeautifulSoup  # 載入 Beautifulsoup 的方法。\n",
    "\n",
    "url = 'https://www.ntut.edu.tw/index.php'  # 國立臺北科技大學 網址\n",
    "html = requests.get(url)\n",
    "html.encoding = 'UTF-8'  # 設定爬取回來內容的編碼格式。\n",
    "\n",
    "sp = BeautifulSoup(html.text, 'lxml')  # 爬取回來的資料。\n",
    "\n",
    "'''\n",
    "# 透過標簽名稱來找資料:\n",
    "print(sp.title)\n",
    "print(sp.title.text)\n",
    "print(sp.h2)  # 只會回傳第一個找到的 h2 標簽(tag)。\n",
    "print(sp.h2.text)\n",
    "print(sp.h2['class'])\n",
    "print(sp.p)\n",
    "newline()\n",
    "#'''\n",
    "\n",
    "#'''\n",
    "# 透過標簽名稱來找資料:\n",
    "show('sp.title')        # 含 標簽(tag) 與其 圍住的文字內容。\n",
    "show('sp.title.text')   # tag 圍住的文字內容。\n",
    "show('sp.h2')           # 只會回傳第一個找到的 h2 標簽(tag)。\n",
    "show('sp.h2.text')\n",
    "show('sp.h2[\"class\"]')  # 可以設定要找 h2 中定義的屬性。\n",
    "show('sp.p')\n",
    "#'''\n"
   ]
  },
  {
   "cell_type": "markdown",
   "metadata": {
    "id": "dGNgc7Gm45sZ"
   },
   "source": [
    "## 找尋指定標籤的內容：find()、find_all()"
   ]
  },
  {
   "cell_type": "code",
   "execution_count": null,
   "metadata": {},
   "outputs": [],
   "source": [
    "html = '''\n",
    "<html>\n",
    "  <head><meta charset=\"UTF-8\"><title>我是網頁標題</title></head>\n",
    "  <body>\n",
    "      <p id=\"p1\">我是段落一</p>\n",
    "      <p id=\"p2\" class='red'>我是段落二</p>\n",
    "  </body>\n",
    "</html>\n",
    "'''"
   ]
  },
  {
   "cell_type": "code",
   "execution_count": null,
   "metadata": {
    "colab": {
     "base_uri": "https://localhost:8080/"
    },
    "id": "Q20bjJMqwrd1",
    "outputId": "816f4b7f-08b5-4cbb-c6f7-05b9631ece25"
   },
   "outputs": [],
   "source": [
    "from bs4 import BeautifulSoup\n",
    "\n",
    "sp = BeautifulSoup(html, 'lxml')\n",
    "\n",
    "print(sp.find('p'))\n",
    "print(sp.find_all('p'))\n",
    "markline()\n",
    "\n",
    "print(sp.find('p', {'id':'p2', 'class':'red'}))\n",
    "print(sp.find('p', {'id':'p2'}))\n",
    "markline()\n",
    "\n",
    "print(sp.find('p', {'class':'red'}))\n",
    "markline()\n",
    "\n",
    "show(\"sp.find('p', {'id':'p2'})\")\n",
    "show(\"sp.find('p', {'class':'red'})\")\n",
    "markline()\n",
    "\n",
    "print(sp.find('p', id='p2', class_= 'red'))"
   ]
  },
  {
   "cell_type": "code",
   "execution_count": null,
   "metadata": {
    "id": "7B2RJfqLy3fS"
   },
   "outputs": [],
   "source": [
    "# 一個網頁內容，但存在字串中:\n",
    "page = r'''\n",
    "<!doctype html>\n",
    "<html>\n",
    "  <head>\n",
    "    <meta charset=\"UTF-8\">\n",
    "    <title>我是網頁的標題</title>\n",
    "    <style>\n",
    "        img {\n",
    "            height: 250px;\n",
    "        }\n",
    "    </style>\n",
    "  </head>\n",
    "  <body>\n",
    "    <h2>底下是一個表格，內容是</h2>\n",
    "    <table>\n",
    "        <tr>\n",
    "          <th> <img src='.\\images2Move\\alarmclock256.jpg' height=150 /> </th>\n",
    "          <th> <img src='.\\images2Move\\birds.jpg' height=150 /> </th>\n",
    "          <th> <img src='.\\images2Move\\Brick_wall.jpg' height=150 /> </th>\n",
    "          <th> <img src='.\\images2Move\\Conan-4.jpg' height=150 /> </th>\n",
    "          <th> <img src='.\\images2Move\\CountryKitchen.jpg' height=150 /> </th>\n",
    "        </tr>\n",
    "        <tr>\n",
    "          <th> <img src='.\\images2Move\\Porsche 911 GT3 R Hybrid-1.jpg' height=150 /> </th>\n",
    "          <th> <img src='.\\images2Move\\rock-wall.jpg' height=150 /> </th>\n",
    "          <th> <img src='.\\images2Move\\RunningHorse.jpg' height=150 /> </th>\n",
    "          <th> <img src='.\\images2Move\\SantaFe-2015.jpg' height=150 /> </th>\n",
    "          <th> <img src='.\\images2Move\\Apple-1.jpg' height=150 /> </th>\n",
    "        </tr>\n",
    "        <tr>\n",
    "          <th> <img src='.\\images2Move\\Apple-2.jpg' height=150 /> </th>\n",
    "          <th> <img src='.\\images2Move\\德國 ZEPPELIN 齊柏林經典機械腕錶 ( ZN-7636-1 ).jpg' height=150 /> </th>\n",
    "          <th> <img src='.\\images2Move\\碧潭夜景.jpg' height=150 /> </th>\n",
    "        </tr>\n",
    "    </table>\n",
    "</html>\n",
    "'''"
   ]
  },
  {
   "cell_type": "code",
   "execution_count": null,
   "metadata": {
    "scrolled": true
   },
   "outputs": [],
   "source": [
    "from bs4 import BeautifulSoup\n",
    "\n",
    "sp = BeautifulSoup(page, 'lxml')\n",
    "\n",
    "ths = sp.find('th')  # will find the first th\n",
    "print(ths)\n",
    "markline()\n",
    "# ths = sp.find_all('th')  # will find all the th\n",
    "# ths = sp.select('th')  # same as above, will find all the th \n",
    "\n",
    "print( type(ths) )\n",
    "print( list(ths) )\n",
    "\n",
    "# print(sp.style)\n",
    "# print(sp.table)\n",
    "\n",
    "# sp.select('img')  # return all the tags of img\n",
    "# sp.select('img')[0]['src']  # 取出第一個元素中的 src 屬性內容。\n",
    "# sp.select('img')[0]['height']  # 取出第一個元素中的 height 屬性內容。\n",
    "# sp.select('img')[0]  # 取出第一個元素。\n"
   ]
  },
  {
   "cell_type": "code",
   "execution_count": null,
   "metadata": {
    "id": "Ck1y81s05Jgx"
   },
   "outputs": [],
   "source": [
    "\"\"\"\n",
    "標籤名稱: 文字      <-- 原先瀏覽器的標簽 或 自訂標簽。\n",
    "類別定義: .類別名稱 <-- 同類型的設定。\n",
    "     id: #id名稱   <-- 量身訂製。\n",
    "\"\"\"\n",
    "\n",
    "page = '''\n",
    "<html>\n",
    "  <head>\n",
    "      <meta charset=\"UTF-8\"><title>我是網頁標題</title>\n",
    "      <style>\n",
    "          #p1 {\n",
    "              font-size: 1.2em;\n",
    "          }\n",
    "          #p2 {\n",
    "              font-size: 1.5em;\n",
    "          }\n",
    "          .red {\n",
    "              color: red;\n",
    "          }\n",
    "      </style>  \n",
    "  </head>\n",
    "  <body>\n",
    "      <p id=\"p1\">我是段落一</p>\n",
    "      <p id=\"p2\" class='red'>\n",
    "      我是段落二     \n",
    "      </p>\n",
    "  </body>\n",
    "</html>\n",
    "'''\n",
    "from bs4 import BeautifulSoup\n",
    "\n",
    "sp = BeautifulSoup(page, 'lxml')\n",
    "# sp.select('.red')[0].text\n",
    "# sp.select('p#p1')[0].text\n",
    "\n"
   ]
  },
  {
   "cell_type": "markdown",
   "metadata": {
    "id": "YViNrNs855ni"
   },
   "source": [
    "## 利用CSS選擇器找尋內容：select()"
   ]
  },
  {
   "cell_type": "code",
   "execution_count": null,
   "metadata": {
    "colab": {
     "base_uri": "https://localhost:8080/"
    },
    "id": "UkwcWVC556PB",
    "outputId": "00875ccd-646d-4cee-c52f-c7e84968823a"
   },
   "outputs": [],
   "source": [
    "'''\n",
    "CSS 的內容會定義在 style 的標簽中。\n",
    "1) 一般的文字內容表示標簽的名稱。\n",
    "2) class(類別)名稱前會加上一個句點(.)，相同 class 可以被很多個標簽引用。\n",
    "3) id名稱前會加上一個(#)，同時，理論上 id 的定義是獨一無二的。\n",
    "'''\n",
    "\n",
    "from bs4 import BeautifulSoup\n",
    "\n",
    "sp = BeautifulSoup(page, 'lxml')\n",
    "\n",
    "'''\n",
    "# 透過 select 找到的內容，通通存在 list 中:\n",
    "print(sp.select('title'))\n",
    "print(sp.select('p'))\n",
    "print(sp.select('#p1'))\n",
    "print(sp.select('.red'))\n",
    "markline()\n",
    "#'''\n",
    "\n",
    "# another method to show the result:\n",
    "show(\"sp.select('title')\")\n",
    "show(\"sp.select('p')\")\n",
    "show(\"sp.select('#p1')\")\n",
    "show(\"sp.select('.red')\")\n",
    "\n",
    "# type(sp.select('p')[0])"
   ]
  },
  {
   "cell_type": "markdown",
   "metadata": {
    "id": "ukfmGZfL66Ta"
   },
   "source": [
    "## *取得標籤的屬性內容*"
   ]
  },
  {
   "cell_type": "code",
   "execution_count": null,
   "metadata": {
    "id": "fZuuT3oh6-GC"
   },
   "outputs": [],
   "source": [
    "html = '''\n",
    "<html>\n",
    "  <head><meta charset=\"UTF-8\"><title>我是網頁標題</title></head>\n",
    "  <body>\n",
    "      <img src=\"http://www.ehappy.tw/python.png\">\n",
    "      <a href=\"http://www.e-happy.com.tw\">超連結</a>\n",
    "  </body>\n",
    "</html>\n",
    "'''"
   ]
  },
  {
   "cell_type": "code",
   "execution_count": null,
   "metadata": {
    "colab": {
     "base_uri": "https://localhost:8080/"
    },
    "id": "vUxWes-a7Ymz",
    "outputId": "1f69e138-45f6-419a-89c0-1c63338b9281"
   },
   "outputs": [],
   "source": [
    "from bs4 import BeautifulSoup\n",
    "\n",
    "sp = BeautifulSoup(html, 'lxml')\n",
    "\n",
    "# 透過 select 找到的內容，通通存在 list 中:\n",
    "print(sp.select('img')[0].get('src'))  # 使用 get 的方式。\n",
    "print(sp.select('a')[0].get('href'))\n",
    "\n",
    "print(sp.select('img')[0]['src'])  # 透過 文字索引 的方式。\n",
    "print(sp.select('a')[0]['href'])\n",
    "markline()\n",
    "\n",
    "show(\"sp.select('img')[0].get('src')\")\n",
    "show(\"sp.select('a')[0].get('href')\")\n",
    "\n",
    "show(\"sp.select('img')[0]['src']\")\n",
    "show(\"sp.select('a')[0]['href']\")"
   ]
  },
  {
   "cell_type": "markdown",
   "metadata": {
    "id": "1Bc7nC73n7z4"
   },
   "source": [
    "# 使用正規表達式"
   ]
  },
  {
   "cell_type": "code",
   "execution_count": null,
   "metadata": {},
   "outputs": [],
   "source": [
    "page = \"\"\"\n",
    "<div class=\"content\">\n",
    "    E-Mail：<a href=\"mailto:mail@test.com.tw\">\n",
    "      mail</a><br>\n",
    "    E-Mail2：<a href=\"mailto:mail2@test.com.tw\">\n",
    "      mail2</a><br>\n",
    "    <ul class=\"price\">定價：360元 </ul>\n",
    "    <img src=\"http://test.com.tw/p1.jpg\">\n",
    "    <img src=\"http://test.com.tw/p2.png\">\n",
    "    電話：(04)-76543210、0937-123456\n",
    "</div>\n",
    "\"\"\""
   ]
  },
  {
   "cell_type": "code",
   "execution_count": null,
   "metadata": {
    "colab": {
     "base_uri": "https://localhost:8080/"
    },
    "id": "a-7fDNkIp9Xf",
    "outputId": "437be839-3a6d-4c4e-c204-e6f6f1e8b684",
    "scrolled": true
   },
   "outputs": [],
   "source": [
    "import re\n",
    "\n",
    "pattern=r'[a-zA-Z0-9_.+-]+@[a-zA-Z0-9-]+\\.[a-zA-Z0-9-.]+'\n",
    "emails = re.findall(pattern, page)\n",
    "\n",
    "for email in emails:  #顯示 email\n",
    "    print(email)\n",
    "newline()\n",
    "\n",
    "price = re.findall(r'(\\d+)元', page)[0].split('元')[0]  #價格\n",
    "print(price)  #顯示定價金額\n",
    "newline()\n",
    "\n",
    "imglist = re.findall(r'[http://]+[a-zA-Z0-9-/.]+\\.[jpg|png]+', page)    \n",
    "for img in imglist:  #\n",
    "    print(img)  #顯示圖片網址\n",
    "newline()\n",
    "\n",
    "\n",
    "phonelist = re.findall(r'\\(?\\d{2,4}\\)?\\-\\d{6,8}', page)\n",
    "for phone in phonelist:\n",
    "    print(phone)  #顯示電話號碼 "
   ]
  },
  {
   "cell_type": "code",
   "execution_count": null,
   "metadata": {},
   "outputs": [],
   "source": []
  },
  {
   "cell_type": "code",
   "execution_count": null,
   "metadata": {},
   "outputs": [],
   "source": [
    "'''\n",
    "For exercise\n",
    "'''\n",
    "import requests\n",
    "from bs4 import BeautifulSoup\n",
    "import re\n",
    "\n",
    "url = \"https://stats.moe.gov.tw/bookcase/\"  # 教育部電子書櫃連結。\n",
    "\n",
    "html = requests.get(url)\n",
    "# print(html.text)\n",
    "\n",
    "sp = BeautifulSoup(html.text, 'lxml')\n",
    "\n",
    "# imgs = sp.select('img.datalistImg')  # 尋找 img tag，且該 img 引用類別(class) datalistImg。\n",
    "# print(imgs)\n",
    "\n",
    "# anchors = sp.select('a', class_=\"tooltip\")  # 尋找 a tag，且該 img 引用類別(class) tooltip。\n",
    "\n",
    "# result = \"\"\n",
    "# for img in imgs:  \n",
    "#     result += str(img)\n",
    "    \n",
    "# with open('see.html', \"w\") as fp:\n",
    "#     fp.write(result)"
   ]
  }
 ],
 "metadata": {
  "colab": {
   "collapsed_sections": [],
   "name": "數據資料的爬取.ipynb",
   "provenance": [],
   "toc_visible": true
  },
  "kernelspec": {
   "display_name": "Python 3 (ipykernel)",
   "language": "python",
   "name": "python3"
  },
  "language_info": {
   "codemirror_mode": {
    "name": "ipython",
    "version": 3
   },
   "file_extension": ".py",
   "mimetype": "text/x-python",
   "name": "python",
   "nbconvert_exporter": "python",
   "pygments_lexer": "ipython3",
   "version": "3.9.19"
  }
 },
 "nbformat": 4,
 "nbformat_minor": 1
}
