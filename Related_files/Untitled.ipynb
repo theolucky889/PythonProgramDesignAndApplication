{
 "cells": [
  {
   "cell_type": "code",
   "execution_count": 74,
   "id": "7e3fe73b",
   "metadata": {},
   "outputs": [
    {
     "name": "stdout",
     "output_type": "stream",
     "text": [
      "伊: 1\n",
      "吳: 1\n",
      "唐: 1\n",
      "曹: 1\n",
      "杜: 1\n",
      "林: 1\n",
      "王: 1\n",
      "郭: 2\n",
      "郭: 2\n",
      "陳: 2\n",
      "陳: 2\n"
     ]
    }
   ],
   "source": [
    " namestr = \"林豐祥、伊姿和、唐雅婷、陳弘婷、杜淑娟、曹俐火、王郁婷、吳鈺桂、陳瑞瑜、郭志豪、郭天芝\"\n",
    "# 拆解字串:\n",
    "names = namestr.split('、')\n",
    "surnames = [n[0] for n in names]\n",
    "surnames.sort()\n",
    "for i in range(len(surnames)):\n",
    "    print(surnames[i]+\":\", end=' ')\n",
    "    print(surnames.count(surnames[i]))"
   ]
  },
  {
   "cell_type": "code",
   "execution_count": null,
   "id": "494947d4",
   "metadata": {},
   "outputs": [],
   "source": []
  }
 ],
 "metadata": {
  "kernelspec": {
   "display_name": "Python 3 (ipykernel)",
   "language": "python",
   "name": "python3"
  },
  "language_info": {
   "codemirror_mode": {
    "name": "ipython",
    "version": 3
   },
   "file_extension": ".py",
   "mimetype": "text/x-python",
   "name": "python",
   "nbconvert_exporter": "python",
   "pygments_lexer": "ipython3",
   "version": "3.11.5"
  }
 },
 "nbformat": 4,
 "nbformat_minor": 5
}
