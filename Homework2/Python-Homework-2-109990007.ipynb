{
 "cells": [
  {
   "cell_type": "markdown",
   "id": "68b3c7da",
   "metadata": {},
   "source": [
    "**Python Homework 2**"
   ]
  },
  {
   "cell_type": "code",
   "execution_count": 1,
   "id": "78edbe36",
   "metadata": {},
   "outputs": [
    {
     "name": "stdout",
     "output_type": "stream",
     "text": [
      "-----\n",
      "5\n",
      "6\n",
      "7\n",
      "8\n",
      "-----\n"
     ]
    }
   ],
   "source": [
    "# Problem 1:\n",
    "'''\n",
    "字串的拆解與合成: split and join。\n",
    "1) split('分隔字串')\n",
    "2) '分隔字串'.join(字串的串列)  # 串列的元素必須都是字串。\n",
    "\n",
    "已知 msg = '1,2,3,4'\n",
    "透過 split 可以將資料拆解如下:\n",
    "lst = msg.split(',') => ['1', '2', '3', '4']。\n",
    "\n",
    "現在希望將該串列還原成原來的字串形式，可以透過join來達成:\n",
    "','.join( lst ) => '1,2,3,4'\n",
    "\n",
    "如果想要將 data 拆解成下列形式的話(不包含減號部分)，該下那些指令?\n",
    "data = [5, 6, 7, 8]\n",
    "-----\n",
    "5\n",
    "6\n",
    "7\n",
    "8\n",
    "-----\n",
    "'''\n",
    "\n",
    "data = [5, 6, 7, 8]\n",
    "\n",
    "str_data = [str(num) for num in data]\n",
    "\n",
    "result = '\\n'.join(str_data)\n",
    "\n",
    "output = '-----\\n' + result + '\\n-----'\n",
    "\n",
    "print(output)\n"
   ]
  },
  {
   "cell_type": "code",
   "execution_count": 2,
   "id": "a5628cc7",
   "metadata": {},
   "outputs": [
    {
     "name": "stdout",
     "output_type": "stream",
     "text": [
      "1,2,3,4,5\n",
      "6,7,8,9,10\n",
      "11,12,13,14,15\n",
      "16,17,18,19,20\n"
     ]
    }
   ],
   "source": [
    "# Problem 2:\n",
    "'''\n",
    "假設有二維串列資料如下:\n",
    "lst2 = [[1, 2, 3, 4, 5], [6, 7, 8, 9, 10], [11, 12, 13, 14, 15], [16, 17, 18, 19, 20]]\n",
    "\n",
    "請寫 Python 程式將他們輸出成下列的 csv 格式:\n",
    "1,2,3,4,5\n",
    "6,7,8,9,10\n",
    "11,12,13,14,15\n",
    "16,17,18,19,20\n",
    "'''\n",
    "lst2 = [\n",
    "    [1, 2, 3, 4, 5],\n",
    "    [6, 7, 8, 9, 10],\n",
    "    [11, 12, 13, 14, 15],\n",
    "    [16, 17, 18, 19, 20]\n",
    "]\n",
    "\n",
    "csv_lines = [','.join(map(str, sublist)) for sublist in lst2]\n",
    "\n",
    "csv_output = '\\n'.join(csv_lines)\n",
    "\n",
    "print(csv_output)\n"
   ]
  },
  {
   "cell_type": "code",
   "execution_count": 4,
   "id": "11610993",
   "metadata": {},
   "outputs": [
    {
     "name": "stdout",
     "output_type": "stream",
     "text": [
      "[[1, 2, 3, 4, 5], [6, 7, 8, 9, 10], [11, 12, 13, 14, 15], [16, 17, 18, 19, 20]]\n"
     ]
    }
   ],
   "source": [
    "# Problem 3:\n",
    "'''\n",
    "如何將一維資料，拆成二維的形式，或是反之，將二維資料，合成一維的形式。\n",
    "\n",
    "已知一維串列資料如下:\n",
    "lst = [k for k in range(1, 21)]\n",
    "\n",
    "請寫 Python 程式，將 lst 拆解成每列有 5 個元素的二維串列。\n",
    "'''\n",
    "lst = [k for k in range(1, 21)]\n",
    "\n",
    "elements_per_row = 5\n",
    "\n",
    "two_d_list = [lst[i:i + elements_per_row] for i in range(0, len(lst), elements_per_row)]\n",
    "\n",
    "print(two_d_list)\n"
   ]
  },
  {
   "cell_type": "code",
   "execution_count": 12,
   "id": "81f10d5c",
   "metadata": {
    "scrolled": true
   },
   "outputs": [
    {
     "name": "stdout",
     "output_type": "stream",
     "text": [
      "請輸入一個八位數的發票中獎號碼: 9954\n",
      "對中末1碼的有 978 個\n",
      "對中末2碼的有 107 個\n",
      "對中末3碼的有 5 個\n",
      "對中末4碼的有 0 個\n",
      "對中末5碼的有 0 個\n",
      "對中末6碼的有 0 個\n",
      "對中末7碼的有 0 個\n",
      "對中末8碼的有 0 個\n"
     ]
    }
   ],
   "source": [
    "# Problem 4:\n",
    "'''\n",
    "隨機生成發票號碼並完成對獎\n",
    "\n",
    "import random as rand\n",
    "rand.random()  => 0.15237536145350228\n",
    "透過上述生成的隨機數，可以讓我們獲得一長串的\"數字\"。\n",
    "\n",
    "現在只要將上述的數值先轉換成字串，再從中截取需要的位數，就可以輕鬆取得多位數的數字字串內容。\n",
    "例如，\n",
    "r = rand.random()\n",
    "print(r)          => 0.8442004342633753\n",
    "str(r)[2: 10]     => '84420043' <-- 取出八位數。\n",
    "\n",
    "利用上述的建議，先請使用者輸入一個八位數的發票中獎號碼，\n",
    "接著請隨機生成 10000 個八位數字，與該輸入號碼逐一進行比對，\n",
    "最後請列出這 10000 筆隨機資料中，對中末1碼，對中末2碼，...，對中末8碼(全對)各有幾個?\n",
    "'''\n",
    "import random as rand\n",
    "\n",
    "def generate_random_number():\n",
    "    r = rand.random()\n",
    "    return str(r)[2:10]\n",
    "\n",
    "# Function to count matches\n",
    "def count_matches(winning_number, random_numbers):\n",
    "    match_counts = [0] * 8\n",
    "    \n",
    "    for number in random_numbers:\n",
    "        for i in range(8):\n",
    "            if winning_number[-(i+1):] == number[-(i+1):]:\n",
    "                match_counts[i] += 1\n",
    "    \n",
    "    return match_counts\n",
    "\n",
    "winning_number = input(\"請輸入一個八位數的發票中獎號碼: \")\n",
    "\n",
    "random_numbers = [generate_random_number() for _ in range(10000)]\n",
    "\n",
    "match_counts = count_matches(winning_number, random_numbers)\n",
    "\n",
    "for i in range(8):\n",
    "    print(f\"對中末{i+1}碼的有 {match_counts[i]} 個\")\n"
   ]
  },
  {
   "cell_type": "code",
   "execution_count": 13,
   "id": "1a000ee6",
   "metadata": {},
   "outputs": [
    {
     "name": "stdout",
     "output_type": "stream",
     "text": [
      "對中1碼的有 3404 個\n",
      "對中2碼的有 982 個\n",
      "對中3碼的有 184 個\n",
      "對中4碼的有 23 個\n",
      "對中5碼的有 2 個\n",
      "對中6碼的有 0 個\n",
      "中獎號碼為: [1, 7, 0, 5, 9, 4]\n"
     ]
    }
   ],
   "source": [
    "# Problem 5:\n",
    "'''\n",
    "如何生成樂透中的數字: 使用 random.shuffle。\n",
    "\n",
    "一個可以產生若干位不重複的數字的方法就是: 先將所有數字存在串列中，接著對他們進行洗牌(互換)，最後再從中取出需要的位數。\n",
    "如此一來，數字會落在期望的範圍，同時選出來的也不會出現重複的狀況。\n",
    "\n",
    "例如，要生成數字在 0 ~ 9 範圍中的 4 個不重複數字，可以下列程式完成:\n",
    "------------------------------------------------------------------\n",
    "import random as rand\n",
    "\n",
    "lst = [k for k in range(10)]  # 產生串列: [0, 1, 2, ..., 8, 9]。\n",
    "print(lst)\n",
    "\n",
    "rand.shuffle(lst)  # 對 lst 進行洗牌(隨機互換)。\n",
    "lst[:4]  # 任選前四個。\n",
    "------------------------------------------------------------------\n",
    "\n",
    "接著請隨機產生一組中獎號碼，同時生成 10000 組隨機的號碼，與該中獎號碼逐一進行比對，\n",
    "最後請列出這 10000 筆隨機號碼中，對中1碼，對中2碼，...，對中6碼(全對)各有幾個?\n",
    "'''\n",
    "import random as rand\n",
    "\n",
    "# Function to generate a random lottery number\n",
    "def generate_lottery_number():\n",
    "    lst = [k for k in range(10)]  # List of digits from 0 to 9\n",
    "    rand.shuffle(lst)  # Shuffle the list\n",
    "    return lst[:6]  # Take the first 6 elements\n",
    "\n",
    "# Function to count matches\n",
    "def count_matches(winning_number, random_numbers):\n",
    "    match_counts = [0] * 6  # Initialize a list to store counts for each level of matching\n",
    "    \n",
    "    for number in random_numbers:\n",
    "        match_level = sum(1 for i in range(6) if number[i] == winning_number[i])\n",
    "        if match_level > 0:\n",
    "            match_counts[match_level - 1] += 1\n",
    "    \n",
    "    return match_counts\n",
    "\n",
    "# Generate the winning number\n",
    "winning_number = generate_lottery_number()\n",
    "\n",
    "# Generate 10,000 random lottery numbers\n",
    "random_numbers = [generate_lottery_number() for _ in range(10000)]\n",
    "\n",
    "# Count matches\n",
    "match_counts = count_matches(winning_number, random_numbers)\n",
    "\n",
    "# Output the results\n",
    "for i in range(6):\n",
    "    print(f\"對中{i+1}碼的有 {match_counts[i]} 個\")\n",
    "\n",
    "print(f\"中獎號碼為: {winning_number}\")\n"
   ]
  },
  {
   "cell_type": "code",
   "execution_count": null,
   "id": "e37a66f6",
   "metadata": {},
   "outputs": [],
   "source": []
  }
 ],
 "metadata": {
  "kernelspec": {
   "display_name": "Python 3 (ipykernel)",
   "language": "python",
   "name": "python3"
  },
  "language_info": {
   "codemirror_mode": {
    "name": "ipython",
    "version": 3
   },
   "file_extension": ".py",
   "mimetype": "text/x-python",
   "name": "python",
   "nbconvert_exporter": "python",
   "pygments_lexer": "ipython3",
   "version": "3.11.5"
  }
 },
 "nbformat": 4,
 "nbformat_minor": 5
}
