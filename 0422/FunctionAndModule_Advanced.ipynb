{
 "cells": [
  {
   "cell_type": "code",
   "execution_count": null,
   "id": "5383d4f1",
   "metadata": {},
   "outputs": [],
   "source": [
    "'''\n",
    "helper functions:\n",
    "'''\n",
    "def show(cmdstr):\n",
    "    print(cmdstr, '=', eval(cmdstr))\n",
    "    \n",
    "def markline(length=15, mark='-'):\n",
    "    print(f\"\\n{mark * length}\")"
   ]
  },
  {
   "cell_type": "code",
   "execution_count": null,
   "id": "d7d675fe",
   "metadata": {},
   "outputs": [],
   "source": [
    "'''\n",
    "recursive function:\n",
    "當一個函式在執行過程中，又呼叫自己，這種函式稱為遞迴(recursive)。\n",
    "\n",
    "1) 將原問題分解成類似原問題的更小部分，讓我們在求解過程中能夠重複地以同樣的方法來解決。\n",
    "2) 可以找到結束的條件。\n",
    "使用遞迴，問題有時就會被神奇或莫名其妙地解決掉\n",
    "例如，計算 1+2+3+...+(n-1)+n 的總和。\n",
    "假設 sum(n) 可以算出上述級數相加的總和:\n",
    "sum(n) = 1+2+3+...+n \n",
    "       = 1+2+3+...+(n-1) + n\n",
    "       = sum(n-1) + n\n",
    "       = sum(n-2)+(n-1) + n\n",
    "       = ...\n",
    "       = sum(1) + ...\n",
    "'''\n",
    "def sum(n):\n",
    "    if n == 1:\n",
    "        return n\n",
    "    else:\n",
    "        return sum(n-1) + n\n",
    "n = 10\n",
    "\n",
    "result = sum(n)\n",
    "print(result)    "
   ]
  },
  {
   "cell_type": "code",
   "execution_count": null,
   "id": "c9a423e9",
   "metadata": {},
   "outputs": [],
   "source": [
    "'''\n",
    "請模仿上述級數相加的例子，寫一個計算階乘的值。\n",
    "其中階乘的定義: factorial(n) = n! = 1*2*...*(n-1)*n\n",
    "\n",
    "Q: 請嘗試列出 1! ~ 50! 的計算結果。\n",
    "'''"
   ]
  },
  {
   "cell_type": "code",
   "execution_count": null,
   "id": "572a6d97",
   "metadata": {},
   "outputs": [],
   "source": [
    "'''\n",
    "請寫一個程式計算並顯示 Fibonacci numbers。\n",
    "其中 Fibonacci numbers 的生成規則定義如下: \n",
    "1) fib(0) = fib(1) = 1\n",
    "2) fib(n) = fib(n-1) + fib(n-2)\n",
    "\n",
    "即首兩項的值均為1，其後各項的值為其前兩項的和。\n",
    "\n",
    "Q: Fibonacci numbers: 1, 1, 2, 3, 5, 8, 13, 21, 34, 55, ...\n",
    "'''"
   ]
  },
  {
   "cell_type": "code",
   "execution_count": null,
   "id": "b8fc879b",
   "metadata": {},
   "outputs": [],
   "source": [
    "'''\n",
    "Q: 請查詢關鍵字 Hanoi tower，並嘗試用 Python 來解出搬移的過程。\n",
    "'''"
   ]
  },
  {
   "cell_type": "code",
   "execution_count": null,
   "id": "4f817942",
   "metadata": {},
   "outputs": [],
   "source": [
    "'''\n",
    "wirting help for a function in python: 在函式定義底下使用長註解的形式來定義。\n",
    "\n",
    "def function_name(.):\n",
    "    \"\"\"\n",
    "    在函式名稱底下，其他程式碼之前，使用多行註解(以三個單或雙撇號括住的內容)所輸入的內容，都會變成函式的說明。\n",
    "    透過呼叫 help(function_name) 就會顯示出來！\n",
    "    只有第一段的多列註解內容，會成為函式的說明！\n",
    "    \"\"\"\n",
    "    pass\n",
    "    \n",
    "查看函式註解的方法: help(函式名稱)\n",
    "'''\n",
    "def fun_with_description():    \n",
    "    '''\n",
    "    這個函式有以多行註解形式定義的相關內容！\n",
    "    三個單或雙撇號括住的內容才會被採認！\n",
    "    但唯有第一段的多行註解內容會被引用！ <-- 弱水三千，只取一瓢飲！\n",
    "    希望這個說明您會滿意！\n",
    "    ''' \n",
    "    \"\"\"\n",
    "    這是第二段的多行註解說明！您可以看到嗎?\n",
    "    \"\"\"\n",
    "    pass\n",
    "\n",
    "def simple_fun():\n",
    "    pass\n",
    "\n",
    "def fun_with_description_one():\n",
    "    # 這個函式有以 # 定義的註解！ \n",
    "    pass\n",
    "\n",
    "\n",
    "print(\"\\nhelp(fun_with_description)\")\n",
    "help(fun_with_description)\n",
    "markline(60)\n",
    "\n",
    "# print(\"help(simple_fun)\")\n",
    "help(simple_fun)\n",
    "markline(60)\n",
    "\n",
    "print(\"\\nhelp(fun_with_description_one)\")\n",
    "help(fun_with_description_one)"
   ]
  },
  {
   "cell_type": "code",
   "execution_count": null,
   "id": "b3dbb5b7",
   "metadata": {},
   "outputs": [],
   "source": [
    "'''\n",
    "magic method (double underscore, dunder) in python:\n",
    "ex. __magic-method__.\n",
    "'''\n",
    "\n",
    "print(__name__)  # 會印出目前\"執行中程式\"所扮演的\"角色\"。\n",
    "\n",
    "# 下列變數執行後，Python會將他們存在記體中。\n",
    "a = 1\n",
    "b = 2\n",
    "\n",
    "# The dir() function returns all properties and methods of the specified object, without the values.\n",
    "# 可以用來列出目前記憶體中儲存的內容: dir()\n",
    "print( dir() )\n",
    "\n",
    "# Python automatically stores the value of the last expression in the interpreter to a particular variable called \"_\"\n",
    "# Python會將最後一次的運算結果，存在變數(_)中。\n",
    "print(_)"
   ]
  }
 ],
 "metadata": {
  "kernelspec": {
   "display_name": "Python 3 (ipykernel)",
   "language": "python",
   "name": "python3"
  },
  "language_info": {
   "codemirror_mode": {
    "name": "ipython",
    "version": 3
   },
   "file_extension": ".py",
   "mimetype": "text/x-python",
   "name": "python",
   "nbconvert_exporter": "python",
   "pygments_lexer": "ipython3",
   "version": "3.11.5"
  }
 },
 "nbformat": 4,
 "nbformat_minor": 5
}
