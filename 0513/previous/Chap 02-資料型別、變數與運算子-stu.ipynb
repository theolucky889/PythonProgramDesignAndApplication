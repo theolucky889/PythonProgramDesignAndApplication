{
 "cells": [
  {
   "cell_type": "markdown",
   "id": "5gN7u5W3xzUD",
   "metadata": {
    "id": "5gN7u5W3xzUD"
   },
   "source": [
    "<font color=#1E8449>☘ </font> 注意事項\n",
    "1. 如果您使用 Colab，在您熟悉 Colab 的操作環境之後，建議把介面改成英文版，以便讓程式碼有最好的顯示效果\n",
    " * 選擇 Colab 功能表裡的 <font color=#E59866>說明</font> - <font color=#E59866>查看英文版本</font> 即可將介面改成英文版\n",
    " * 要改回中文版，請關掉目前開啟的 Colab 網頁，再重新開啟您執行的 Colab 檔案即可（Colab 預設為中文版）\n",
    "2. 建議選擇暗色背景，長時間撰寫程式時眼睛會比較舒服\n",
    " * 在 Colab 裡選擇 <font color=#E59866>Tools（工具）</font> - <font color=#E59866> Settings （設定）</font> - <font color=#E59866> Site（網站）</font> - <font color=#E59866> Theme （主題）</font> - <font color=#E59866> Dark </font>\n",
    " * 在 Jupyter lab 中選擇 <font color=#E59866> Settings </font> - <font color=#E59866> JupyterLab theme </font> - <font color=#E59866> JupyerterLab Dark </font>\n",
    "\n"
   ]
  },
  {
   "cell_type": "markdown",
   "id": "2leXmD87dEZp",
   "metadata": {
    "id": "2leXmD87dEZp"
   },
   "source": [
    "## Chap 02 資料型別、變數與運算子"
   ]
  },
  {
   "cell_type": "markdown",
   "id": "strong-advisory",
   "metadata": {
    "id": "strong-advisory"
   },
   "source": [
    "### 2.1 簡單的資料型別"
   ]
  },
  {
   "cell_type": "markdown",
   "id": "undefined-somalia",
   "metadata": {
    "id": "undefined-somalia"
   },
   "source": [
    "<font color=#DFFF00>☘ </font>  Python 提供了四種數值型別：\n",
    "* int(整數型別): 沒有小數部分。\n",
    "* float(浮點數型別): 包含小數部分。\n",
    "* complex(複數型別): a + bj\n",
    "* boolean(布林型別): True(1) and False(0)。\n",
    "---\n",
    "Number: int, float, boolean \\\n",
    "String: str, 使用一對單撇號 或 一對雙撇號 或 一對三個單或雙撇號括住的文字內容。\n",
    "\n",
    "運算規則: \\\n",
    "for Number, including int, float, True, False.\n",
    "- Number + Nmmber <== OK\n",
    "- Number - Nmmber <== OK\n",
    "- Number * Nmmber <== OK\n",
    "- Number / Nmmber <== OK\n",
    "-\n",
    "- 馬 + 斑馬 => 兩隻馬\n",
    "- 人 + 馬 => 傌 <-- ???\n",
    "\n",
    "for string,\n",
    "- string + string <== OK, 表示字串的串接！\n",
    "- string * int <== OK, 表示連續幾個字串的加法！\n",
    "\n",
    "for Number and string,\n",
    "- Number + int(string)\n",
    "- Number + float(string)\n",
    "- Number + eval(string)\n",
    "- str(Number) + string\n"
   ]
  },
  {
   "cell_type": "code",
   "execution_count": null,
   "id": "d33d8205",
   "metadata": {},
   "outputs": [],
   "source": [
    "print(\"123\" + \"abc\" + \"中文測試\")\n",
    "print(\"Python\" * 3)  # \"Python\" + \"Python\" + \"Python\" 三個 \"Python\" 進行相加！"
   ]
  },
  {
   "cell_type": "code",
   "execution_count": null,
   "id": "d97777b9",
   "metadata": {
    "scrolled": true
   },
   "outputs": [],
   "source": [
    "'''\n",
    "顯示一條文字水平線:\n",
    "'''\n",
    "print( '-' * 15 )"
   ]
  },
  {
   "cell_type": "markdown",
   "id": "uDvxp_CUBqcY",
   "metadata": {
    "id": "uDvxp_CUBqcY"
   },
   "source": [
    "<font color=#DB9B1A>- type() 函數的用法 - </font>\n",
    "* type(val_or_expression) : 查詢物件 val 或 expression運算結果 的型別。"
   ]
  },
  {
   "cell_type": "markdown",
   "id": "911470cf",
   "metadata": {},
   "source": [
    "**PEP 8 寫作建議** \\\n",
    "[Pytho程式碼的寫作建議](https://peps.python.org/pep-0008/#tabs-or-spaces)"
   ]
  },
  {
   "cell_type": "markdown",
   "id": "lyric-weekly",
   "metadata": {
    "id": "lyric-weekly"
   },
   "source": [
    "#### 2.1.1 數值型別"
   ]
  },
  {
   "cell_type": "markdown",
   "id": "spare-quality",
   "metadata": {
    "id": "spare-quality"
   },
   "source": [
    "<font color=#DFFF00>☘ </font>  整數 (Integer) - 不帶小數點的數都是整數\n",
    "---\n",
    "10進位以外常用的進位制:\n",
    "- 二進位: 0b, 0B 為開頭的數字。\n",
    "- 八進位: 0o, 0O 為開頭的數字。\n",
    "- 十六進位: 0x, 0X 為開頭的數字。\n",
    "(* 想成不同的幣值！如，美金、日幣與新台幣等。)"
   ]
  },
  {
   "cell_type": "code",
   "execution_count": null,
   "id": "a7ebd513",
   "metadata": {
    "scrolled": true
   },
   "outputs": [],
   "source": [
    "'''\n",
    "常用進位制\n",
    " 2進位: 0,1\n",
    " 8進位: 0,1,2,3,4,5,6,7\n",
    "10進位: 0,1,2,3,4,5,6,7,8,9\n",
    "16進位: 0,1,2,3,4,5,6,7,8,9, a,b,c,d,e,f\n",
    "'''\n",
    "print(\"2進位\\t8進位\\t10進位\\t16進位\")\n",
    "for k in range(16):\n",
    "    bi = bin(k)\n",
    "    oc = oct(k)\n",
    "    print(f\"{bi[:2]}{bi[2:]:>04}\\t{oc[:2]}{oc[2:]:>02}\\t{k:2}\\t{hex(k)}\")"
   ]
  },
  {
   "cell_type": "code",
   "execution_count": null,
   "id": "0c628154",
   "metadata": {},
   "outputs": [],
   "source": [
    "# 表示不同進位制的英文字部分，大小寫均可！\n",
    "# 雖然進位制不同，但都會轉換成對應 10 進位的值。\n",
    "# 好比，你的錢不管是以日幣或美金表示，都可以換算成等值的新台幣。\n",
    "\n",
    "print(0b10, 0o10, 10, 0x10)  # 資料間預設會以 空格 來分隔！\n",
    "print(0B10, 0O10, 10, 0X10)  \n",
    "print()\n",
    "\n",
    "# 可以改變分隔的符號: 從預設的空格，改成其他符號或字串。\n",
    "# 如下的 sep=','\n",
    "val = 11\n",
    "print(bin(val), oct(val), val, hex(val), sep=',')  "
   ]
  },
  {
   "cell_type": "code",
   "execution_count": null,
   "id": "708085bb",
   "metadata": {
    "scrolled": false
   },
   "outputs": [],
   "source": [
    "for i in range(16):\n",
    "    print(f\"{i:2}, {bin(i)[2:]:>4}, {oct(i):4}, {hex(i):4}\")"
   ]
  },
  {
   "cell_type": "code",
   "execution_count": null,
   "id": "experimental-jesus",
   "metadata": {
    "colab": {
     "base_uri": "https://localhost:8080/"
    },
    "executionInfo": {
     "elapsed": 570,
     "status": "ok",
     "timestamp": 1650093774562,
     "user": {
      "displayName": "wien hong",
      "userId": "11131435925814580522"
     },
     "user_tz": -480
    },
    "id": "experimental-jesus",
    "outputId": "09af5ce4-a093-4cdf-a6a4-ed91c44dde12"
   },
   "outputs": [],
   "source": [
    "6 + 20"
   ]
  },
  {
   "cell_type": "code",
   "execution_count": null,
   "id": "second-contrary",
   "metadata": {
    "colab": {
     "base_uri": "https://localhost:8080/"
    },
    "executionInfo": {
     "elapsed": 3,
     "status": "ok",
     "timestamp": 1650093774864,
     "user": {
      "displayName": "wien hong",
      "userId": "11131435925814580522"
     },
     "user_tz": -480
    },
    "id": "second-contrary",
    "outputId": "ada3ccdb-2ddd-4a19-9101-c20cb3e33c76"
   },
   "outputs": [],
   "source": [
    "1024**9    # 次方"
   ]
  },
  {
   "cell_type": "code",
   "execution_count": null,
   "id": "latest-sailing",
   "metadata": {
    "colab": {
     "base_uri": "https://localhost:8080/"
    },
    "executionInfo": {
     "elapsed": 5,
     "status": "ok",
     "timestamp": 1650093776094,
     "user": {
      "displayName": "wien hong",
      "userId": "11131435925814580522"
     },
     "user_tz": -480
    },
    "id": "latest-sailing",
    "outputId": "aacecfde-056f-42fa-ecfe-365e7efe1c6c"
   },
   "outputs": [],
   "source": [
    "type(6)"
   ]
  },
  {
   "cell_type": "code",
   "execution_count": null,
   "id": "contrary-provider",
   "metadata": {
    "colab": {
     "base_uri": "https://localhost:8080/"
    },
    "executionInfo": {
     "elapsed": 5,
     "status": "ok",
     "timestamp": 1650093778413,
     "user": {
      "displayName": "wien hong",
      "userId": "11131435925814580522"
     },
     "user_tz": -480
    },
    "id": "contrary-provider",
    "outputId": "26c6ba9a-0fc2-4223-aee2-b0d1535ad546"
   },
   "outputs": [],
   "source": [
    "0b1100    # 第一個字元是 0，b代表 binary"
   ]
  },
  {
   "cell_type": "code",
   "execution_count": null,
   "id": "advance-objective",
   "metadata": {
    "colab": {
     "base_uri": "https://localhost:8080/"
    },
    "executionInfo": {
     "elapsed": 317,
     "status": "ok",
     "timestamp": 1650093780775,
     "user": {
      "displayName": "wien hong",
      "userId": "11131435925814580522"
     },
     "user_tz": -480
    },
    "id": "advance-objective",
    "outputId": "2ecca99e-d9b4-4489-a9d8-64426ce296b2"
   },
   "outputs": [],
   "source": [
    "0b1001000100010101001010001000   # 很長的二進位"
   ]
  },
  {
   "cell_type": "code",
   "execution_count": null,
   "id": "parallel-proportion",
   "metadata": {
    "colab": {
     "base_uri": "https://localhost:8080/"
    },
    "executionInfo": {
     "elapsed": 4,
     "status": "ok",
     "timestamp": 1650093782450,
     "user": {
      "displayName": "wien hong",
      "userId": "11131435925814580522"
     },
     "user_tz": -480
    },
    "id": "parallel-proportion",
    "outputId": "1d5be8d8-cac6-4fd5-8aad-8a587e84a1e4"
   },
   "outputs": [],
   "source": [
    "0o16      # o代表 octal，8 進位的意思"
   ]
  },
  {
   "cell_type": "code",
   "execution_count": null,
   "id": "conservative-liberty",
   "metadata": {
    "id": "conservative-liberty"
   },
   "outputs": [],
   "source": [
    "# 0o178    # SyntaxError: invalid digit '8' in octal literal"
   ]
  },
  {
   "cell_type": "code",
   "execution_count": null,
   "id": "young-romantic",
   "metadata": {
    "colab": {
     "base_uri": "https://localhost:8080/"
    },
    "executionInfo": {
     "elapsed": 338,
     "status": "ok",
     "timestamp": 1650093786788,
     "user": {
      "displayName": "wien hong",
      "userId": "11131435925814580522"
     },
     "user_tz": -480
    },
    "id": "young-romantic",
    "outputId": "e096489c-b8dd-407f-f237-bf1581470d0e"
   },
   "outputs": [],
   "source": [
    "0x8a     # 16 進位\n",
    "#8 * 16 + 10"
   ]
  },
  {
   "cell_type": "code",
   "execution_count": null,
   "id": "tTAlZnPkQZi4",
   "metadata": {
    "colab": {
     "base_uri": "https://localhost:8080/"
    },
    "executionInfo": {
     "elapsed": 442,
     "status": "ok",
     "timestamp": 1650093829634,
     "user": {
      "displayName": "wien hong",
      "userId": "11131435925814580522"
     },
     "user_tz": -480
    },
    "id": "tTAlZnPkQZi4",
    "outputId": "01b9f635-ddd3-411d-9ec0-53372eca7744"
   },
   "outputs": [],
   "source": [
    "0b10000 - 0xb   # 不同進位相減"
   ]
  },
  {
   "cell_type": "code",
   "execution_count": null,
   "id": "fixed-necessity",
   "metadata": {
    "colab": {
     "base_uri": "https://localhost:8080/"
    },
    "executionInfo": {
     "elapsed": 320,
     "status": "ok",
     "timestamp": 1650093811144,
     "user": {
      "displayName": "wien hong",
      "userId": "11131435925814580522"
     },
     "user_tz": -480
    },
    "id": "fixed-necessity",
    "outputId": "7884f23e-7666-4a72-8e9d-985ed8cc163a"
   },
   "outputs": [],
   "source": [
    "type(0b10000)   # 二進位也是 int 型別"
   ]
  },
  {
   "cell_type": "markdown",
   "id": "collective-evaluation",
   "metadata": {
    "id": "collective-evaluation"
   },
   "source": [
    "<font color=#DFFF00>☘ </font>  浮點數 （Floating points）- 帶有小數點的數即為浮點數"
   ]
  },
  {
   "cell_type": "code",
   "execution_count": null,
   "id": "failing-brass",
   "metadata": {
    "colab": {
     "base_uri": "https://localhost:8080/"
    },
    "executionInfo": {
     "elapsed": 124,
     "status": "ok",
     "timestamp": 1649126978881,
     "user": {
      "displayName": "wien hong",
      "userId": "11131435925814580522"
     },
     "user_tz": -480
    },
    "id": "failing-brass",
    "outputId": "b1ddb082-e73f-4886-f2d8-740411ce8e6e"
   },
   "outputs": [],
   "source": [
    "type(3.14)"
   ]
  },
  {
   "cell_type": "code",
   "execution_count": null,
   "id": "ahead-camera",
   "metadata": {
    "colab": {
     "base_uri": "https://localhost:8080/"
    },
    "executionInfo": {
     "elapsed": 119,
     "status": "ok",
     "timestamp": 1649126978881,
     "user": {
      "displayName": "wien hong",
      "userId": "11131435925814580522"
     },
     "user_tz": -480
    },
    "id": "ahead-camera",
    "outputId": "0235551f-f2c1-473e-fca6-b2776af671e6"
   },
   "outputs": [],
   "source": [
    "type(5.)"
   ]
  },
  {
   "cell_type": "code",
   "execution_count": null,
   "id": "democratic-holly",
   "metadata": {
    "colab": {
     "base_uri": "https://localhost:8080/"
    },
    "executionInfo": {
     "elapsed": 114,
     "status": "ok",
     "timestamp": 1649126978882,
     "user": {
      "displayName": "wien hong",
      "userId": "11131435925814580522"
     },
     "user_tz": -480
    },
    "id": "democratic-holly",
    "outputId": "5eabb97a-eb22-4992-9523-42921fda95b1"
   },
   "outputs": [],
   "source": [
    "3.2 + 4"
   ]
  },
  {
   "cell_type": "code",
   "execution_count": null,
   "id": "original-heath",
   "metadata": {
    "colab": {
     "base_uri": "https://localhost:8080/"
    },
    "executionInfo": {
     "elapsed": 110,
     "status": "ok",
     "timestamp": 1649126978883,
     "user": {
      "displayName": "wien hong",
      "userId": "11131435925814580522"
     },
     "user_tz": -480
    },
    "id": "original-heath",
    "outputId": "1495608c-5700-4be8-f1dd-1dd619082952"
   },
   "outputs": [],
   "source": [
    "2.34e5   # 以科學記號表示"
   ]
  },
  {
   "cell_type": "code",
   "execution_count": null,
   "id": "incredible-front",
   "metadata": {
    "colab": {
     "base_uri": "https://localhost:8080/"
    },
    "executionInfo": {
     "elapsed": 106,
     "status": "ok",
     "timestamp": 1649126978884,
     "user": {
      "displayName": "wien hong",
      "userId": "11131435925814580522"
     },
     "user_tz": -480
    },
    "id": "incredible-front",
    "outputId": "a3fcc464-21aa-4e19-8ec3-21e63d307883"
   },
   "outputs": [],
   "source": [
    "6.78e-3   # e-3 代表 10 的 -3 次方"
   ]
  },
  {
   "cell_type": "code",
   "execution_count": null,
   "id": "heard-scope",
   "metadata": {
    "colab": {
     "base_uri": "https://localhost:8080/"
    },
    "executionInfo": {
     "elapsed": 101,
     "status": "ok",
     "timestamp": 1649126978884,
     "user": {
      "displayName": "wien hong",
      "userId": "11131435925814580522"
     },
     "user_tz": -480
    },
    "id": "heard-scope",
    "outputId": "db0932de-c399-4b05-8ac8-c69ee08cde60"
   },
   "outputs": [],
   "source": [
    "2.56e-400   # 小於 float 可以表達的最小數字"
   ]
  },
  {
   "cell_type": "code",
   "execution_count": null,
   "id": "loose-updating",
   "metadata": {
    "colab": {
     "base_uri": "https://localhost:8080/"
    },
    "executionInfo": {
     "elapsed": 97,
     "status": "ok",
     "timestamp": 1649126978885,
     "user": {
      "displayName": "wien hong",
      "userId": "11131435925814580522"
     },
     "user_tz": -480
    },
    "id": "loose-updating",
    "outputId": "00df0f0f-423b-447f-cfa3-a29fa266a835"
   },
   "outputs": [],
   "source": [
    "3.14e310    # 大於 float 可以表達的最大數字"
   ]
  },
  {
   "cell_type": "markdown",
   "id": "located-induction",
   "metadata": {
    "id": "located-induction"
   },
   "source": [
    "<font color=#DFFF00>☘ </font>  複數 (Complex numbers) - a+bj"
   ]
  },
  {
   "cell_type": "code",
   "execution_count": null,
   "id": "opened-recipient",
   "metadata": {
    "colab": {
     "base_uri": "https://localhost:8080/"
    },
    "executionInfo": {
     "elapsed": 94,
     "status": "ok",
     "timestamp": 1649126978886,
     "user": {
      "displayName": "wien hong",
      "userId": "11131435925814580522"
     },
     "user_tz": -480
    },
    "id": "opened-recipient",
    "outputId": "6854f6b5-3ca2-4c43-f01f-110a7ff11503"
   },
   "outputs": [],
   "source": [
    "6j"
   ]
  },
  {
   "cell_type": "code",
   "execution_count": null,
   "id": "burning-reporter",
   "metadata": {
    "id": "burning-reporter"
   },
   "outputs": [],
   "source": [
    "# 2+j   # NameError: name 'j' is not defined"
   ]
  },
  {
   "cell_type": "code",
   "execution_count": null,
   "id": "under-blend",
   "metadata": {
    "colab": {
     "base_uri": "https://localhost:8080/"
    },
    "executionInfo": {
     "elapsed": 89,
     "status": "ok",
     "timestamp": 1649126978887,
     "user": {
      "displayName": "wien hong",
      "userId": "11131435925814580522"
     },
     "user_tz": -480
    },
    "id": "under-blend",
    "outputId": "e377ba7e-b227-44c2-d608-c91414114a85"
   },
   "outputs": [],
   "source": [
    "2 + 1j    # 係數 1 不能省略！"
   ]
  },
  {
   "cell_type": "code",
   "execution_count": null,
   "id": "initial-vitamin",
   "metadata": {
    "id": "initial-vitamin"
   },
   "outputs": [],
   "source": [
    "z = 5 + 3j   # 複數 z"
   ]
  },
  {
   "cell_type": "code",
   "execution_count": null,
   "id": "attended-instrumentation",
   "metadata": {
    "colab": {
     "base_uri": "https://localhost:8080/"
    },
    "executionInfo": {
     "elapsed": 86,
     "status": "ok",
     "timestamp": 1649126978889,
     "user": {
      "displayName": "wien hong",
      "userId": "11131435925814580522"
     },
     "user_tz": -480
    },
    "id": "attended-instrumentation",
    "outputId": "40b68a25-b88a-43d8-ce8c-ef7a0833e0eb"
   },
   "outputs": [],
   "source": [
    "z - 12j"
   ]
  },
  {
   "cell_type": "code",
   "execution_count": null,
   "id": "simplified-chancellor",
   "metadata": {
    "colab": {
     "base_uri": "https://localhost:8080/"
    },
    "executionInfo": {
     "elapsed": 83,
     "status": "ok",
     "timestamp": 1649126978891,
     "user": {
      "displayName": "wien hong",
      "userId": "11131435925814580522"
     },
     "user_tz": -480
    },
    "id": "simplified-chancellor",
    "outputId": "87a47296-c768-4997-8406-1c717f771292"
   },
   "outputs": [],
   "source": [
    "z.real   # real part"
   ]
  },
  {
   "cell_type": "code",
   "execution_count": null,
   "id": "framed-gates",
   "metadata": {
    "colab": {
     "base_uri": "https://localhost:8080/"
    },
    "executionInfo": {
     "elapsed": 79,
     "status": "ok",
     "timestamp": 1649126978892,
     "user": {
      "displayName": "wien hong",
      "userId": "11131435925814580522"
     },
     "user_tz": -480
    },
    "id": "framed-gates",
    "outputId": "397d654f-9de8-497a-f883-94e75abea295"
   },
   "outputs": [],
   "source": [
    "z.imag   # image part"
   ]
  },
  {
   "cell_type": "code",
   "execution_count": null,
   "id": "dental-hardware",
   "metadata": {
    "colab": {
     "base_uri": "https://localhost:8080/"
    },
    "executionInfo": {
     "elapsed": 75,
     "status": "ok",
     "timestamp": 1649126978893,
     "user": {
      "displayName": "wien hong",
      "userId": "11131435925814580522"
     },
     "user_tz": -480
    },
    "id": "dental-hardware",
    "outputId": "8ac7c207-9f89-4a39-cf3d-8beffc576a2f"
   },
   "outputs": [],
   "source": [
    "type(z)"
   ]
  },
  {
   "cell_type": "markdown",
   "id": "faced-professional",
   "metadata": {
    "id": "faced-professional"
   },
   "source": [
    "<font color=#DFFF00>☘ </font>  布林 (Boolean) - True 和 False\n",
    "Python 會將 True, False 分別轉換成數字的 1, 0。"
   ]
  },
  {
   "cell_type": "code",
   "execution_count": null,
   "id": "handed-theology",
   "metadata": {
    "colab": {
     "base_uri": "https://localhost:8080/"
    },
    "executionInfo": {
     "elapsed": 73,
     "status": "ok",
     "timestamp": 1649126978895,
     "user": {
      "displayName": "wien hong",
      "userId": "11131435925814580522"
     },
     "user_tz": -480
    },
    "id": "handed-theology",
    "outputId": "3d42af56-11ed-4e36-8ba3-ea82ad19f6fc"
   },
   "outputs": [],
   "source": [
    "1.5 > 4"
   ]
  },
  {
   "cell_type": "code",
   "execution_count": null,
   "id": "cleared-module",
   "metadata": {
    "colab": {
     "base_uri": "https://localhost:8080/"
    },
    "executionInfo": {
     "elapsed": 71,
     "status": "ok",
     "timestamp": 1649126978897,
     "user": {
      "displayName": "wien hong",
      "userId": "11131435925814580522"
     },
     "user_tz": -480
    },
    "id": "cleared-module",
    "outputId": "7e579280-484f-44fc-f1ac-a4f1df5d0a69"
   },
   "outputs": [],
   "source": [
    "5 > 3"
   ]
  },
  {
   "cell_type": "code",
   "execution_count": null,
   "id": "outdoor-helmet",
   "metadata": {
    "colab": {
     "base_uri": "https://localhost:8080/"
    },
    "executionInfo": {
     "elapsed": 66,
     "status": "ok",
     "timestamp": 1649126978898,
     "user": {
      "displayName": "wien hong",
      "userId": "11131435925814580522"
     },
     "user_tz": -480
    },
    "id": "outdoor-helmet",
    "outputId": "b0d59143-e421-4233-b94e-ce9f115b3b3d"
   },
   "outputs": [],
   "source": [
    "type(True)\n",
    "# int(True)"
   ]
  },
  {
   "cell_type": "code",
   "execution_count": null,
   "id": "assured-globe",
   "metadata": {
    "colab": {
     "base_uri": "https://localhost:8080/"
    },
    "executionInfo": {
     "elapsed": 61,
     "status": "ok",
     "timestamp": 1649126978898,
     "user": {
      "displayName": "wien hong",
      "userId": "11131435925814580522"
     },
     "user_tz": -480
    },
    "id": "assured-globe",
    "outputId": "fc3421c2-b3ba-431d-aa98-2a15e868915f"
   },
   "outputs": [],
   "source": [
    "128 > 0b100011    # 通通轉換成相同的進位制後，再進行比較！ => 0b100011 的值為 35"
   ]
  },
  {
   "cell_type": "code",
   "execution_count": null,
   "id": "statewide-vintage",
   "metadata": {
    "colab": {
     "base_uri": "https://localhost:8080/"
    },
    "executionInfo": {
     "elapsed": 58,
     "status": "ok",
     "timestamp": 1649126978899,
     "user": {
      "displayName": "wien hong",
      "userId": "11131435925814580522"
     },
     "user_tz": -480
    },
    "id": "statewide-vintage",
    "outputId": "d7a152ed-31cf-42b0-833e-19d12c9986ab"
   },
   "outputs": [],
   "source": [
    "True + 1  # True is equal to 1"
   ]
  },
  {
   "cell_type": "code",
   "execution_count": null,
   "id": "monthly-photography",
   "metadata": {
    "colab": {
     "base_uri": "https://localhost:8080/"
    },
    "executionInfo": {
     "elapsed": 53,
     "status": "ok",
     "timestamp": 1649126978899,
     "user": {
      "displayName": "wien hong",
      "userId": "11131435925814580522"
     },
     "user_tz": -480
    },
    "id": "monthly-photography",
    "outputId": "2e55d868-b633-4b8e-e873-67528a65a117"
   },
   "outputs": [],
   "source": [
    "False + True"
   ]
  },
  {
   "cell_type": "markdown",
   "id": "composed-opportunity",
   "metadata": {
    "id": "composed-opportunity"
   },
   "source": [
    "#### 2.1.2 字串型別"
   ]
  },
  {
   "cell_type": "markdown",
   "id": "UVjK5mJhRBLO",
   "metadata": {
    "id": "UVjK5mJhRBLO"
   },
   "source": [
    "<font color=#DFFF00>☘ </font>  Python 的字串是以單引號「'」或雙引號「\"」括起來\n",
    "\n",
    "<font color=#DFFF00>☘ </font>  多行的字串以連續三個單引號或雙引號括起來"
   ]
  },
  {
   "cell_type": "code",
   "execution_count": null,
   "id": "latest-prior",
   "metadata": {
    "colab": {
     "base_uri": "https://localhost:8080/",
     "height": 35
    },
    "executionInfo": {
     "elapsed": 50,
     "status": "ok",
     "timestamp": 1649126978900,
     "user": {
      "displayName": "wien hong",
      "userId": "11131435925814580522"
     },
     "user_tz": -480
    },
    "id": "latest-prior",
    "outputId": "8a3341b7-667a-42d7-a221-ccd7f194ce6d"
   },
   "outputs": [],
   "source": [
    "'a string'  # 用單引號括起來"
   ]
  },
  {
   "cell_type": "code",
   "execution_count": null,
   "id": "laden-testimony",
   "metadata": {
    "colab": {
     "base_uri": "https://localhost:8080/"
    },
    "executionInfo": {
     "elapsed": 49,
     "status": "ok",
     "timestamp": 1649126978900,
     "user": {
      "displayName": "wien hong",
      "userId": "11131435925814580522"
     },
     "user_tz": -480
    },
    "id": "laden-testimony",
    "outputId": "72c1d618-9388-4519-8cb2-c0a5eed9cbeb"
   },
   "outputs": [],
   "source": [
    "print('a string')   # 不會印出單引號"
   ]
  },
  {
   "cell_type": "code",
   "execution_count": null,
   "id": "homeless-finder",
   "metadata": {
    "colab": {
     "base_uri": "https://localhost:8080/",
     "height": 35
    },
    "executionInfo": {
     "elapsed": 854,
     "status": "ok",
     "timestamp": 1649126979710,
     "user": {
      "displayName": "wien hong",
      "userId": "11131435925814580522"
     },
     "user_tz": -480
    },
    "id": "homeless-finder",
    "outputId": "1aa8cdd8-a07b-45cd-bf60-a505185ca940"
   },
   "outputs": [],
   "source": [
    "\"another string\"   # 也可以用雙引號括起來"
   ]
  },
  {
   "cell_type": "code",
   "execution_count": null,
   "id": "appreciated-shakespeare",
   "metadata": {
    "id": "appreciated-shakespeare"
   },
   "outputs": [],
   "source": [
    "s = 'Hello Python'"
   ]
  },
  {
   "cell_type": "code",
   "execution_count": null,
   "id": "technical-promotion",
   "metadata": {
    "colab": {
     "base_uri": "https://localhost:8080/"
    },
    "executionInfo": {
     "elapsed": 111,
     "status": "ok",
     "timestamp": 1649126979711,
     "user": {
      "displayName": "wien hong",
      "userId": "11131435925814580522"
     },
     "user_tz": -480
    },
    "id": "technical-promotion",
    "outputId": "77d03cf1-6ec3-49e4-bce8-6f40b5082088"
   },
   "outputs": [],
   "source": [
    "type(s)"
   ]
  },
  {
   "cell_type": "code",
   "execution_count": null,
   "id": "gross-apparatus",
   "metadata": {
    "colab": {
     "base_uri": "https://localhost:8080/"
    },
    "executionInfo": {
     "elapsed": 107,
     "status": "ok",
     "timestamp": 1649126979712,
     "user": {
      "displayName": "wien hong",
      "userId": "11131435925814580522"
     },
     "user_tz": -480
    },
    "id": "gross-apparatus",
    "outputId": "32f03cb9-1eb4-4ef0-a917-7f2276f6e201"
   },
   "outputs": [],
   "source": [
    "type('y')    # a single character string"
   ]
  },
  {
   "cell_type": "code",
   "execution_count": null,
   "id": "pregnant-prompt",
   "metadata": {
    "colab": {
     "base_uri": "https://localhost:8080/",
     "height": 35
    },
    "executionInfo": {
     "elapsed": 104,
     "status": "ok",
     "timestamp": 1649126979714,
     "user": {
      "displayName": "wien hong",
      "userId": "11131435925814580522"
     },
     "user_tz": -480
    },
    "id": "pregnant-prompt",
    "outputId": "9baa6ea9-e9b3-4e7b-982f-3eed746f2a61"
   },
   "outputs": [],
   "source": [
    "'''\n",
    "This is a\n",
    "multiple line string\n",
    "'''\n",
    "print(com)"
   ]
  },
  {
   "cell_type": "code",
   "execution_count": null,
   "id": "naval-photograph",
   "metadata": {
    "colab": {
     "base_uri": "https://localhost:8080/",
     "height": 35
    },
    "executionInfo": {
     "elapsed": 103,
     "status": "ok",
     "timestamp": 1649126979715,
     "user": {
      "displayName": "wien hong",
      "userId": "11131435925814580522"
     },
     "user_tz": -480
    },
    "id": "naval-photograph",
    "outputId": "bdfbe3b1-d6d8-4eb0-ca22-f9d002831aee"
   },
   "outputs": [],
   "source": [
    "\"\"\"A single line string\"\"\""
   ]
  },
  {
   "cell_type": "markdown",
   "id": "numerical-kernel",
   "metadata": {
    "id": "numerical-kernel"
   },
   "source": [
    "### 2.2 變數與常數\n",
    "<font color=#DFFF00>☘ </font>  Python 的變數是屬於動態型別（Dynamically typed），也就是變數的型別會隨著它綁定的內容而變化。"
   ]
  },
  {
   "cell_type": "code",
   "execution_count": null,
   "id": "nervous-western",
   "metadata": {
    "id": "nervous-western"
   },
   "outputs": [],
   "source": [
    "a = 12    # a is an integer"
   ]
  },
  {
   "cell_type": "code",
   "execution_count": null,
   "id": "dressed-overhead",
   "metadata": {
    "colab": {
     "base_uri": "https://localhost:8080/"
    },
    "executionInfo": {
     "elapsed": 102,
     "status": "ok",
     "timestamp": 1649126979716,
     "user": {
      "displayName": "wien hong",
      "userId": "11131435925814580522"
     },
     "user_tz": -480
    },
    "id": "dressed-overhead",
    "outputId": "5529eec6-1346-4d41-8b60-573a30ff2642"
   },
   "outputs": [],
   "source": [
    "type(a)"
   ]
  },
  {
   "cell_type": "code",
   "execution_count": null,
   "id": "animal-depression",
   "metadata": {
    "id": "animal-depression"
   },
   "outputs": [],
   "source": [
    "a = 3.14   # re-assign a to a float"
   ]
  },
  {
   "cell_type": "code",
   "execution_count": null,
   "id": "fifteen-saturday",
   "metadata": {
    "colab": {
     "base_uri": "https://localhost:8080/"
    },
    "executionInfo": {
     "elapsed": 96,
     "status": "ok",
     "timestamp": 1649126979717,
     "user": {
      "displayName": "wien hong",
      "userId": "11131435925814580522"
     },
     "user_tz": -480
    },
    "id": "fifteen-saturday",
    "outputId": "fbb75c6c-babf-4cde-d17d-774a9f58bd70"
   },
   "outputs": [],
   "source": [
    "type(a)"
   ]
  },
  {
   "cell_type": "code",
   "execution_count": null,
   "id": "dutch-leather",
   "metadata": {
    "id": "dutch-leather"
   },
   "outputs": [],
   "source": [
    "a = b = c = 12    # 設定 3 個變數的值均為 12"
   ]
  },
  {
   "cell_type": "code",
   "execution_count": null,
   "id": "champion-serial",
   "metadata": {
    "colab": {
     "base_uri": "https://localhost:8080/"
    },
    "executionInfo": {
     "elapsed": 92,
     "status": "ok",
     "timestamp": 1649126979718,
     "user": {
      "displayName": "wien hong",
      "userId": "11131435925814580522"
     },
     "user_tz": -480
    },
    "id": "champion-serial",
    "outputId": "1c65b31a-7a54-4c9f-efd0-a5c2cd2df11a"
   },
   "outputs": [],
   "source": [
    "print(a, b, c)"
   ]
  },
  {
   "cell_type": "code",
   "execution_count": null,
   "id": "prepared-choice",
   "metadata": {
    "id": "prepared-choice"
   },
   "outputs": [],
   "source": [
    "a, b, c = 10, 3.14, 'Python'  # assign 3 values to 3 variables simultaneously"
   ]
  },
  {
   "cell_type": "code",
   "execution_count": null,
   "id": "generous-newport",
   "metadata": {
    "colab": {
     "base_uri": "https://localhost:8080/"
    },
    "executionInfo": {
     "elapsed": 92,
     "status": "ok",
     "timestamp": 1649126979724,
     "user": {
      "displayName": "wien hong",
      "userId": "11131435925814580522"
     },
     "user_tz": -480
    },
    "id": "generous-newport",
    "outputId": "51cc68fb-9e14-4df3-eda1-2efc267d13d3"
   },
   "outputs": [],
   "source": [
    "print(a, b, c)"
   ]
  },
  {
   "cell_type": "code",
   "execution_count": null,
   "id": "honest-people",
   "metadata": {
    "id": "honest-people"
   },
   "outputs": [],
   "source": [
    "age = 20; name = 'Python'   # two assignments, separated by ';'"
   ]
  },
  {
   "cell_type": "code",
   "execution_count": null,
   "id": "frequent-energy",
   "metadata": {
    "colab": {
     "base_uri": "https://localhost:8080/"
    },
    "executionInfo": {
     "elapsed": 93,
     "status": "ok",
     "timestamp": 1649126979730,
     "user": {
      "displayName": "wien hong",
      "userId": "11131435925814580522"
     },
     "user_tz": -480
    },
    "id": "frequent-energy",
    "outputId": "5a0c5b00-0cc2-42a7-a3af-072f0518ed7b"
   },
   "outputs": [],
   "source": [
    "print(age, name)"
   ]
  },
  {
   "cell_type": "code",
   "execution_count": null,
   "id": "focal-beginning",
   "metadata": {
    "id": "focal-beginning"
   },
   "outputs": [],
   "source": [
    "PI = 3.14159     #   習慣上，常數會用大寫的字母來命名"
   ]
  },
  {
   "cell_type": "markdown",
   "id": "Qq_jR7Rb8mSb",
   "metadata": {
    "id": "Qq_jR7Rb8mSb"
   },
   "source": [
    "* Python 的常數 \\\n",
    "<font color='red'>建議使用大寫字母</font>，不過這是給 programmer 參考，實際上仍然可以更改其值！"
   ]
  },
  {
   "cell_type": "code",
   "execution_count": null,
   "id": "persistent-warning",
   "metadata": {
    "id": "persistent-warning"
   },
   "outputs": [],
   "source": [
    "MAX_SIZE = 256"
   ]
  },
  {
   "cell_type": "code",
   "execution_count": null,
   "id": "exposed-course",
   "metadata": {
    "colab": {
     "base_uri": "https://localhost:8080/"
    },
    "executionInfo": {
     "elapsed": 92,
     "status": "ok",
     "timestamp": 1649126979734,
     "user": {
      "displayName": "wien hong",
      "userId": "11131435925814580522"
     },
     "user_tz": -480
    },
    "id": "exposed-course",
    "outputId": "ca44877e-c14b-4799-fdd5-e78711f5cfac"
   },
   "outputs": [],
   "source": [
    "True + 2    # True 的值為 1"
   ]
  },
  {
   "cell_type": "code",
   "execution_count": null,
   "id": "hearing-timothy",
   "metadata": {
    "id": "hearing-timothy"
   },
   "outputs": [],
   "source": [
    "# True = 10  # SyntaxError: cannot assign to True"
   ]
  },
  {
   "cell_type": "markdown",
   "id": "failing-cocktail",
   "metadata": {
    "id": "failing-cocktail"
   },
   "source": [
    "### 2.3 常用的運算子"
   ]
  },
  {
   "cell_type": "markdown",
   "id": "indonesian-testimony",
   "metadata": {
    "id": "indonesian-testimony"
   },
   "source": [
    "#### 2.3.1 算術運算子"
   ]
  },
  {
   "cell_type": "markdown",
   "id": "r-e-PBnCCYoA",
   "metadata": {
    "id": "r-e-PBnCCYoA"
   },
   "source": [
    "<font color=#DB9B1A>- 算術運算子 - </font>\n",
    "* $+~:~~$加法運算子（或是一元的正號運算子）\n",
    "* $-~:~~$減法運算子（或是一元的負號運算子）\n",
    "* $*~~:~~$乘法運算子\n",
    "* $/~~:~~$浮點數除法運算子（計算結果為浮點數）\n",
    "* $//:~~$整數除法運算子（計算結果為整數）\n",
    "* $\\%~:~~$餘數運算子\n",
    "* $**:~~$次方運算子\n"
   ]
  },
  {
   "cell_type": "code",
   "execution_count": null,
   "id": "fifth-picture",
   "metadata": {
    "colab": {
     "base_uri": "https://localhost:8080/"
    },
    "executionInfo": {
     "elapsed": 86,
     "status": "ok",
     "timestamp": 1649126979736,
     "user": {
      "displayName": "wien hong",
      "userId": "11131435925814580522"
     },
     "user_tz": -480
    },
    "id": "fifth-picture",
    "outputId": "4826cb96-c736-4a3b-feca-3b4651231d90"
   },
   "outputs": [],
   "source": [
    "5 + 4"
   ]
  },
  {
   "cell_type": "code",
   "execution_count": null,
   "id": "progressive-influence",
   "metadata": {
    "colab": {
     "base_uri": "https://localhost:8080/"
    },
    "executionInfo": {
     "elapsed": 81,
     "status": "ok",
     "timestamp": 1649126979736,
     "user": {
      "displayName": "wien hong",
      "userId": "11131435925814580522"
     },
     "user_tz": -480
    },
    "id": "progressive-influence",
    "outputId": "2b56e9a0-1010-4d26-d441-261c6c0042a4"
   },
   "outputs": [],
   "source": [
    "+50   # Positive sign"
   ]
  },
  {
   "cell_type": "code",
   "execution_count": null,
   "id": "wired-somewhere",
   "metadata": {
    "colab": {
     "base_uri": "https://localhost:8080/"
    },
    "executionInfo": {
     "elapsed": 77,
     "status": "ok",
     "timestamp": 1649126979737,
     "user": {
      "displayName": "wien hong",
      "userId": "11131435925814580522"
     },
     "user_tz": -480
    },
    "id": "wired-somewhere",
    "outputId": "e2964753-d979-42e0-c56e-cc34d6a533ed"
   },
   "outputs": [],
   "source": [
    "-100  # Negative sign"
   ]
  },
  {
   "cell_type": "code",
   "execution_count": null,
   "id": "automotive-budget",
   "metadata": {
    "colab": {
     "base_uri": "https://localhost:8080/"
    },
    "executionInfo": {
     "elapsed": 72,
     "status": "ok",
     "timestamp": 1649126979737,
     "user": {
      "displayName": "wien hong",
      "userId": "11131435925814580522"
     },
     "user_tz": -480
    },
    "id": "automotive-budget",
    "outputId": "ff010bde-f717-417f-db57-3ab66252cbe3"
   },
   "outputs": [],
   "source": [
    "20 * 4"
   ]
  },
  {
   "cell_type": "code",
   "execution_count": null,
   "id": "widespread-workstation",
   "metadata": {
    "colab": {
     "base_uri": "https://localhost:8080/"
    },
    "executionInfo": {
     "elapsed": 68,
     "status": "ok",
     "timestamp": 1649126979737,
     "user": {
      "displayName": "wien hong",
      "userId": "11131435925814580522"
     },
     "user_tz": -480
    },
    "id": "widespread-workstation",
    "outputId": "bf74aff7-b99b-4ccf-c918-5030c62d875a"
   },
   "outputs": [],
   "source": [
    "60 / 4"
   ]
  },
  {
   "cell_type": "code",
   "execution_count": null,
   "id": "medieval-oriental",
   "metadata": {
    "colab": {
     "base_uri": "https://localhost:8080/"
    },
    "executionInfo": {
     "elapsed": 65,
     "status": "ok",
     "timestamp": 1649126979738,
     "user": {
      "displayName": "wien hong",
      "userId": "11131435925814580522"
     },
     "user_tz": -480
    },
    "id": "medieval-oriental",
    "outputId": "321f3467-c293-42fd-9402-475a161cf201"
   },
   "outputs": [],
   "source": [
    "20 // 3    # 整數運算"
   ]
  },
  {
   "cell_type": "code",
   "execution_count": null,
   "id": "incredible-treatment",
   "metadata": {
    "colab": {
     "base_uri": "https://localhost:8080/"
    },
    "executionInfo": {
     "elapsed": 61,
     "status": "ok",
     "timestamp": 1649126979738,
     "user": {
      "displayName": "wien hong",
      "userId": "11131435925814580522"
     },
     "user_tz": -480
    },
    "id": "incredible-treatment",
    "outputId": "199ad4ed-0225-48bd-eeff-5d84595245d8"
   },
   "outputs": [],
   "source": [
    "20 % 3     # 取餘數"
   ]
  },
  {
   "cell_type": "code",
   "execution_count": null,
   "id": "distinguished-baseball",
   "metadata": {
    "colab": {
     "base_uri": "https://localhost:8080/"
    },
    "executionInfo": {
     "elapsed": 55,
     "status": "ok",
     "timestamp": 1649126979738,
     "user": {
      "displayName": "wien hong",
      "userId": "11131435925814580522"
     },
     "user_tz": -480
    },
    "id": "distinguished-baseball",
    "outputId": "e4324f2c-3553-4c59-fe1e-252ac46ba9fb"
   },
   "outputs": [],
   "source": [
    "12 % 3.5   # 運算結果可以帶有小數"
   ]
  },
  {
   "cell_type": "code",
   "execution_count": null,
   "id": "integral-council",
   "metadata": {
    "colab": {
     "base_uri": "https://localhost:8080/"
    },
    "executionInfo": {
     "elapsed": 51,
     "status": "ok",
     "timestamp": 1649126979739,
     "user": {
      "displayName": "wien hong",
      "userId": "11131435925814580522"
     },
     "user_tz": -480
    },
    "id": "integral-council",
    "outputId": "fa3b4c4f-263a-4b59-ebdf-63dbfadd9a69"
   },
   "outputs": [],
   "source": [
    "2 ** 10    # 次方"
   ]
  },
  {
   "cell_type": "code",
   "execution_count": null,
   "id": "level-warner",
   "metadata": {
    "colab": {
     "base_uri": "https://localhost:8080/"
    },
    "executionInfo": {
     "elapsed": 47,
     "status": "ok",
     "timestamp": 1649126979739,
     "user": {
      "displayName": "wien hong",
      "userId": "11131435925814580522"
     },
     "user_tz": -480
    },
    "id": "level-warner",
    "outputId": "23d91299-42c6-44b8-8aeb-3c3e7b689784"
   },
   "outputs": [],
   "source": [
    "2 ** 0.5   # 開根號\n",
    "\n",
    "'''\n",
    "# 底下的寫法與上述的指令有相同的結果。\n",
    "import math\n",
    "math.sqrt(2)\n",
    "'''"
   ]
  },
  {
   "cell_type": "markdown",
   "id": "funny-exhibition",
   "metadata": {
    "id": "funny-exhibition"
   },
   "source": [
    "#### 2.3.2 比較運算子"
   ]
  },
  {
   "cell_type": "markdown",
   "id": "ozOmjzs6FBFZ",
   "metadata": {
    "id": "ozOmjzs6FBFZ"
   },
   "source": [
    "<font color=#DB9B1A>- 比較運算子 - </font>\n",
    "* $>~~~~:~~$大於運算子\n",
    "* $>=~:~~$大於等於運算子\n",
    "* $<~~~~:~~$小於運算子\n",
    "* $<=~:~~$小於等於運算子\n",
    "* $==~:~~$等於運算子\n",
    "* $!=~~:~~$不等於運算子"
   ]
  },
  {
   "cell_type": "code",
   "execution_count": null,
   "id": "connected-mississippi",
   "metadata": {
    "colab": {
     "base_uri": "https://localhost:8080/"
    },
    "executionInfo": {
     "elapsed": 38,
     "status": "ok",
     "timestamp": 1649126980405,
     "user": {
      "displayName": "wien hong",
      "userId": "11131435925814580522"
     },
     "user_tz": -480
    },
    "id": "connected-mississippi",
    "outputId": "412f9e9c-a582-4508-afd1-ef07b22fcc27"
   },
   "outputs": [],
   "source": [
    "120 > 32.5"
   ]
  },
  {
   "cell_type": "code",
   "execution_count": null,
   "id": "meaning-reputation",
   "metadata": {
    "colab": {
     "base_uri": "https://localhost:8080/"
    },
    "executionInfo": {
     "elapsed": 30,
     "status": "ok",
     "timestamp": 1649126980407,
     "user": {
      "displayName": "wien hong",
      "userId": "11131435925814580522"
     },
     "user_tz": -480
    },
    "id": "meaning-reputation",
    "outputId": "1688e16b-0cbc-4e32-ff96-ac96973df9ba"
   },
   "outputs": [],
   "source": [
    "7 >= 12"
   ]
  },
  {
   "cell_type": "code",
   "execution_count": null,
   "id": "fitting-kruger",
   "metadata": {
    "colab": {
     "base_uri": "https://localhost:8080/"
    },
    "executionInfo": {
     "elapsed": 25,
     "status": "ok",
     "timestamp": 1649126980407,
     "user": {
      "displayName": "wien hong",
      "userId": "11131435925814580522"
     },
     "user_tz": -480
    },
    "id": "fitting-kruger",
    "outputId": "1900ef29-2d74-43ae-9b18-70a9e4c7a537"
   },
   "outputs": [],
   "source": [
    "# ASCII(American Standerd Codes for Information Interchange): 數字，英文字大小寫！ (從小到大)\n",
    "\n",
    "'Cats' < 'cat'   # C 的 ASCII 為 67，c 為 99"
   ]
  },
  {
   "cell_type": "code",
   "execution_count": null,
   "id": "fundamental-curve",
   "metadata": {
    "colab": {
     "base_uri": "https://localhost:8080/"
    },
    "executionInfo": {
     "elapsed": 22,
     "status": "ok",
     "timestamp": 1649126980408,
     "user": {
      "displayName": "wien hong",
      "userId": "11131435925814580522"
     },
     "user_tz": -480
    },
    "id": "fundamental-curve",
    "outputId": "4eaea199-8553-488e-802b-5863b782de70"
   },
   "outputs": [],
   "source": [
    "print(ord('C'), ord('c'))"
   ]
  },
  {
   "cell_type": "markdown",
   "id": "concrete-cooling",
   "metadata": {
    "id": "concrete-cooling"
   },
   "source": [
    "<font color=#DFFF00>☘ </font>  ASCII Code https://www.ascii-code.com/\n",
    "---\n",
    "**數字、英文字 大 小 寫**: 請以此順序來記 ASCII code 的大小順序！"
   ]
  },
  {
   "cell_type": "code",
   "execution_count": null,
   "id": "c2fb6373",
   "metadata": {},
   "outputs": [],
   "source": [
    "'''\n",
    "顯示 ASCII code 介於 32 ~ 127 的內容:\n",
    "chr(number): 將 ASCII 數值轉換成對應的字元。\n",
    "ord(char): 轉換成字元 char 對應的 ASCII 數值。\n",
    "'''\n",
    "# 底下程式用來印出控制碼除外的所有 ASCII codes，方便隨時檢視與鍛鍊程式輸出練習。\n",
    "for code in range(30, 128):\n",
    "    if code < 32:\n",
    "        print(' ' * 7, end=\" \")\n",
    "    else:\n",
    "        print(f\"{chr(code)}:{code:3}\", end=\",  \")\n",
    "        \n",
    "    if (code + 1) % 10 == 0:  # 每10個就換行！ 從0到9。\n",
    "        print()"
   ]
  },
  {
   "cell_type": "code",
   "execution_count": null,
   "id": "junior-arabic",
   "metadata": {
    "colab": {
     "base_uri": "https://localhost:8080/"
    },
    "executionInfo": {
     "elapsed": 18,
     "status": "ok",
     "timestamp": 1649126980408,
     "user": {
      "displayName": "wien hong",
      "userId": "11131435925814580522"
     },
     "user_tz": -480
    },
    "id": "junior-arabic",
    "outputId": "0aab8742-ad5f-4d59-de34-b3196f49d8cf"
   },
   "outputs": [],
   "source": [
    "12 == 12.  # 整數與浮點數，兩個連續的等號 ==，表示比較在其左右的內容是否相等！"
   ]
  },
  {
   "cell_type": "code",
   "execution_count": null,
   "id": "convinced-wichita",
   "metadata": {
    "colab": {
     "base_uri": "https://localhost:8080/"
    },
    "executionInfo": {
     "elapsed": 15,
     "status": "ok",
     "timestamp": 1649126980409,
     "user": {
      "displayName": "wien hong",
      "userId": "11131435925814580522"
     },
     "user_tz": -480
    },
    "id": "convinced-wichita",
    "outputId": "5613b3f0-e71e-4f56-853a-7a50ae8c758f"
   },
   "outputs": [],
   "source": [
    "'Python' != 'Java'"
   ]
  },
  {
   "cell_type": "markdown",
   "id": "electronic-manner",
   "metadata": {
    "id": "electronic-manner"
   },
   "source": [
    "#### 2.3.2 邏輯運算子"
   ]
  },
  {
   "cell_type": "markdown",
   "id": "FbmDZmjRGl6h",
   "metadata": {
    "id": "FbmDZmjRGl6h"
   },
   "source": [
    "<font color=#DB9B1A>- 邏輯運算子 - </font>\n",
    "* 當條件不只一個時，就需要進行組合，以 and, or, not 來組合。\n",
    "* and : 兩個運算元都是 True，則回應 True\n",
    "* or&nbsp;&nbsp;&nbsp;&nbsp;: 只要一個運算元是 True，便回應 True\n",
    "* not : 如果運算元是 True，則回應 False，否則回應 True\n",
    "---\n",
    "|A and B| T | F |\n",
    "|:---:|:---:|:---:|  \n",
    "| T | T | F |        \n",
    "| F | F  |F |\n",
    "\n",
    "|A or B| T | F |      \n",
    "|:---:|:---:|:---:|\n",
    "| T | T | T |\n",
    "| F | T  |F |\n",
    "\n",
    "<img src='./images/AB-and-or-switch.jpg' width=400>"
   ]
  },
  {
   "cell_type": "markdown",
   "id": "RhjqiBe1Js6c",
   "metadata": {
    "id": "RhjqiBe1Js6c"
   },
   "source": [
    "<font color=#DFFF00>☘ </font>  Python 把 0、空字串 與 None 均視為 False，其它的變數都看成是 True"
   ]
  },
  {
   "cell_type": "code",
   "execution_count": null,
   "id": "wound-damage",
   "metadata": {
    "colab": {
     "base_uri": "https://localhost:8080/"
    },
    "executionInfo": {
     "elapsed": 94,
     "status": "ok",
     "timestamp": 1649126981348,
     "user": {
      "displayName": "wien hong",
      "userId": "11131435925814580522"
     },
     "user_tz": -480
    },
    "id": "wound-damage",
    "outputId": "cf5059a8-5ceb-4d67-9aa8-56a3c2a5b7c5"
   },
   "outputs": [],
   "source": [
    "5 < 3 and 6 < 10     # 第一個運算元為 False"
   ]
  },
  {
   "cell_type": "code",
   "execution_count": null,
   "id": "sealed-radio",
   "metadata": {
    "colab": {
     "base_uri": "https://localhost:8080/"
    },
    "executionInfo": {
     "elapsed": 84,
     "status": "ok",
     "timestamp": 1649126981349,
     "user": {
      "displayName": "wien hong",
      "userId": "11131435925814580522"
     },
     "user_tz": -480
    },
    "id": "sealed-radio",
    "outputId": "4173b323-3bc7-43fd-c077-12416774fb16"
   },
   "outputs": [],
   "source": [
    "4 < 7 and 8 < 7 and 3 > 0   # 第二和三個運算元為 False"
   ]
  },
  {
   "cell_type": "code",
   "execution_count": null,
   "id": "traditional-tactics",
   "metadata": {
    "colab": {
     "base_uri": "https://localhost:8080/"
    },
    "executionInfo": {
     "elapsed": 78,
     "status": "ok",
     "timestamp": 1649126981350,
     "user": {
      "displayName": "wien hong",
      "userId": "11131435925814580522"
     },
     "user_tz": -480
    },
    "id": "traditional-tactics",
    "outputId": "33f56386-f75f-4423-9d46-0716a21d4417"
   },
   "outputs": [],
   "source": [
    "4 < 5 or 9 > 12    # 第一個運算元為 True"
   ]
  },
  {
   "cell_type": "code",
   "execution_count": null,
   "id": "affiliated-vanilla",
   "metadata": {
    "colab": {
     "base_uri": "https://localhost:8080/"
    },
    "executionInfo": {
     "elapsed": 74,
     "status": "ok",
     "timestamp": 1649126981351,
     "user": {
      "displayName": "wien hong",
      "userId": "11131435925814580522"
     },
     "user_tz": -480
    },
    "id": "affiliated-vanilla",
    "outputId": "cdc2dbeb-42c6-41c6-d1b3-c2261fc40d9d"
   },
   "outputs": [],
   "source": [
    "'a'=='b' or 7==7 and 8 < 50  # and 運算次序高於 or, 不是很確定時，使用括號()來變更運算的順序！\n",
    "\n",
    "# above same as:\n",
    "#'a'=='b' or (7==7 and 8 < 50)"
   ]
  },
  {
   "cell_type": "markdown",
   "id": "c27c1792",
   "metadata": {},
   "source": [
    "[Python運算子的優先順序](https://www.programiz.com/python-programming/precedence-associativity)"
   ]
  },
  {
   "cell_type": "code",
   "execution_count": null,
   "id": "AwvHeBTOTaog",
   "metadata": {
    "colab": {
     "base_uri": "https://localhost:8080/"
    },
    "executionInfo": {
     "elapsed": 7,
     "status": "ok",
     "timestamp": 1650094624906,
     "user": {
      "displayName": "wien hong",
      "userId": "11131435925814580522"
     },
     "user_tz": -480
    },
    "id": "AwvHeBTOTaog",
    "outputId": "cc45690d-6a21-4230-a9f3-eb02975def4a"
   },
   "outputs": [],
   "source": [
    "('a'=='a' or 7==2) and 8 < 5  # 如要讓 or 先算"
   ]
  },
  {
   "cell_type": "code",
   "execution_count": null,
   "id": "amended-allah",
   "metadata": {
    "colab": {
     "base_uri": "https://localhost:8080/"
    },
    "executionInfo": {
     "elapsed": 70,
     "status": "ok",
     "timestamp": 1649126981352,
     "user": {
      "displayName": "wien hong",
      "userId": "11131435925814580522"
     },
     "user_tz": -480
    },
    "id": "amended-allah",
    "outputId": "c97d3963-f641-4a0d-fe86-802828a71865"
   },
   "outputs": [],
   "source": [
    "not 2**3 < 10   #  ** 運算次序最高，再來是 <，再來是 not"
   ]
  },
  {
   "cell_type": "markdown",
   "id": "MPSD7s1HIbJ4",
   "metadata": {
    "id": "MPSD7s1HIbJ4"
   },
   "source": [
    "<font color=#DB9B1A>- bool() 函數的用法 - </font>\n",
    "* bool(x)：將變數 x 轉成布林（bool）型別。\\\n",
    "  如果沒有給任何的參數，空字串，內容為空的資料結構，則回應 False"
   ]
  },
  {
   "cell_type": "code",
   "execution_count": null,
   "id": "optional-sheriff",
   "metadata": {
    "colab": {
     "base_uri": "https://localhost:8080/"
    },
    "executionInfo": {
     "elapsed": 67,
     "status": "ok",
     "timestamp": 1649126981355,
     "user": {
      "displayName": "wien hong",
      "userId": "11131435925814580522"
     },
     "user_tz": -480
    },
    "id": "optional-sheriff",
    "outputId": "eed14726-d2f4-4743-a1f3-5be5a0ff35e7"
   },
   "outputs": [],
   "source": [
    "bool('cat')"
   ]
  },
  {
   "cell_type": "code",
   "execution_count": null,
   "id": "according-buffalo",
   "metadata": {
    "colab": {
     "base_uri": "https://localhost:8080/"
    },
    "executionInfo": {
     "elapsed": 61,
     "status": "ok",
     "timestamp": 1649126981355,
     "user": {
      "displayName": "wien hong",
      "userId": "11131435925814580522"
     },
     "user_tz": -480
    },
    "id": "according-buffalo",
    "outputId": "f8d0e26b-5de8-4df5-9f45-4eeab0c12002"
   },
   "outputs": [],
   "source": [
    "not 'cat'"
   ]
  },
  {
   "cell_type": "code",
   "execution_count": null,
   "id": "integrated-requirement",
   "metadata": {
    "colab": {
     "base_uri": "https://localhost:8080/"
    },
    "executionInfo": {
     "elapsed": 58,
     "status": "ok",
     "timestamp": 1649126981356,
     "user": {
      "displayName": "wien hong",
      "userId": "11131435925814580522"
     },
     "user_tz": -480
    },
    "id": "integrated-requirement",
    "outputId": "a4eb82b7-4096-4916-d30e-8856da9f3638"
   },
   "outputs": [],
   "source": [
    "bool()"
   ]
  },
  {
   "cell_type": "code",
   "execution_count": null,
   "id": "random-hindu",
   "metadata": {
    "colab": {
     "base_uri": "https://localhost:8080/"
    },
    "executionInfo": {
     "elapsed": 57,
     "status": "ok",
     "timestamp": 1649126981360,
     "user": {
      "displayName": "wien hong",
      "userId": "11131435925814580522"
     },
     "user_tz": -480
    },
    "id": "random-hindu",
    "outputId": "b8fcaad4-4725-4c6d-a70f-793be37abbe2"
   },
   "outputs": [],
   "source": [
    "bool(3.14)"
   ]
  },
  {
   "cell_type": "code",
   "execution_count": null,
   "id": "silver-crowd",
   "metadata": {
    "colab": {
     "base_uri": "https://localhost:8080/"
    },
    "executionInfo": {
     "elapsed": 52,
     "status": "ok",
     "timestamp": 1649126981360,
     "user": {
      "displayName": "wien hong",
      "userId": "11131435925814580522"
     },
     "user_tz": -480
    },
    "id": "silver-crowd",
    "outputId": "98b9a589-8239-4765-dc1e-685df4dbf49c"
   },
   "outputs": [],
   "source": [
    "bool('')  # [], (), {}, None"
   ]
  },
  {
   "cell_type": "code",
   "execution_count": null,
   "id": "irish-soccer",
   "metadata": {
    "colab": {
     "base_uri": "https://localhost:8080/"
    },
    "executionInfo": {
     "elapsed": 49,
     "status": "ok",
     "timestamp": 1649126981361,
     "user": {
      "displayName": "wien hong",
      "userId": "11131435925814580522"
     },
     "user_tz": -480
    },
    "id": "irish-soccer",
    "outputId": "78068b03-572c-4b73-ad09-4d5bdae939de"
   },
   "outputs": [],
   "source": [
    "bool(0.000)"
   ]
  },
  {
   "cell_type": "code",
   "execution_count": null,
   "id": "domestic-subject",
   "metadata": {
    "colab": {
     "base_uri": "https://localhost:8080/"
    },
    "executionInfo": {
     "elapsed": 45,
     "status": "ok",
     "timestamp": 1649126981362,
     "user": {
      "displayName": "wien hong",
      "userId": "11131435925814580522"
     },
     "user_tz": -480
    },
    "id": "domestic-subject",
    "outputId": "a1357f72-384e-4a43-97cc-800c028fee66"
   },
   "outputs": [],
   "source": [
    "bool(0.000000001)"
   ]
  },
  {
   "cell_type": "markdown",
   "id": "offshore-mexico",
   "metadata": {
    "id": "offshore-mexico"
   },
   "source": [
    "<font color=#DFFF00>☘ </font>  and <font color='tomato'>會從左到右掃描每一個運算元，並傳回第一個不是 True 的運算元；\\\n",
    "    如果都是 True，則傳回最後一個運算元，其結果可能是True，False 或 字串。</font>\n",
    "\n",
    "<font color=#DFFF00>☘ </font>   or <font color='tomato'>是傳回第一個是 True 的運算元；\\\n",
    "    如果都是 False，則傳回最後一個運算元，則傳回最後一個運算元，其結果可能是True，False 或 字串。。</font>"
   ]
  },
  {
   "cell_type": "code",
   "execution_count": null,
   "id": "central-pharmacology",
   "metadata": {
    "colab": {
     "base_uri": "https://localhost:8080/"
    },
    "executionInfo": {
     "elapsed": 41,
     "status": "ok",
     "timestamp": 1649126981362,
     "user": {
      "displayName": "wien hong",
      "userId": "11131435925814580522"
     },
     "user_tz": -480
    },
    "id": "central-pharmacology",
    "outputId": "6bc4ec04-3b31-400b-8ef5-7f4ac1ed0606"
   },
   "outputs": [],
   "source": [
    "5!=7 and 6 < 0 and 8==8    # 第二個運算元為 False"
   ]
  },
  {
   "cell_type": "code",
   "execution_count": null,
   "id": "forward-concentrate",
   "metadata": {
    "colab": {
     "base_uri": "https://localhost:8080/",
     "height": 35
    },
    "executionInfo": {
     "elapsed": 38,
     "status": "ok",
     "timestamp": 1649126981363,
     "user": {
      "displayName": "wien hong",
      "userId": "11131435925814580522"
     },
     "user_tz": -480
    },
    "id": "forward-concentrate",
    "outputId": "6af5e983-360f-494d-ad6d-3102e1a88b10"
   },
   "outputs": [],
   "source": [
    "'cat' and 'pig'  # 'cat' 與 'pig' 都是 True"
   ]
  },
  {
   "cell_type": "code",
   "execution_count": null,
   "id": "structural-economics",
   "metadata": {
    "colab": {
     "base_uri": "https://localhost:8080/",
     "height": 35
    },
    "executionInfo": {
     "elapsed": 38,
     "status": "ok",
     "timestamp": 1649126981364,
     "user": {
      "displayName": "wien hong",
      "userId": "11131435925814580522"
     },
     "user_tz": -480
    },
    "id": "structural-economics",
    "outputId": "bb9e25b5-f1ad-4fea-b72b-25f08068ffaa"
   },
   "outputs": [],
   "source": [
    "'cat' and 'pig' and 'dog'"
   ]
  },
  {
   "cell_type": "code",
   "execution_count": null,
   "id": "rural-process",
   "metadata": {
    "colab": {
     "base_uri": "https://localhost:8080/",
     "height": 35
    },
    "executionInfo": {
     "elapsed": 39,
     "status": "ok",
     "timestamp": 1649126981366,
     "user": {
      "displayName": "wien hong",
      "userId": "11131435925814580522"
     },
     "user_tz": -480
    },
    "id": "rural-process",
    "outputId": "09cddedd-152d-4a0a-fcb8-847950d32af9"
   },
   "outputs": [],
   "source": [
    "'cat' or 'pig'"
   ]
  },
  {
   "cell_type": "code",
   "execution_count": null,
   "id": "charged-england",
   "metadata": {
    "colab": {
     "base_uri": "https://localhost:8080/",
     "height": 35
    },
    "executionInfo": {
     "elapsed": 39,
     "status": "ok",
     "timestamp": 1649126981367,
     "user": {
      "displayName": "wien hong",
      "userId": "11131435925814580522"
     },
     "user_tz": -480
    },
    "id": "charged-england",
    "outputId": "0ebaaea0-2736-47c5-971d-740bfe8fe9ff"
   },
   "outputs": [],
   "source": [
    "'' or 'pig'"
   ]
  },
  {
   "cell_type": "markdown",
   "id": "stable-kenya",
   "metadata": {
    "id": "stable-kenya"
   },
   "source": [
    "#### 2.3.4 位元運算子\n"
   ]
  },
  {
   "cell_type": "markdown",
   "id": "04XGB6eLI1rZ",
   "metadata": {
    "id": "04XGB6eLI1rZ"
   },
   "source": [
    "<font color=#DB9B1A>- 位元運算子 - </font>\n",
    "* &：位元 AND，例如 1001 & 1110 = 1000 = 8\n",
    "* |：位元 OR\n",
    "* ~：\t位元 NOT\n",
    "* ^：位元 XOR\n",
    "* &gt;&gt;：位元右移\n",
    "* <<：位元左移\n"
   ]
  },
  {
   "cell_type": "code",
   "execution_count": null,
   "id": "scientific-inquiry",
   "metadata": {
    "id": "scientific-inquiry"
   },
   "outputs": [],
   "source": [
    "x = 9; y = 14"
   ]
  },
  {
   "cell_type": "code",
   "execution_count": null,
   "id": "empty-accountability",
   "metadata": {
    "colab": {
     "base_uri": "https://localhost:8080/",
     "height": 35
    },
    "executionInfo": {
     "elapsed": 50,
     "status": "ok",
     "timestamp": 1649126982073,
     "user": {
      "displayName": "wien hong",
      "userId": "11131435925814580522"
     },
     "user_tz": -480
    },
    "id": "empty-accountability",
    "outputId": "3ad08ea1-295b-4326-e0a0-5c24ab524982"
   },
   "outputs": [],
   "source": [
    "bin(x)"
   ]
  },
  {
   "cell_type": "code",
   "execution_count": null,
   "id": "practical-passport",
   "metadata": {
    "colab": {
     "base_uri": "https://localhost:8080/",
     "height": 35
    },
    "executionInfo": {
     "elapsed": 50,
     "status": "ok",
     "timestamp": 1649126982074,
     "user": {
      "displayName": "wien hong",
      "userId": "11131435925814580522"
     },
     "user_tz": -480
    },
    "id": "practical-passport",
    "outputId": "be05aeee-9ac4-4d96-be1b-d05a96d73fcb"
   },
   "outputs": [],
   "source": [
    "bin(y)"
   ]
  },
  {
   "cell_type": "code",
   "execution_count": null,
   "id": "digital-turning",
   "metadata": {
    "colab": {
     "base_uri": "https://localhost:8080/"
    },
    "executionInfo": {
     "elapsed": 49,
     "status": "ok",
     "timestamp": 1649126982074,
     "user": {
      "displayName": "wien hong",
      "userId": "11131435925814580522"
     },
     "user_tz": -480
    },
    "id": "digital-turning",
    "outputId": "cdfa88c3-5e88-4fc5-87ec-a312e887665d"
   },
   "outputs": [],
   "source": [
    "x and y  # and 運算子，傳回最後一個為 False 的運算元"
   ]
  },
  {
   "cell_type": "code",
   "execution_count": null,
   "id": "seasonal-philippines",
   "metadata": {
    "colab": {
     "base_uri": "https://localhost:8080/"
    },
    "executionInfo": {
     "elapsed": 42,
     "status": "ok",
     "timestamp": 1649126982075,
     "user": {
      "displayName": "wien hong",
      "userId": "11131435925814580522"
     },
     "user_tz": -480
    },
    "id": "seasonal-philippines",
    "outputId": "557d3806-3749-430b-9e14-045eafded63f"
   },
   "outputs": [],
   "source": [
    "x & y    # 位元 AND 運算子   （1001 & 1110 = 1000 = 8）"
   ]
  },
  {
   "cell_type": "code",
   "execution_count": null,
   "id": "educational-flesh",
   "metadata": {
    "colab": {
     "base_uri": "https://localhost:8080/"
    },
    "executionInfo": {
     "elapsed": 37,
     "status": "ok",
     "timestamp": 1649126982075,
     "user": {
      "displayName": "wien hong",
      "userId": "11131435925814580522"
     },
     "user_tz": -480
    },
    "id": "educational-flesh",
    "outputId": "bd34bbd3-426b-418e-f105-dc3da3e96a0c"
   },
   "outputs": [],
   "source": [
    "x | y    # 位元 OR 運算子  （1001 | 1110 = 1111 = 15）"
   ]
  },
  {
   "cell_type": "code",
   "execution_count": null,
   "id": "running-logistics",
   "metadata": {
    "colab": {
     "base_uri": "https://localhost:8080/"
    },
    "executionInfo": {
     "elapsed": 34,
     "status": "ok",
     "timestamp": 1649126982076,
     "user": {
      "displayName": "wien hong",
      "userId": "11131435925814580522"
     },
     "user_tz": -480
    },
    "id": "running-logistics",
    "outputId": "72e90008-7461-4f77-fd16-76acd951d55d"
   },
   "outputs": [],
   "source": [
    "x ^ y    # 位元 XOR 運算子  (1001 ^ 1110 = 0111 = 7 )"
   ]
  },
  {
   "cell_type": "code",
   "execution_count": null,
   "id": "silver-browse",
   "metadata": {
    "colab": {
     "base_uri": "https://localhost:8080/"
    },
    "executionInfo": {
     "elapsed": 31,
     "status": "ok",
     "timestamp": 1649126982077,
     "user": {
      "displayName": "wien hong",
      "userId": "11131435925814580522"
     },
     "user_tz": -480
    },
    "id": "silver-browse",
    "outputId": "8582d35b-ff05-48b9-8237-972027f45833"
   },
   "outputs": [],
   "source": [
    "~x      # 位元 NOT 運算子  ( -(9+1)=-10 )"
   ]
  },
  {
   "cell_type": "code",
   "execution_count": null,
   "id": "seeing-excuse",
   "metadata": {
    "colab": {
     "base_uri": "https://localhost:8080/"
    },
    "executionInfo": {
     "elapsed": 26,
     "status": "ok",
     "timestamp": 1649126982077,
     "user": {
      "displayName": "wien hong",
      "userId": "11131435925814580522"
     },
     "user_tz": -480
    },
    "id": "seeing-excuse",
    "outputId": "ed42524f-41f4-4708-e777-0440946fec6e"
   },
   "outputs": [],
   "source": [
    "x << 2   # (1001 << 2 = 100100 = 36)"
   ]
  },
  {
   "cell_type": "code",
   "execution_count": null,
   "id": "remarkable-viewer",
   "metadata": {
    "colab": {
     "base_uri": "https://localhost:8080/"
    },
    "executionInfo": {
     "elapsed": 23,
     "status": "ok",
     "timestamp": 1649126982078,
     "user": {
      "displayName": "wien hong",
      "userId": "11131435925814580522"
     },
     "user_tz": -480
    },
    "id": "remarkable-viewer",
    "outputId": "11f86fc3-a2ed-4960-c444-5a5d948cad64"
   },
   "outputs": [],
   "source": [
    "x >> 2   # (1001 >> 2 = 0010 = 2 )"
   ]
  },
  {
   "cell_type": "markdown",
   "id": "three-dancing",
   "metadata": {
    "id": "three-dancing"
   },
   "source": [
    "### 2.4 變數的設值與運算的優先順序"
   ]
  },
  {
   "cell_type": "markdown",
   "id": "prostate-frequency",
   "metadata": {
    "id": "prostate-frequency"
   },
   "source": [
    "#### 2.4.1 變數的設值\n"
   ]
  },
  {
   "cell_type": "markdown",
   "id": "b7_4R9RfWFQI",
   "metadata": {
    "id": "b7_4R9RfWFQI"
   },
   "source": [
    "<font color=#DB9B1A>- 運算式的簡寫語法 - </font>\n",
    "* =，&nbsp;&nbsp;例如 x = 5，亦即將 5 設定給變數 x 存放\n",
    "* +=，例如 x += 5，相當於 x = x + 5，亦即將 x 的值加 5 之後，再設定給 x 存放\n",
    "* -=，&nbsp;例如 x -= 5，相當於 x = x - 5\n",
    "* \\*=，&nbsp;例如 x \\*= 5，相當於 x = x \\* 5\n",
    "* /=，&nbsp;例如 x /= 5，相當於 x = x / 5\n",
    "* %=，例如 x %= 5，相當於 x = x % 5\n",
    "* //=，例如 x //= 5，相當於 x = x // 5\n",
    "* \\*\\*=，例如 x \\*\\*= 5，相當於 x = x \\*\\* 5"
   ]
  },
  {
   "cell_type": "code",
   "execution_count": null,
   "id": "considered-prototype",
   "metadata": {
    "id": "considered-prototype"
   },
   "outputs": [],
   "source": [
    "x = 12"
   ]
  },
  {
   "cell_type": "code",
   "execution_count": null,
   "id": "intermediate-enlargement",
   "metadata": {
    "id": "intermediate-enlargement"
   },
   "outputs": [],
   "source": [
    "x += 1  # equivalent to x = x + 1"
   ]
  },
  {
   "cell_type": "code",
   "execution_count": null,
   "id": "agricultural-overview",
   "metadata": {
    "colab": {
     "base_uri": "https://localhost:8080/"
    },
    "executionInfo": {
     "elapsed": 77,
     "status": "ok",
     "timestamp": 1649126983240,
     "user": {
      "displayName": "wien hong",
      "userId": "11131435925814580522"
     },
     "user_tz": -480
    },
    "id": "agricultural-overview",
    "outputId": "0a599182-81a0-409a-df3f-4fe231d7f8f0"
   },
   "outputs": [],
   "source": [
    "x"
   ]
  },
  {
   "cell_type": "code",
   "execution_count": null,
   "id": "alike-teacher",
   "metadata": {
    "id": "alike-teacher"
   },
   "outputs": [],
   "source": [
    "x *= 2  # equivalent to x=x*2"
   ]
  },
  {
   "cell_type": "code",
   "execution_count": null,
   "id": "colonial-server",
   "metadata": {
    "colab": {
     "base_uri": "https://localhost:8080/"
    },
    "executionInfo": {
     "elapsed": 62,
     "status": "ok",
     "timestamp": 1649126983241,
     "user": {
      "displayName": "wien hong",
      "userId": "11131435925814580522"
     },
     "user_tz": -480
    },
    "id": "colonial-server",
    "outputId": "a5bcddd0-fd0b-401c-8a47-39ab56c012ad"
   },
   "outputs": [],
   "source": [
    "x"
   ]
  },
  {
   "cell_type": "markdown",
   "id": "qmBChY-XZh3B",
   "metadata": {
    "id": "qmBChY-XZh3B"
   },
   "source": [
    "#### 2.4.2 運算的優先順序"
   ]
  },
  {
   "cell_type": "markdown",
   "id": "jz6Xqd_hbmyk",
   "metadata": {
    "id": "jz6Xqd_hbmyk"
   },
   "source": [
    "<font color=#DB9B1A><center>- 運算子與設定敘述的優先順序 （編號越小者優先次序越高） -</center></font>\n",
    "\n",
    "\n",
    "|<font size=\"3\">優先順序</font>|<font size=\"3\">運算子/設定敘述</font>|<font size=\"3\">說明</font>|\n",
    "|:--:|----|----|\n",
    "|<font size=\"3\">1</font>|<font size=\"3\">**</font>|<font size=\"3\">次方運算子</font>|\n",
    "|<font size=\"3\">2</font>|<font size=\"3\">+, -, ~</font>|<font size=\"3\">正號、負號、位元 NOT</font>|\n",
    "|<font size=\"3\">3</font>|<font size=\"3\">*, /, %, //</font>|<font size=\"3\">乘、除、餘數、整數除法</font>|\n",
    "|<font size=\"3\">4</font>|<font size=\"3\">+, -</font>|<font size=\"3\">加法、減法</font>|\n",
    "|<font size=\"3\">5</font>|<font size=\"3\">&gt;&gt;, &lt;&lt;</font>|<font size=\"3\">右移、左移運算子</font>|\n",
    "|<font size=\"3\">6</font>|<font size=\"3\">&amp;</font>|<font size=\"3\">位元 AND 運算子</font>|\n",
    "|<font size=\"3\">7</font>|<font size=\"3\">^</font>|<font size=\"3\">位元 XOR 運算子</font>|\n",
    "|<font size=\"3\">8</font>|<font size=\"3\">&#124;</font>|<font size=\"3\">位元 OR 運算子</font>|\n",
    "|<font size=\"3\">9</font>|<font size=\"3\">&gt;, &lt;, &gt;=, &lt;=, !=, ==</font>|<font size=\"3\">比較運算子</font>|\n",
    "|<font size=\"3\">10</font>|<font size=\"3\">not</font>|<font size=\"3\">邏輯運算子 not</font>|\n",
    "|<font size=\"3\">11</font>|<font size=\"3\">and</font>|<font size=\"3\">邏輯運算子 and</font>|\n",
    "|<font size=\"3\">12</font>|<font size=\"3\">or</font>|<font size=\"3\">邏輯運算子 or</font>|\n",
    "|<font size=\"3\">13</font>|<font size=\"3\">=, +=, -=, *=, /= 等</font>|<font size=\"3\">設定敘述</font>|\n"
   ]
  },
  {
   "cell_type": "code",
   "execution_count": null,
   "id": "tutorial-smart",
   "metadata": {
    "colab": {
     "base_uri": "https://localhost:8080/"
    },
    "executionInfo": {
     "elapsed": 52,
     "status": "ok",
     "timestamp": 1649126983246,
     "user": {
      "displayName": "wien hong",
      "userId": "11131435925814580522"
     },
     "user_tz": -480
    },
    "id": "tutorial-smart",
    "outputId": "28139b50-9855-472a-d71a-cee16b84bf0c"
   },
   "outputs": [],
   "source": [
    "6 + 2**3 * 4"
   ]
  },
  {
   "cell_type": "code",
   "execution_count": null,
   "id": "alien-battery",
   "metadata": {
    "colab": {
     "base_uri": "https://localhost:8080/"
    },
    "executionInfo": {
     "elapsed": 46,
     "status": "ok",
     "timestamp": 1649126983247,
     "user": {
      "displayName": "wien hong",
      "userId": "11131435925814580522"
     },
     "user_tz": -480
    },
    "id": "alien-battery",
    "outputId": "9ad47009-b4c3-4d10-a86a-d6d916b6beb9"
   },
   "outputs": [],
   "source": [
    "'piggy' and not 'good'   # not 高於 and"
   ]
  },
  {
   "cell_type": "code",
   "execution_count": null,
   "id": "timely-ocean",
   "metadata": {
    "id": "timely-ocean"
   },
   "outputs": [],
   "source": [
    "x = 2 + 1   # + 高於 ="
   ]
  },
  {
   "cell_type": "code",
   "execution_count": null,
   "id": "departmental-repository",
   "metadata": {
    "colab": {
     "base_uri": "https://localhost:8080/"
    },
    "executionInfo": {
     "elapsed": 40,
     "status": "ok",
     "timestamp": 1649126983248,
     "user": {
      "displayName": "wien hong",
      "userId": "11131435925814580522"
     },
     "user_tz": -480
    },
    "id": "departmental-repository",
    "outputId": "88eeb609-e4c3-40db-a2f4-bb02cd6e6f26"
   },
   "outputs": [],
   "source": [
    "x += x**2 + 4; x   # x=x+x**2+4"
   ]
  },
  {
   "cell_type": "markdown",
   "id": "portuguese-musician",
   "metadata": {
    "id": "portuguese-musician"
   },
   "source": [
    "### 2.5 型別轉換"
   ]
  },
  {
   "cell_type": "markdown",
   "id": "narrow-conference",
   "metadata": {
    "id": "narrow-conference"
   },
   "source": [
    "#### 2.5.1 隱式轉換\n",
    "<font color=#DFFF00>☘ </font>自動型別轉換，通常是將範圍較小的型別轉換成範圍較大的型別"
   ]
  },
  {
   "cell_type": "code",
   "execution_count": null,
   "id": "standing-collection",
   "metadata": {
    "colab": {
     "base_uri": "https://localhost:8080/"
    },
    "executionInfo": {
     "elapsed": 34,
     "status": "ok",
     "timestamp": 1649126983249,
     "user": {
      "displayName": "wien hong",
      "userId": "11131435925814580522"
     },
     "user_tz": -480
    },
    "id": "standing-collection",
    "outputId": "e35d055c-9ea2-4408-bf31-d9321e93f83b"
   },
   "outputs": [],
   "source": [
    "5 + 4.2"
   ]
  },
  {
   "cell_type": "code",
   "execution_count": null,
   "id": "primary-indonesian",
   "metadata": {
    "colab": {
     "base_uri": "https://localhost:8080/"
    },
    "executionInfo": {
     "elapsed": 28,
     "status": "ok",
     "timestamp": 1649126983250,
     "user": {
      "displayName": "wien hong",
      "userId": "11131435925814580522"
     },
     "user_tz": -480
    },
    "id": "primary-indonesian",
    "outputId": "d948b5e2-a8eb-45ad-d20f-ad0c14632319"
   },
   "outputs": [],
   "source": [
    "19 + True"
   ]
  },
  {
   "cell_type": "markdown",
   "id": "subject-rough",
   "metadata": {
    "id": "subject-rough"
   },
   "source": [
    "#### 2.5.2 顯式轉換"
   ]
  },
  {
   "cell_type": "markdown",
   "id": "l7-6g8tHYp1s",
   "metadata": {
    "id": "l7-6g8tHYp1s"
   },
   "source": [
    "<font color=#DFFF00>☘ </font>按自己需求轉換"
   ]
  },
  {
   "cell_type": "markdown",
   "id": "FxoLDCpOCQK4",
   "metadata": {
    "id": "FxoLDCpOCQK4"
   },
   "source": [
    "<font color=#DB9B1A>- 轉換與求值函數 -</font>\n",
    "* int()：轉成整數\n",
    "* float()：轉成浮點數\n",
    "* str()：轉成字串\n",
    "* complex()：轉成複數\n",
    "* eval(expr)：對運算式 expr 求值"
   ]
  },
  {
   "cell_type": "code",
   "execution_count": null,
   "id": "deadly-joshua",
   "metadata": {
    "colab": {
     "base_uri": "https://localhost:8080/"
    },
    "executionInfo": {
     "elapsed": 79,
     "status": "ok",
     "timestamp": 1649126984109,
     "user": {
      "displayName": "wien hong",
      "userId": "11131435925814580522"
     },
     "user_tz": -480
    },
    "id": "deadly-joshua",
    "outputId": "2a21a338-4af4-496a-9d6d-990c44a56567"
   },
   "outputs": [],
   "source": [
    "int(4.78)"
   ]
  },
  {
   "cell_type": "code",
   "execution_count": null,
   "id": "temporal-concord",
   "metadata": {
    "id": "temporal-concord"
   },
   "outputs": [],
   "source": [
    "# '2020' + 4   # TypeError: can only concatenate str (not \"int\") to str"
   ]
  },
  {
   "cell_type": "code",
   "execution_count": null,
   "id": "through-montgomery",
   "metadata": {
    "colab": {
     "base_uri": "https://localhost:8080/"
    },
    "executionInfo": {
     "elapsed": 76,
     "status": "ok",
     "timestamp": 1649126984112,
     "user": {
      "displayName": "wien hong",
      "userId": "11131435925814580522"
     },
     "user_tz": -480
    },
    "id": "through-montgomery",
    "outputId": "3d472f93-cbbb-4fac-c6f3-402034bcfe58"
   },
   "outputs": [],
   "source": [
    "int('2020') + 4"
   ]
  },
  {
   "cell_type": "code",
   "execution_count": null,
   "id": "according-prescription",
   "metadata": {
    "colab": {
     "base_uri": "https://localhost:8080/"
    },
    "executionInfo": {
     "elapsed": 71,
     "status": "ok",
     "timestamp": 1649126984113,
     "user": {
      "displayName": "wien hong",
      "userId": "11131435925814580522"
     },
     "user_tz": -480
    },
    "id": "according-prescription",
    "outputId": "e6bdffd4-372c-415d-8cb2-bc2983f8461d"
   },
   "outputs": [],
   "source": [
    "float(100)"
   ]
  },
  {
   "cell_type": "code",
   "execution_count": null,
   "id": "therapeutic-horror",
   "metadata": {
    "colab": {
     "base_uri": "https://localhost:8080/"
    },
    "executionInfo": {
     "elapsed": 66,
     "status": "ok",
     "timestamp": 1649126984113,
     "user": {
      "displayName": "wien hong",
      "userId": "11131435925814580522"
     },
     "user_tz": -480
    },
    "id": "therapeutic-horror",
    "outputId": "7acb3940-8189-41d4-ae06-8f9f456a4583"
   },
   "outputs": [],
   "source": [
    "float('6.28')"
   ]
  },
  {
   "cell_type": "code",
   "execution_count": null,
   "id": "paperback-catch",
   "metadata": {
    "colab": {
     "base_uri": "https://localhost:8080/"
    },
    "executionInfo": {
     "elapsed": 62,
     "status": "ok",
     "timestamp": 1649126984114,
     "user": {
      "displayName": "wien hong",
      "userId": "11131435925814580522"
     },
     "user_tz": -480
    },
    "id": "paperback-catch",
    "outputId": "d738e0f5-5b33-49e0-961f-f5fe8bcf807a"
   },
   "outputs": [],
   "source": [
    "eval('6.28')"
   ]
  },
  {
   "cell_type": "code",
   "execution_count": null,
   "id": "expected-jefferson",
   "metadata": {
    "id": "expected-jefferson"
   },
   "outputs": [],
   "source": [
    "#float('6.28+12.4')   # ValueError: could not convert string to float: '6.28+12.4'"
   ]
  },
  {
   "cell_type": "code",
   "execution_count": null,
   "id": "eight-davis",
   "metadata": {
    "colab": {
     "base_uri": "https://localhost:8080/"
    },
    "executionInfo": {
     "elapsed": 58,
     "status": "ok",
     "timestamp": 1649126984116,
     "user": {
      "displayName": "wien hong",
      "userId": "11131435925814580522"
     },
     "user_tz": -480
    },
    "id": "eight-davis",
    "outputId": "308b5cc5-c3cc-4607-a438-8e0e0247f6c8"
   },
   "outputs": [],
   "source": [
    "'''\n",
    "eval(exp_str): 會將exp_str當成程式碼來解析，並執行。\n",
    "'''\n",
    "eval('6.28 + 12.4')"
   ]
  },
  {
   "cell_type": "code",
   "execution_count": null,
   "id": "fifth-prime",
   "metadata": {
    "colab": {
     "base_uri": "https://localhost:8080/"
    },
    "executionInfo": {
     "elapsed": 37,
     "status": "ok",
     "timestamp": 1649126984117,
     "user": {
      "displayName": "wien hong",
      "userId": "11131435925814580522"
     },
     "user_tz": -480
    },
    "id": "fifth-prime",
    "outputId": "3a5df325-ee4e-43dd-91cd-7315ae2c7f8f"
   },
   "outputs": [],
   "source": [
    "complex(7, 8)"
   ]
  },
  {
   "cell_type": "code",
   "execution_count": null,
   "id": "grave-sewing",
   "metadata": {
    "colab": {
     "base_uri": "https://localhost:8080/"
    },
    "executionInfo": {
     "elapsed": 33,
     "status": "ok",
     "timestamp": 1649126984118,
     "user": {
      "displayName": "wien hong",
      "userId": "11131435925814580522"
     },
     "user_tz": -480
    },
    "id": "grave-sewing",
    "outputId": "70712aa3-8300-4aaf-e43f-176bf21bf931"
   },
   "outputs": [],
   "source": [
    "complex('6+4j')"
   ]
  },
  {
   "cell_type": "code",
   "execution_count": null,
   "id": "former-andorra",
   "metadata": {
    "id": "former-andorra"
   },
   "outputs": [],
   "source": [
    "poly = 'x**3  +3*x**2 + 3*x + 1'   # (x+1)**3"
   ]
  },
  {
   "cell_type": "code",
   "execution_count": null,
   "id": "blind-armor",
   "metadata": {
    "colab": {
     "base_uri": "https://localhost:8080/"
    },
    "executionInfo": {
     "elapsed": 31,
     "status": "ok",
     "timestamp": 1649126984122,
     "user": {
      "displayName": "wien hong",
      "userId": "11131435925814580522"
     },
     "user_tz": -480
    },
    "id": "blind-armor",
    "outputId": "4f57beff-b35b-4d4c-ba66-98534329675d"
   },
   "outputs": [],
   "source": [
    "x = 1; eval(poly)   # eval() 也可以用在一個運算式"
   ]
  },
  {
   "cell_type": "code",
   "execution_count": null,
   "id": "conservative-above",
   "metadata": {
    "colab": {
     "base_uri": "https://localhost:8080/"
    },
    "executionInfo": {
     "elapsed": 27,
     "status": "ok",
     "timestamp": 1649126984123,
     "user": {
      "displayName": "wien hong",
      "userId": "11131435925814580522"
     },
     "user_tz": -480
    },
    "id": "conservative-above",
    "outputId": "41e9dcd6-14b4-4104-ae16-084598f9ad0d"
   },
   "outputs": [],
   "source": [
    "x = 2; eval(poly)"
   ]
  },
  {
   "cell_type": "markdown",
   "id": "integrated-clothing",
   "metadata": {
    "id": "integrated-clothing"
   },
   "source": [
    "### 2.6 不同進位數的轉換"
   ]
  },
  {
   "cell_type": "markdown",
   "id": "2aPa6NZ_D1wR",
   "metadata": {
    "id": "2aPa6NZ_D1wR"
   },
   "source": [
    "<font color=#DB9B1A>- 不同進位的轉換函數 - </font>\n",
    "* int()：字串轉成 10 進位整數 => int，或將 float 轉換成 int。\n",
    "\n",
    "\n",
    "* bin()：字串轉成 2 進位 => String\n",
    "* oct()：字串轉成 8 進位 => String\n",
    "* hex()：字串轉成 16 進位 => String"
   ]
  },
  {
   "cell_type": "code",
   "execution_count": null,
   "id": "american-composite",
   "metadata": {
    "colab": {
     "base_uri": "https://localhost:8080/"
    },
    "executionInfo": {
     "elapsed": 72,
     "status": "ok",
     "timestamp": 1649126984909,
     "user": {
      "displayName": "wien hong",
      "userId": "11131435925814580522"
     },
     "user_tz": -480
    },
    "id": "american-composite",
    "outputId": "44a45450-e7c4-405c-a322-c20c72d521a8"
   },
   "outputs": [],
   "source": [
    "'''\n",
    "int(string): 將字串轉換成整數。\n",
    "'''\n",
    "int('0b11000011', 2)  # to binary"
   ]
  },
  {
   "cell_type": "code",
   "execution_count": null,
   "id": "intellectual-default",
   "metadata": {
    "colab": {
     "base_uri": "https://localhost:8080/"
    },
    "executionInfo": {
     "elapsed": 67,
     "status": "ok",
     "timestamp": 1649126984910,
     "user": {
      "displayName": "wien hong",
      "userId": "11131435925814580522"
     },
     "user_tz": -480
    },
    "id": "intellectual-default",
    "outputId": "3d448592-d1bf-4a21-d2a0-d0f8b6254b63"
   },
   "outputs": [],
   "source": [
    "int('11000011', 2)"
   ]
  },
  {
   "cell_type": "code",
   "execution_count": null,
   "id": "d39a051e",
   "metadata": {},
   "outputs": [],
   "source": [
    "'''\n",
    "int(value): 取得 value 的整數，或是說直接移除 value 的小數部分。\n",
    "'''\n",
    "int(12.9)"
   ]
  },
  {
   "cell_type": "code",
   "execution_count": null,
   "id": "supreme-receipt",
   "metadata": {
    "colab": {
     "base_uri": "https://localhost:8080/",
     "height": 53
    },
    "executionInfo": {
     "elapsed": 63,
     "status": "ok",
     "timestamp": 1649126984911,
     "user": {
      "displayName": "wien hong",
      "userId": "11131435925814580522"
     },
     "user_tz": -480
    },
    "id": "supreme-receipt",
    "outputId": "e41811b9-285a-4247-f2e0-495a0a4b2e2d"
   },
   "outputs": [],
   "source": [
    "bin(3**64)"
   ]
  },
  {
   "cell_type": "code",
   "execution_count": null,
   "id": "involved-frequency",
   "metadata": {
    "colab": {
     "base_uri": "https://localhost:8080/"
    },
    "executionInfo": {
     "elapsed": 63,
     "status": "ok",
     "timestamp": 1649126984912,
     "user": {
      "displayName": "wien hong",
      "userId": "11131435925814580522"
     },
     "user_tz": -480
    },
    "id": "involved-frequency",
    "outputId": "e799d1ef-e9a9-43ad-d449-7779e7b02442"
   },
   "outputs": [],
   "source": [
    "int('0xef10', 16)"
   ]
  },
  {
   "cell_type": "code",
   "execution_count": null,
   "id": "regulated-occasion",
   "metadata": {
    "colab": {
     "base_uri": "https://localhost:8080/",
     "height": 35
    },
    "executionInfo": {
     "elapsed": 59,
     "status": "ok",
     "timestamp": 1649126984913,
     "user": {
      "displayName": "wien hong",
      "userId": "11131435925814580522"
     },
     "user_tz": -480
    },
    "id": "regulated-occasion",
    "outputId": "9d01bde7-4ed0-4738-cc38-0e7102d6efff"
   },
   "outputs": [],
   "source": [
    "hex(61200)"
   ]
  },
  {
   "cell_type": "code",
   "execution_count": null,
   "id": "wired-relation",
   "metadata": {
    "colab": {
     "base_uri": "https://localhost:8080/",
     "height": 35
    },
    "executionInfo": {
     "elapsed": 58,
     "status": "ok",
     "timestamp": 1649126984913,
     "user": {
      "displayName": "wien hong",
      "userId": "11131435925814580522"
     },
     "user_tz": -480
    },
    "id": "wired-relation",
    "outputId": "fcae7dbc-7e2e-45f0-cd09-c9459518efb4"
   },
   "outputs": [],
   "source": [
    "oct(256)"
   ]
  },
  {
   "cell_type": "markdown",
   "id": "cutting-cigarette",
   "metadata": {
    "id": "cutting-cigarette"
   },
   "source": [
    "### 2.7 輸出與輸入函數"
   ]
  },
  {
   "cell_type": "markdown",
   "id": "uniform-accommodation",
   "metadata": {
    "id": "uniform-accommodation"
   },
   "source": [
    "#### 2.7.1 Python的輸出函數- print()"
   ]
  },
  {
   "cell_type": "markdown",
   "id": "t2kTPzF_EoLA",
   "metadata": {
    "id": "t2kTPzF_EoLA"
   },
   "source": [
    "<font color=#DB9B1A>- print() 函數 - </font>\n",
    "* print()：列印資料用的函數，其中的 sep, end 可以修改。\\\n",
    "sep: 預設為空格，可以透過修改 sep='新符號' 修改。\\\n",
    "end: 預設為換行，可以透過修改 end='新符號' 修改。"
   ]
  },
  {
   "cell_type": "code",
   "execution_count": null,
   "id": "swiss-moldova",
   "metadata": {
    "colab": {
     "base_uri": "https://localhost:8080/"
    },
    "executionInfo": {
     "elapsed": 57,
     "status": "ok",
     "timestamp": 1649126984914,
     "user": {
      "displayName": "wien hong",
      "userId": "11131435925814580522"
     },
     "user_tz": -480
    },
    "id": "swiss-moldova",
    "outputId": "dbf16709-1f26-41b3-8b4d-64c89d1ef8c4"
   },
   "outputs": [],
   "source": [
    "print('Hello Python')"
   ]
  },
  {
   "cell_type": "code",
   "execution_count": null,
   "id": "heated-closing",
   "metadata": {
    "colab": {
     "base_uri": "https://localhost:8080/"
    },
    "executionInfo": {
     "elapsed": 54,
     "status": "ok",
     "timestamp": 1649126984916,
     "user": {
      "displayName": "wien hong",
      "userId": "11131435925814580522"
     },
     "user_tz": -480
    },
    "id": "heated-closing",
    "outputId": "3c698842-689b-4824-fa6f-f0d5ee4c19d0"
   },
   "outputs": [],
   "source": [
    "print(10, 20, 30)"
   ]
  },
  {
   "cell_type": "code",
   "execution_count": null,
   "id": "psychological-storage",
   "metadata": {
    "colab": {
     "base_uri": "https://localhost:8080/"
    },
    "executionInfo": {
     "elapsed": 51,
     "status": "ok",
     "timestamp": 1649126984917,
     "user": {
      "displayName": "wien hong",
      "userId": "11131435925814580522"
     },
     "user_tz": -480
    },
    "id": "psychological-storage",
    "outputId": "2fd3e84d-e476-4166-e012-f5c7c041a523"
   },
   "outputs": [],
   "source": [
    "print(10, 20, 30, sep='+')    # separater, sep='+'"
   ]
  },
  {
   "cell_type": "code",
   "execution_count": null,
   "id": "focal-representative",
   "metadata": {
    "colab": {
     "base_uri": "https://localhost:8080/"
    },
    "executionInfo": {
     "elapsed": 48,
     "status": "ok",
     "timestamp": 1649126984918,
     "user": {
      "displayName": "wien hong",
      "userId": "11131435925814580522"
     },
     "user_tz": -480
    },
    "id": "focal-representative",
    "outputId": "ff0817e6-f5d6-4165-f359-be641b2f4151"
   },
   "outputs": [],
   "source": [
    "print(10, 20, 30, sep='*',end='@') "
   ]
  },
  {
   "cell_type": "code",
   "execution_count": null,
   "id": "academic-gregory",
   "metadata": {
    "colab": {
     "base_uri": "https://localhost:8080/"
    },
    "executionInfo": {
     "elapsed": 44,
     "status": "ok",
     "timestamp": 1649126984919,
     "user": {
      "displayName": "wien hong",
      "userId": "11131435925814580522"
     },
     "user_tz": -480
    },
    "id": "academic-gregory",
    "outputId": "0a703bbd-a8f3-4adf-c675-ca4e647d9757"
   },
   "outputs": [],
   "source": [
    "print(12); print(14)"
   ]
  },
  {
   "cell_type": "code",
   "execution_count": null,
   "id": "applicable-learning",
   "metadata": {
    "colab": {
     "base_uri": "https://localhost:8080/"
    },
    "executionInfo": {
     "elapsed": 41,
     "status": "ok",
     "timestamp": 1649126984920,
     "user": {
      "displayName": "wien hong",
      "userId": "11131435925814580522"
     },
     "user_tz": -480
    },
    "id": "applicable-learning",
    "outputId": "e7d42828-8994-407c-8758-2b6dce6731a2"
   },
   "outputs": [],
   "source": [
    "print(12, end='#'); print(14)"
   ]
  },
  {
   "cell_type": "code",
   "execution_count": null,
   "id": "private-dictionary",
   "metadata": {
    "colab": {
     "base_uri": "https://localhost:8080/"
    },
    "executionInfo": {
     "elapsed": 38,
     "status": "ok",
     "timestamp": 1649126984921,
     "user": {
      "displayName": "wien hong",
      "userId": "11131435925814580522"
     },
     "user_tz": -480
    },
    "id": "private-dictionary",
    "outputId": "f3021deb-4fee-489a-97db-75f3167980a6"
   },
   "outputs": [],
   "source": [
    "print('Hi', end=''); print('Python')"
   ]
  },
  {
   "cell_type": "markdown",
   "id": "znGejIHDmi1s",
   "metadata": {
    "id": "znGejIHDmi1s"
   },
   "source": [
    "<font color=#DFFF00>☘ </font>反斜線(\\\\)稱為跳脫或轉義字元(escape char)，\n",
    "它會把後面緊接字元的意思轉變掉了。\n",
    "\n",
    "- \\\\n: newline\n",
    "- \\\\t: tab\n",
    "- \\\\': single quote (')\n",
    "- \\\\\": double quote (\")\n"
   ]
  },
  {
   "cell_type": "code",
   "execution_count": null,
   "id": "irish-flour",
   "metadata": {
    "id": "irish-flour"
   },
   "outputs": [],
   "source": [
    "#print('Hello 'Python'')  # 無法印出單引號，SyntaxError: invalid syntax"
   ]
  },
  {
   "cell_type": "code",
   "execution_count": null,
   "id": "breeding-aerospace",
   "metadata": {
    "colab": {
     "base_uri": "https://localhost:8080/"
    },
    "executionInfo": {
     "elapsed": 34,
     "status": "ok",
     "timestamp": 1649126984922,
     "user": {
      "displayName": "wien hong",
      "userId": "11131435925814580522"
     },
     "user_tz": -480
    },
    "id": "breeding-aerospace",
    "outputId": "f713c499-b541-48cb-9d63-fbcadae6435c"
   },
   "outputs": [],
   "source": [
    "print('Hello \\'Python\\'')"
   ]
  },
  {
   "cell_type": "code",
   "execution_count": null,
   "id": "acting-endorsement",
   "metadata": {
    "colab": {
     "base_uri": "https://localhost:8080/"
    },
    "executionInfo": {
     "elapsed": 902,
     "status": "ok",
     "timestamp": 1649126985794,
     "user": {
      "displayName": "wien hong",
      "userId": "11131435925814580522"
     },
     "user_tz": -480
    },
    "id": "acting-endorsement",
    "outputId": "2ac2f3ff-e4c1-40a1-9133-b1726723d119"
   },
   "outputs": [],
   "source": [
    "print('A back slash \\\\ symbol\\a ')"
   ]
  },
  {
   "cell_type": "code",
   "execution_count": null,
   "id": "gentle-basketball",
   "metadata": {
    "colab": {
     "base_uri": "https://localhost:8080/"
    },
    "executionInfo": {
     "elapsed": 77,
     "status": "ok",
     "timestamp": 1649126985795,
     "user": {
      "displayName": "wien hong",
      "userId": "11131435925814580522"
     },
     "user_tz": -480
    },
    "id": "gentle-basketball",
    "outputId": "38f32dc2-c298-49ac-c561-eb5116d6e557"
   },
   "outputs": [],
   "source": [
    "print('\\\"A string\\\"')"
   ]
  },
  {
   "cell_type": "code",
   "execution_count": null,
   "id": "graduate-bishop",
   "metadata": {
    "colab": {
     "base_uri": "https://localhost:8080/"
    },
    "executionInfo": {
     "elapsed": 64,
     "status": "ok",
     "timestamp": 1649126985797,
     "user": {
      "displayName": "wien hong",
      "userId": "11131435925814580522"
     },
     "user_tz": -480
    },
    "id": "graduate-bishop",
    "outputId": "41478948-6b16-4300-fe63-9596c483974b"
   },
   "outputs": [],
   "source": [
    "print('\"A string\"')"
   ]
  },
  {
   "cell_type": "code",
   "execution_count": null,
   "id": "active-franklin",
   "metadata": {
    "colab": {
     "base_uri": "https://localhost:8080/"
    },
    "executionInfo": {
     "elapsed": 52,
     "status": "ok",
     "timestamp": 1649126985797,
     "user": {
      "displayName": "wien hong",
      "userId": "11131435925814580522"
     },
     "user_tz": -480
    },
    "id": "active-franklin",
    "outputId": "cfbdeef5-6506-4b71-d4fd-f931eaef3de9"
   },
   "outputs": [],
   "source": [
    "print(\"It's a sunny day\")"
   ]
  },
  {
   "cell_type": "markdown",
   "id": "tested-central",
   "metadata": {
    "id": "tested-central"
   },
   "source": [
    "__Quiz: 請用print()函數印出下面的字串：__\n",
    "1. I love \"Hello ketty\"\n",
    "2. \"You may say I'm a dreamer\""
   ]
  },
  {
   "cell_type": "markdown",
   "id": "early-plastic",
   "metadata": {
    "id": "early-plastic"
   },
   "source": [
    "#### 2.7.2 輸出字串的格式化\n"
   ]
  },
  {
   "cell_type": "markdown",
   "id": "eJNwInQNM5eS",
   "metadata": {
    "id": "eJNwInQNM5eS"
   },
   "source": [
    "<font color=#DFFF00>☘ </font> %d - 用來列印整數，%f - 用來列印浮點數， %s - 用來列印字串"
   ]
  },
  {
   "cell_type": "markdown",
   "id": "h2P4Z2fcaD2w",
   "metadata": {
    "id": "h2P4Z2fcaD2w"
   },
   "source": [
    "<font color=#DB9B1A>- 使用 %-格式碼的範例 （早期 Python 的寫法，比較不建議使用）-</font>\n",
    "\n",
    "![image.png](data:image/png;base64,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)"
   ]
  },
  {
   "cell_type": "code",
   "execution_count": null,
   "id": "concerned-masters",
   "metadata": {
    "id": "concerned-masters"
   },
   "outputs": [],
   "source": [
    "i, f, s = 12, 6.282, 'Python'  # i, f, s 分別為整數、浮點數和字串"
   ]
  },
  {
   "cell_type": "code",
   "execution_count": null,
   "id": "protective-river",
   "metadata": {
    "colab": {
     "base_uri": "https://localhost:8080/"
    },
    "executionInfo": {
     "elapsed": 44,
     "status": "ok",
     "timestamp": 1649126985800,
     "user": {
      "displayName": "wien hong",
      "userId": "11131435925814580522"
     },
     "user_tz": -480
    },
    "id": "protective-river",
    "outputId": "70d698e9-2014-46ae-fa78-fc5c86096e50"
   },
   "outputs": [],
   "source": [
    "print('i=%d' % i)"
   ]
  },
  {
   "cell_type": "code",
   "execution_count": null,
   "id": "auburn-minutes",
   "metadata": {
    "colab": {
     "base_uri": "https://localhost:8080/"
    },
    "executionInfo": {
     "elapsed": 37,
     "status": "ok",
     "timestamp": 1649126985801,
     "user": {
      "displayName": "wien hong",
      "userId": "11131435925814580522"
     },
     "user_tz": -480
    },
    "id": "auburn-minutes",
    "outputId": "8c706ac3-a019-41fd-cf5f-c77be1cd7b04"
   },
   "outputs": [],
   "source": [
    "print('i=%3d' % i)"
   ]
  },
  {
   "cell_type": "code",
   "execution_count": null,
   "id": "sophisticated-healing",
   "metadata": {
    "colab": {
     "base_uri": "https://localhost:8080/"
    },
    "executionInfo": {
     "elapsed": 31,
     "status": "ok",
     "timestamp": 1649126985802,
     "user": {
      "displayName": "wien hong",
      "userId": "11131435925814580522"
     },
     "user_tz": -480
    },
    "id": "sophisticated-healing",
    "outputId": "aa2d09b5-5530-4ff4-bdc6-aaebefb3ef16"
   },
   "outputs": [],
   "source": [
    "print('i=%d, s=%s' % (i,s))"
   ]
  },
  {
   "cell_type": "code",
   "execution_count": null,
   "id": "warming-reducing",
   "metadata": {
    "colab": {
     "base_uri": "https://localhost:8080/"
    },
    "executionInfo": {
     "elapsed": 26,
     "status": "ok",
     "timestamp": 1649126985803,
     "user": {
      "displayName": "wien hong",
      "userId": "11131435925814580522"
     },
     "user_tz": -480
    },
    "id": "warming-reducing",
    "outputId": "7c4ba6a9-2e3b-48e2-9138-7b26a2660264"
   },
   "outputs": [],
   "source": [
    "print('i=%05d, s=%7s' % (i,s))"
   ]
  },
  {
   "cell_type": "code",
   "execution_count": null,
   "id": "fundamental-bosnia",
   "metadata": {
    "colab": {
     "base_uri": "https://localhost:8080/"
    },
    "executionInfo": {
     "elapsed": 21,
     "status": "ok",
     "timestamp": 1649126985803,
     "user": {
      "displayName": "wien hong",
      "userId": "11131435925814580522"
     },
     "user_tz": -480
    },
    "id": "fundamental-bosnia",
    "outputId": "a752f45c-c0ac-4cdb-802c-75e52e2b5416"
   },
   "outputs": [],
   "source": [
    "print('f=%5.2f, i=%+4d' % (f,i))"
   ]
  },
  {
   "cell_type": "markdown",
   "id": "proper-sauce",
   "metadata": {
    "id": "proper-sauce"
   },
   "source": [
    "<font color=#DFFF00>☘ </font> 使用 f-字串\n",
    "  * 在欲輸出的字串前面加上 f，然後以 {變數名稱:格式碼} 的語法來輸出\n",
    "\n",
    "  * f-字串裡的格式碼是有固定順序的，也就是每一項的順序不能對調"
   ]
  },
  {
   "cell_type": "markdown",
   "id": "XvmMTEWaHAT9",
   "metadata": {
    "id": "XvmMTEWaHAT9"
   },
   "source": [
    "<font color=#DB9B1A>- 使用 f-字串的範例 - </font>\n",
    "\n",
    "![image.png](data:image/png;base64,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)"
   ]
  },
  {
   "cell_type": "markdown",
   "id": "IIGkRTKia3wn",
   "metadata": {
    "id": "IIGkRTKia3wn"
   },
   "source": [
    "<font color=#DB9B1A>- 控制輸出的格式碼 - </font>\n",
    "\n",
    "![image.png](data:image/png;base64,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)"
   ]
  },
  {
   "cell_type": "markdown",
   "id": "AIE2qNhTcIKw",
   "metadata": {
    "id": "AIE2qNhTcIKw"
   },
   "source": [
    "<font color=#DB9B1A>- f-字串裡的格式碼 - </font>\n",
    "\n",
    "![image.png](data:image/png;base64,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)"
   ]
  },
  {
   "cell_type": "code",
   "execution_count": null,
   "id": "sublime-marking",
   "metadata": {
    "id": "sublime-marking"
   },
   "outputs": [],
   "source": [
    "i, f, s = 12000, 3.14, 'Python'"
   ]
  },
  {
   "cell_type": "code",
   "execution_count": null,
   "id": "mediterranean-bankruptcy",
   "metadata": {
    "colab": {
     "base_uri": "https://localhost:8080/"
    },
    "executionInfo": {
     "elapsed": 92,
     "status": "ok",
     "timestamp": 1649126988840,
     "user": {
      "displayName": "wien hong",
      "userId": "11131435925814580522"
     },
     "user_tz": -480
    },
    "id": "mediterranean-bankruptcy",
    "outputId": "dacec4bc-141b-49a9-e34c-fd60479c919d"
   },
   "outputs": [],
   "source": [
    "print(f'i={i}, f={f}, s={s}')"
   ]
  },
  {
   "cell_type": "code",
   "execution_count": null,
   "id": "express-tribute",
   "metadata": {
    "colab": {
     "base_uri": "https://localhost:8080/"
    },
    "executionInfo": {
     "elapsed": 81,
     "status": "ok",
     "timestamp": 1649126988841,
     "user": {
      "displayName": "wien hong",
      "userId": "11131435925814580522"
     },
     "user_tz": -480
    },
    "id": "express-tribute",
    "outputId": "d52ee38c-16fc-487a-9bed-09536c59d3cf"
   },
   "outputs": [],
   "source": [
    "print(f'int={i:+,}, float={f:6.2f}')"
   ]
  },
  {
   "cell_type": "code",
   "execution_count": null,
   "id": "outside-wings",
   "metadata": {
    "colab": {
     "base_uri": "https://localhost:8080/"
    },
    "executionInfo": {
     "elapsed": 73,
     "status": "ok",
     "timestamp": 1649126988841,
     "user": {
      "displayName": "wien hong",
      "userId": "11131435925814580522"
     },
     "user_tz": -480
    },
    "id": "outside-wings",
    "outputId": "0c632445-d5b8-4d72-bb76-9f27664a864c"
   },
   "outputs": [],
   "source": [
    "print(f'int={i:b}, str={s:>8}')"
   ]
  },
  {
   "cell_type": "code",
   "execution_count": null,
   "id": "treated-harvey",
   "metadata": {
    "colab": {
     "base_uri": "https://localhost:8080/"
    },
    "executionInfo": {
     "elapsed": 67,
     "status": "ok",
     "timestamp": 1649126988842,
     "user": {
      "displayName": "wien hong",
      "userId": "11131435925814580522"
     },
     "user_tz": -480
    },
    "id": "treated-harvey",
    "outputId": "d617fe3e-0a3f-44b8-982c-4bdc8deb940b"
   },
   "outputs": [],
   "source": [
    "print(f'int={i:#x}, str={s:>08}')"
   ]
  },
  {
   "cell_type": "code",
   "execution_count": null,
   "id": "confidential-playlist",
   "metadata": {
    "colab": {
     "base_uri": "https://localhost:8080/"
    },
    "executionInfo": {
     "elapsed": 62,
     "status": "ok",
     "timestamp": 1649126988842,
     "user": {
      "displayName": "wien hong",
      "userId": "11131435925814580522"
     },
     "user_tz": -480
    },
    "id": "confidential-playlist",
    "outputId": "1f4505d2-5a23-40ba-d19d-8718a1f0c7ab"
   },
   "outputs": [],
   "source": [
    "print(f'float={f*2:5.2f}')"
   ]
  },
  {
   "cell_type": "markdown",
   "id": "Xz_JU5IcnNYx",
   "metadata": {
    "id": "Xz_JU5IcnNYx"
   },
   "source": [
    "\n",
    "<font color=#DFFF00>☘ </font> 要在 𝑓-字串裡列印大括號：請再加兩個連續的大括號"
   ]
  },
  {
   "cell_type": "code",
   "execution_count": null,
   "id": "tight-influence",
   "metadata": {
    "colab": {
     "base_uri": "https://localhost:8080/"
    },
    "executionInfo": {
     "elapsed": 58,
     "status": "ok",
     "timestamp": 1649126988843,
     "user": {
      "displayName": "wien hong",
      "userId": "11131435925814580522"
     },
     "user_tz": -480
    },
    "id": "tight-influence",
    "outputId": "0a57b5dd-343f-4e35-c241-2926781e1975"
   },
   "outputs": [],
   "source": [
    "print(f'Addition:{{4+5:^3d}}')"
   ]
  },
  {
   "cell_type": "code",
   "execution_count": null,
   "id": "featured-analysis",
   "metadata": {
    "colab": {
     "base_uri": "https://localhost:8080/"
    },
    "executionInfo": {
     "elapsed": 52,
     "status": "ok",
     "timestamp": 1649126988843,
     "user": {
      "displayName": "wien hong",
      "userId": "11131435925814580522"
     },
     "user_tz": -480
    },
    "id": "featured-analysis",
    "outputId": "8d627368-0aaf-4680-b148-6508ed99df73"
   },
   "outputs": [],
   "source": [
    "print(f'Addition:{{{4+5:^3d}}}')"
   ]
  },
  {
   "cell_type": "code",
   "execution_count": null,
   "id": "waiting-crack",
   "metadata": {
    "id": "waiting-crack"
   },
   "outputs": [],
   "source": [
    "s1='Hello'; s2='World'"
   ]
  },
  {
   "cell_type": "code",
   "execution_count": null,
   "id": "solar-chain",
   "metadata": {
    "colab": {
     "base_uri": "https://localhost:8080/"
    },
    "executionInfo": {
     "elapsed": 48,
     "status": "ok",
     "timestamp": 1649126988844,
     "user": {
      "displayName": "wien hong",
      "userId": "11131435925814580522"
     },
     "user_tz": -480
    },
    "id": "solar-chain",
    "outputId": "d7326a55-20f3-46f2-cc68-999b1b4db9dd"
   },
   "outputs": [],
   "source": [
    "print(f'字串相加：\\'{s1}\\'+\\'{s2}\\'')"
   ]
  },
  {
   "cell_type": "markdown",
   "id": "bound-convergence",
   "metadata": {
    "id": "bound-convergence"
   },
   "source": [
    "#### 2.7.3 Python的輸入函數- input()\n"
   ]
  },
  {
   "cell_type": "markdown",
   "id": "3aaJEiOtLFoR",
   "metadata": {
    "id": "3aaJEiOtLFoR"
   },
   "source": [
    "<font color=#DB9B1A>- input() 函數 - </font>\n",
    "* var = input()：把輸入的結果以字串型別設定給變數 var 存放。\n",
    "\n",
    "```\n",
    "(*) 通過輸出入介面的資料，最後都會轉換成字串！\n",
    "      in | out\n",
    "string <-|--\n",
    "       --|-> string\n",
    "         ^\n",
    "         I/O interface\n",
    "```"
   ]
  },
  {
   "cell_type": "code",
   "execution_count": null,
   "id": "legislative-python",
   "metadata": {
    "colab": {
     "base_uri": "https://localhost:8080/"
    },
    "executionInfo": {
     "elapsed": 42580,
     "status": "ok",
     "timestamp": 1649127031398,
     "user": {
      "displayName": "wien hong",
      "userId": "11131435925814580522"
     },
     "user_tz": -480
    },
    "id": "legislative-python",
    "outputId": "892c0057-9d9c-43b6-f4f3-47d2a47fee94"
   },
   "outputs": [],
   "source": [
    "num = input('Input a number: ')\n",
    "#print( type(num) )\n",
    "#print(num + 1)"
   ]
  },
  {
   "cell_type": "code",
   "execution_count": null,
   "id": "independent-shareware",
   "metadata": {
    "colab": {
     "base_uri": "https://localhost:8080/",
     "height": 35
    },
    "executionInfo": {
     "elapsed": 23,
     "status": "ok",
     "timestamp": 1649127031399,
     "user": {
      "displayName": "wien hong",
      "userId": "11131435925814580522"
     },
     "user_tz": -480
    },
    "id": "independent-shareware",
    "outputId": "4f8a22cc-51c4-4b72-888a-7936dfc961cc"
   },
   "outputs": [],
   "source": [
    "num"
   ]
  },
  {
   "cell_type": "code",
   "execution_count": null,
   "id": "infectious-sixth",
   "metadata": {
    "colab": {
     "base_uri": "https://localhost:8080/"
    },
    "executionInfo": {
     "elapsed": 4426,
     "status": "ok",
     "timestamp": 1649127035805,
     "user": {
      "displayName": "wien hong",
      "userId": "11131435925814580522"
     },
     "user_tz": -480
    },
    "id": "infectious-sixth",
    "outputId": "58c1b5dd-b568-4dc7-ba49-e5478b7a4b9a"
   },
   "outputs": [],
   "source": [
    "expr = input('input an expression: ')"
   ]
  },
  {
   "cell_type": "code",
   "execution_count": null,
   "id": "selected-masters",
   "metadata": {
    "colab": {
     "base_uri": "https://localhost:8080/",
     "height": 35
    },
    "executionInfo": {
     "elapsed": 45,
     "status": "ok",
     "timestamp": 1649127035806,
     "user": {
      "displayName": "wien hong",
      "userId": "11131435925814580522"
     },
     "user_tz": -480
    },
    "id": "selected-masters",
    "outputId": "b7366eac-1363-4449-f174-5665d03b5613"
   },
   "outputs": [],
   "source": [
    "expr"
   ]
  },
  {
   "cell_type": "code",
   "execution_count": null,
   "id": "sustainable-clarity",
   "metadata": {
    "colab": {
     "base_uri": "https://localhost:8080/"
    },
    "executionInfo": {
     "elapsed": 44,
     "status": "ok",
     "timestamp": 1649127035807,
     "user": {
      "displayName": "wien hong",
      "userId": "11131435925814580522"
     },
     "user_tz": -480
    },
    "id": "sustainable-clarity",
    "outputId": "2bf633da-f41f-491e-f275-24f97cb5d970"
   },
   "outputs": [],
   "source": [
    "eval(expr)"
   ]
  },
  {
   "cell_type": "code",
   "execution_count": null,
   "id": "a796c603",
   "metadata": {},
   "outputs": [],
   "source": [
    "a = 123\n",
    "print(\" 12345 <-- ruler\")\n",
    "print(f\"|{a}|\")     # 預設方式。\n",
    "print(f\"|{a:2}|\")   # 當成2位數來列印。\n",
    "print(f\"|{a:3}|\")   # 當成3位數來列印。\n",
    "print(f\"|{a:4}|\")   # 當成4位數來列印。\n",
    "print(f\"|{a:04}|\")  # 當成4位數來列印,前面有空位則補零。\n",
    "\n",
    "'''\n",
    "{a:04} 用於數字OK，但用於字串，必須再加上對齊的設定: >, <, ^。\n",
    "'''\n",
    "\n",
    "print(\"\\n 12345 <-- ruler\")\n",
    "print(f\"|{a:<4}|\")  # 當成4位數來列印,且設定為靠左(<)對齊。\n",
    "print(f\"|{a:>4}|\")  # 當成4位數來列印,且設定為靠右(>)對齊。\n",
    "print(f\"|{a:^4}|\")  # 當成4位數來列印,且設定為置中(^)對齊: 左少右多。\n",
    "print(f\"|{a:^5}|\")  # 當成5位數來列印,且設定為置中(^)對齊。\n"
   ]
  },
  {
   "cell_type": "code",
   "execution_count": null,
   "id": "de2ab9a5",
   "metadata": {},
   "outputs": [],
   "source": [
    "a = '123'\n",
    "print(\" 12345 <-- ruler\")\n",
    "print(f\"|{a}|\")     # 預設方式。\n",
    "print(f\"|{a:2}|\")   # 當成2位數來列印。\n",
    "print(f\"|{a:3}|\")   # 當成3位數來列印。\n",
    "print(f\"|{a:4}|\")   # 當成4位數來列印。\n",
    "print(f\"|{a:04}|\")  # 當成4位數來列印,前面有空位則補零。"
   ]
  },
  {
   "cell_type": "code",
   "execution_count": null,
   "id": "23410f1f",
   "metadata": {},
   "outputs": [],
   "source": [
    "b = 1.5432\n",
    "print(' 12345678')\n",
    "print(f\"|{b}|\")\n",
    "print(f\"|{b:4}|\")     # 當成4位數來列印。\n",
    "print(f\"|{b:8}|\")     # 當成8位數來列印。\n",
    "print(f\"|{b:5.2f}|\")  # 設定總寬度為5位(含小數點)，且小數到第2位。\n",
    "print(f\"|{b:.1f}|\")   # 印到小數後第1位。\n",
    "print(f\"|{b:.0f}|\")   # 不印小數，即取整數。\n"
   ]
  },
  {
   "cell_type": "code",
   "execution_count": null,
   "id": "2efcede1",
   "metadata": {},
   "outputs": [],
   "source": [
    "'''\n",
    "請印出下列的圖形:\n",
    "*\n",
    "**\n",
    "***\n",
    "****\n",
    "*****\n",
    "\n",
    "1\n",
    " 2\n",
    "   3\n",
    "    4\n",
    "     5\n",
    "'''\n",
    "\n",
    "# 使用乘法來擴增字串。\n",
    "for k in range(5):  # 會依序生成 0, 1, 2, 3, 4，並指定給 k。\n",
    "    pass\n",
    "    print('*' * (k+1))\n",
    "    \n",
    "\n",
    "# 用來儲存逐次增加的星號。\n",
    "result = \"\"  \n",
    "for k in range(5):  # 會依序生成 0, 1, 2, 3, 4，並指定給 k。\n",
    "    pass\n",
    "\n",
    "    \n",
    "# 觀察每列前方的空格數！\n",
    "# for k in range(5):  \n",
    "#     pass"
   ]
  },
  {
   "cell_type": "code",
   "execution_count": null,
   "id": "f16d9d91",
   "metadata": {},
   "outputs": [],
   "source": [
    "'''\n",
    "# 動態生成格式化字串\n",
    "k = 3\n",
    "fmt = f\"%0{k}d\"  # 可以動態生成格式化字串，再來引用。\n",
    "\n",
    "a = 12\n",
    "print(fmt)\n",
    "\n",
    "print(fmt % (a))\n",
    "#'''\n",
    "\n",
    "value = 1.23456\n",
    "\n",
    "# using slice the get part of string:\n",
    "# 會引入四捨五入的顯示內容:\n",
    "print(f\"{value:.0f}\\n{value:.1f}\\n{value:.2f}\\n{value:.3f}\\n{value:.4f}\\n{value:.5f}\")\n",
    "\n",
    "sval = str(value)  # converse to str first\n",
    "\n",
    "# 使用字串的切片(slicing)或擷取部分字串，來完成要求的顯示:\n",
    "print(f\"{sval[:1]}\\n{sval[:3]}\\n{sval[:4]}\\n{sval[:5]}\\n{sval[:6]}\\n{sval[:7]}\")"
   ]
  },
  {
   "cell_type": "markdown",
   "id": "a8c43a1d",
   "metadata": {},
   "source": [
    "**求攝氏(Celsius)與華氏(Fahrenheit)的溫度轉換**\n",
    "\n",
    "$C \\longrightarrow F: F = \\frac{9}{5} \\times C + 32$  \\\n",
    "or\\\n",
    "$F \\longrightarrow C: C = (F-32) \\times \\frac{5}{9}$\n",
    "\n",
    "BMI(Body mass index, 身體質量指數)\n",
    "$$BMI = \\frac{體重(kg)}{身高^2(m^2)} = \\frac{weight(kg)}{height^2(m^2)}$$"
   ]
  },
  {
   "cell_type": "code",
   "execution_count": null,
   "id": "87a978ab",
   "metadata": {},
   "outputs": [],
   "source": [
    "'''\n",
    "攝氏(C)與華氏(F)溫度的轉換\n",
    "'''\n",
    "print(\"攝氏(C)轉華氏(F)\")\n",
    "inp = input(\"攝氏溫度:\")\n",
    "\n",
    "c = int(inp)  # 有改善的空間！ int -> float\n",
    "f = c * 9/5 + 32\n",
    "print(\"攝氏\" + str(c) + \"度，約等於華氏\" + str(f) + \"度\")\n",
    "\n",
    "# 使用 f-string: 將變數或算式，以 {} 括起來！\n",
    "print(f\"攝氏{c}度，約等於華氏{f}度\")  "
   ]
  },
  {
   "cell_type": "code",
   "execution_count": null,
   "id": "5e115dfc",
   "metadata": {},
   "outputs": [],
   "source": [
    "'''\n",
    "range(start, cut, step)\n",
    "預設值: 0           1   \n",
    "\n",
    "從 start 開始，在 cut 處切斷(不包含的意思)，每次的增量值都是 step。\n",
    "start <= start, start+step, start+2*step, ...,  < cut\n",
    "\n",
    "'''\n",
    "print(\"for k in range(0, 10):\")\n",
    "for k in range(0, 10):\n",
    "    print(k, end=' ')\n",
    "print()\n",
    "\n",
    "print(\"for k in range(1, 10, 2):\")\n",
    "for k in range(1, 10, 2):\n",
    "    print(k, end=' ')\n",
    "print()\n",
    "\n",
    "print(\"for k in range(1, 10, 2):\")\n",
    "for k in range(1, 10, 2):\n",
    "    print(k, end=' ')\n",
    "print()\n",
    "\n",
    "print(\"for k in range(9, -1, -1):\")\n",
    "for k in range(9, -1, -1):\n",
    "    print(k, end=' ')\n",
    "print()"
   ]
  },
  {
   "cell_type": "code",
   "execution_count": null,
   "id": "d4e87979",
   "metadata": {},
   "outputs": [],
   "source": [
    "'''\n",
    "簡易的迴圈\n",
    "'''\n",
    "for k in range(5):  # range(n): [0, n-1]\n",
    "    print(k)\n",
    "    #print(\"Hello, World!\")"
   ]
  },
  {
   "cell_type": "code",
   "execution_count": null,
   "id": "d4fb6963",
   "metadata": {},
   "outputs": [],
   "source": [
    "'''\n",
    "條件判斷: (附帶一問)\n",
    "if cond:\n",
    "    do_something\n",
    "'''\n",
    "a = int(input(\"a=\"))\n",
    "\n",
    "if a % 2 == 0:\n",
    "    print(f\"{a} 是偶數！\")\n",
    "    \n",
    "if a % 2 == 1:\n",
    "    print(f\"{a} 是奇數！\")\n",
    "    \n",
    "# Q: 如果 a 已經被判斷為偶數了，還需要做奇數的判斷嗎?"
   ]
  },
  {
   "cell_type": "code",
   "execution_count": null,
   "id": "199839a1",
   "metadata": {},
   "outputs": [],
   "source": [
    "'''\n",
    "條件判斷: (二分法)\n",
    "if cond:\n",
    "    yes_do_something\n",
    "else:\n",
    "    no_do_something\n",
    "'''\n",
    "a = int(input(\"a=\"))\n",
    "\n",
    "if a % 2 == 0:\n",
    "    print(f\"{a} 是偶數！\")\n",
    "else:    \n",
    "    print(f\"{a} 是奇數！\")"
   ]
  },
  {
   "cell_type": "code",
   "execution_count": null,
   "id": "34e7791c",
   "metadata": {},
   "outputs": [],
   "source": [
    "'''\n",
    "多條件的判斷: (二分法)\n",
    "if cond_1:\n",
    "    yes_do_something\n",
    "elif cond_2:\n",
    "    ...\n",
    "elif cond_3:\n",
    "    ...\n",
    "else:\n",
    "    anything_else\n",
    "'''\n",
    "a = int(input(\"a=\"))\n",
    "\n",
    "if a > 0:  # 二分法: 是否大於 0。 <-- 逐項排除！\n",
    "    print(f\"{a} > 0\")\n",
    "else:\n",
    "    pass\n",
    "#     if a < 0:  # 二分法: 是否大於 0。\n",
    "#         print(f\"{a} < 0\")\n",
    "#     else:  # 最後一種可能時。\n",
    "#         print(0)\n",
    "        \n",
    "'''\n",
    "可以把上述判斷部分的程式簡化，並重新整理如下:\n",
    "'''\n",
    "# if a > 0:  # 二分法: 是否大於 0。\n",
    "#     print(f\"{a} > 0\")\n",
    "# elif a < 0:  # 二分法: 是否大於 0。\n",
    "#     print(f\"{a} < 0\")\n",
    "# else:  # 最後一種可能時。\n",
    "#     print(0)        \n",
    "        "
   ]
  },
  {
   "cell_type": "code",
   "execution_count": null,
   "id": "14380164",
   "metadata": {},
   "outputs": [],
   "source": [
    "'''\n",
    "可以重複執行的 while-loop: \n",
    "\n",
    "while cond:\n",
    "    yes_do_something\n",
    "    ...\n",
    "    back_to_cond_to_check\n",
    "    \n",
    "當 cond 成立時，會執行其後的指令，結束後會回到 cond 判斷處。\n",
    "如果還是此刻 cond 仍然成立，就再執行其後的指令。\n",
    "重複這個過程，直到 cond 不成立才會跳離 while，往下去執行。    \n",
    "'''\n",
    "n = 5\n",
    "k = 1\n",
    "while k <= 5:\n",
    "    print(k)\n",
    "#     print(k, end=' ')\n",
    "    k = k + 1\n",
    "    \n",
    "# Q: 計算 1 + 2 + 3 + ... + n 的和。\n",
    "# n = int( input(\"計算 1+2+3+...+n, n=\") )\n",
    "# total = 0\n",
    "# t = n\n",
    "# while t > 0:\n",
    "#     total += t\n",
    "#     t = t - 1\n",
    "    \n",
    "# print(f\"1+2+3+...+{n} = {total}\")\n",
    "# print()"
   ]
  },
  {
   "cell_type": "code",
   "execution_count": null,
   "id": "b730ab41",
   "metadata": {},
   "outputs": [],
   "source": [
    "'''\n",
    "break and continue\n",
    "break: 立即跳出所屬迴圈 => 離開迴圈！就像單敗淘汰賽中的落敗方。\n",
    "continue: 立即跳回條件判斷處 => 進入下一輪！。就像單敗淘汰賽中的獲勝方。\n",
    "'''\n",
    "print(\"just while-loop:\")\n",
    "n = 10\n",
    "while n > 0:\n",
    "    n = n - 1 \n",
    "    print(n, end=' ')\n",
    "print()\n",
    "\n",
    "print(\"with break:\")\n",
    "n = 10\n",
    "while n > 0:\n",
    "    n = n - 1        \n",
    "    if n == 5:\n",
    "        break\n",
    "    print(n, end=' ')\n",
    "print()\n",
    "\n",
    "print(\"with continue:\")        \n",
    "n = 10        \n",
    "while n > 0:\n",
    "    n = n - 1        \n",
    "    if n == 5:\n",
    "        continue\n",
    "    print(n, end=' ')\n",
    "print()    "
   ]
  },
  {
   "cell_type": "code",
   "execution_count": null,
   "id": "9a8ed61a",
   "metadata": {},
   "outputs": [],
   "source": [
    "# 寫一個可以重複執行的程式，直到輸入特定的值。\n",
    "# 重複輸入數值，並確認是奇數還是偶數。\n",
    "\n",
    "# 無窮迴圈:\n",
    "# 輸入重複數字，直到輸入零為止。並請顯示數入的數字項數與計算其總和。\n",
    "# total = 0\n",
    "# count = 0\n",
    "# while True:\n",
    "#     value = float(input(f\"value {count+1}: \"))\n",
    "#     if value == 0:\n",
    "#         break;\n",
    "#     total += value\n",
    "#     count += 1                 "
   ]
  },
  {
   "cell_type": "code",
   "execution_count": null,
   "id": "7733048a",
   "metadata": {},
   "outputs": [],
   "source": [
    "menu = \"溫度轉換1)攝氏到華氏\\n2)華氏到攝氏\\n你的選擇是:\"\n",
    "option = int(input(menu))\n",
    "print()\n",
    "'''\n",
    "請輸入攝氏溫度:\n",
    "約等於華氏 {} 度。\n",
    "約等於攝氏 {} 度。\n",
    "無此選項！\n",
    "'''\n",
    "\n",
    "if option == 1:\n",
    "    pass"
   ]
  },
  {
   "cell_type": "code",
   "execution_count": null,
   "id": "3315d993",
   "metadata": {},
   "outputs": [],
   "source": [
    "'''\n",
    "條件的逐一確認\n",
    "再透過字串加法，結果逐一確認與串接。\n",
    "\n",
    "偶數, 奇數, 正的或負的\n",
    "'''\n",
    "value = int( input(\"請輸入一個整數: \") )\n",
    "result = \"\"\n",
    "if value >= 0:\n",
    "    pass\n",
    "\n",
    "print(result)"
   ]
  },
  {
   "cell_type": "code",
   "execution_count": null,
   "id": "d51e17c8",
   "metadata": {},
   "outputs": [],
   "source": [
    "'''\n",
    "請寫 Python 程式，使用 while 與 input，讓使用者輸入 5 個整數，最後請分別印出其中的奇數與偶數，並註明各有幾個。\n",
    "\n",
    "個偶數:\n",
    "整數{n+1}:\n",
    "{even}個偶數:{even_value}\n",
    "# 記得要依序減少 n 的值。\n",
    "'''\n",
    "odd_value  = \"\"  # 儲存讀入的奇數。\n",
    "even_value = \"\"  # 儲存讀入的偶數。\n",
    "even = 0  # 記錄偶數的個數。\n",
    "n = 0  # 記錄輸入的個數。\n",
    "while n < 5:\n",
    "    a = int( input() )\n",
    "    pass\n",
    "\n",
    "    "
   ]
  },
  {
   "cell_type": "code",
   "execution_count": null,
   "id": "c6056b4b",
   "metadata": {},
   "outputs": [],
   "source": [
    "'''\n",
    "閏年的判斷:\n",
    "假設 year 表示西元年，\n",
    "符合閏年的規則:\n",
    "1) year 可以被 400 整除。\n",
    "2) year 可以被 4 整除，但不能被 100 整除。\n",
    "\n",
    "以 Pythoon 程式表示:\n",
    "1) year % 400 == 0\n",
    "2) year % 4 == 0 and year % 100 != 0\n",
    "\n",
    "其中，民國年 = 西元年 - 1911\n",
    "'''\n",
    "y = int( input(\"請輸入要查詢的民國年: \") )\n",
    "year = y + 1911  # 民國年 轉換成 西元年。\n",
    "\n",
    "# 適度地使用括號，讓表示式更容易閱讀:(即使知道 and 的優先序高於 or)\n",
    "# if year % 400 ==0 or year % 4 == 0 and year % 100 != 0:\n",
    "if (year % 400 ==0) or (year % 4 == 0 and year % 100 != 0):\n",
    "    print(f\"民國 {y} 年是閏年！\")\n",
    "else:\n",
    "    print(f\"民國 {y} 年不是閏年！\")\n"
   ]
  },
  {
   "cell_type": "code",
   "execution_count": null,
   "id": "02658181",
   "metadata": {},
   "outputs": [],
   "source": [
    "'''\n",
    "使用 if-else 實現多種狀態的確認或判斷:\n",
    "'''\n",
    "value = int( input(\"請輸入一個整數: \") )\n",
    "\n",
    "# 分開判斷\n",
    "# 確認是否是 正數、零或負數:\n",
    "if value >= 0:\n",
    "    print(f\"{value} 是正數或零。\")\n",
    "else:\n",
    "    print(f\"{value} 是負數。\")\n",
    "\n",
    "# 確認是 奇數 或 偶數:\n",
    "if value % 2 == 0:\n",
    "    print(f\"{value} 是偶數。\")\n",
    "else:\n",
    "    print(f\"{value} 是奇數。\")\n",
    "    \n",
    "# Q: 嘗試將其輸出結果，改成以字串儲存，並串接增加。"
   ]
  }
 ],
 "metadata": {
  "colab": {
   "collapsed_sections": [],
   "name": "Chap 02-資料型別、變數與運算子.ipynb",
   "provenance": [
    {
     "file_id": "1XuVxfsdPDbhFfL-xJYKzLhsEDe-KWHEa",
     "timestamp": 1632725865196
    }
   ]
  },
  "kernelspec": {
   "display_name": "Python 3 (ipykernel)",
   "language": "python",
   "name": "python3"
  },
  "language_info": {
   "codemirror_mode": {
    "name": "ipython",
    "version": 3
   },
   "file_extension": ".py",
   "mimetype": "text/x-python",
   "name": "python",
   "nbconvert_exporter": "python",
   "pygments_lexer": "ipython3",
   "version": "3.9.13"
  }
 },
 "nbformat": 4,
 "nbformat_minor": 5
}
