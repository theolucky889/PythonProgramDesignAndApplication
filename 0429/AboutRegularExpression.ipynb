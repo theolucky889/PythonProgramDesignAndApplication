{
 "cells": [
  {
   "cell_type": "markdown",
   "metadata": {},
   "source": [
    "**Python regular expression, Python Regex, Python re**\n",
    "正則表示式 或 規則表示式  \n",
    "藉由給出想要尋找內容的組合模式或規則，來請 Python RE 引擎理解後，  \n",
    "為我們在資料中找出符合我們想要形式的部分內容。\n",
    "\n",
    "- []: each one in []\n",
    "- a|b: a or b\n",
    "- .: any char but newline\n",
    "- \\d: 0-9\n",
    "- \\D: non digit\n",
    "- [0-9a-zA-Z]\n",
    "- ^: head begins with\n",
    "- $: ends with\n",
    "- \\b: words bound, begin or end\n",
    "- 數量內容:\n",
    "    - \\* 0,1,2,3,...\n",
    "    - ? 有或沒有，0,1\n",
    "    - \\+ 正的自然數，1(含)以上, 也就是 1,2,3,...\n",
    "    - {n}  剛好 n 次\n",
    "    - {m,}  至少 m 次\n",
    "    - {m,n} m 到 n 次\n",
    "\n",
    "- 當需要取得長串資料中的某些部分，以便稍後進行重組時，  \n",
    "就可以使用group來分別進行擷取，提供後續組合引用。  \n",
    "(): it means the group to get the part that match the specified pattern\n",
    "- greedy search: try to find the most content that still matching the condition,   \n",
    "to stop the greedy search: put a ? as the suffix\n",
    "\n",
    "reference: [Python regular expression](https://www.w3schools.com/python/python_regex.asp#matchobject)"
   ]
  },
  {
   "cell_type": "code",
   "execution_count": 14,
   "metadata": {},
   "outputs": [
    {
     "name": "stdout",
     "output_type": "stream",
     "text": [
      "<re.Match object; span=(2, 5), match='cat'>\n",
      "span(): (2, 5)\n",
      "string: cacat, cbt, cct, caat, cdt, cba\n",
      "group(): cat\n"
     ]
    }
   ],
   "source": [
    "import re\n",
    "\n",
    "msg = \"cacat, cbt, cct, caat, cdt, cba\";\n",
    "\n",
    "''' \n",
    "search:\n",
    "return re.Match object: \n",
    "span(): (form,to)\n",
    "group(): found string <--找到的那群內容。\n",
    "string: the text to search in it,\n",
    "\n",
    "if not found return None\n",
    "'''\n",
    "items = re.search(\"cat\", msg)\n",
    "# items = re.search(\"貓\", msg)\n",
    "\n",
    "if items:\n",
    "    print(items)\n",
    "    print('span():', items.span())\n",
    "    print('string:', items.string)\n",
    "    print('group():', items.group())\n",
    "else:\n",
    "    print(\"Nothing found!\")"
   ]
  },
  {
   "cell_type": "code",
   "execution_count": 11,
   "metadata": {},
   "outputs": [
    {
     "name": "stdout",
     "output_type": "stream",
     "text": [
      "['cat', 'cbt']\n"
     ]
    }
   ],
   "source": [
    "import re\n",
    "\n",
    "msg = \"cat, cbt, cct, caat, cdt, cba\";\n",
    "\n",
    "'''\n",
    "findall:\n",
    "return list of found items\n",
    "\n",
    "if not found return empty list, [].\n",
    "'''\n",
    "items = re.findall(\"cat|cbt\", msg)   # cat|cbt: cat or cbt\n",
    "items = re.findall(\"c[ab]t\", msg)  # the pattern or rule: [ab] => a or b\n",
    "\n",
    "print(items)"
   ]
  },
  {
   "cell_type": "code",
   "execution_count": 10,
   "metadata": {},
   "outputs": [
    {
     "name": "stdout",
     "output_type": "stream",
     "text": [
      "['cat', 'cbt', 'cct', 'caat', 'cdt', 'cba']\n"
     ]
    }
   ],
   "source": [
    "import re\n",
    "\n",
    "msg = \"cat, cbt, cct, caat, cdt, cba\";\n",
    "#msg = \"a, b,   c,  d,    e\";\n",
    "     # 012345678901234567\n",
    "\n",
    "'''\n",
    "split:\n",
    "return list of split items by delimiter\n",
    "\n",
    "if not found return []\n",
    "'''\n",
    "# items = re.split(\",\", msg)  # 分隔符號: ,。\n",
    "# items = re.split(\",\\s\", msg)  # 分隔符號: ,。\n",
    "# items = re.split(\",\\s+\", msg)  # \n",
    "\n",
    "print(items)"
   ]
  },
  {
   "cell_type": "code",
   "execution_count": null,
   "metadata": {},
   "outputs": [],
   "source": [
    "import re\n",
    "\n",
    "msg = \"cat, cbt, cct, caat, cdt, cba\";\n",
    "\n",
    "'''\n",
    "sub:\n",
    "replace the fuond by specified value\n",
    "\n",
    "if not found return []\n",
    "'''\n",
    "items = re.sub(\"c[ab]t\", \"貓\", msg)\n",
    "#items = re.sub(\"c.t\", \"貓\", msg)\n",
    "\n",
    "print(items)"
   ]
  },
  {
   "cell_type": "code",
   "execution_count": null,
   "metadata": {},
   "outputs": [],
   "source": [
    "'''\n",
    "有的時候，我們想尋找與選取的部分可能分散在附近，因此需要分別設定其規則，等找到後再將它們組合起來。\n",
    "所以可以將這些分開的部份用括號括起來當成一群(group)，RE如果有找到也會依序記住這些分群，屆時\n",
    "再依我們期望的形式進行組合！\n",
    "此外，凡是屬於RE中的運算符號，如果要當成一般內容時，要在其前加上反斜線(backslash)。\n",
    "'''\n",
    "import re\n",
    "\n",
    "msg = \"0930 919321, 0930919321, 0930 919-321, 0930-919321, 0930 919 321, 0930-919-321\"\n",
    "\n",
    "items = re.findall(\"([0123456789]{4}).?([0123456789]{6})\", msg)\n",
    "\n",
    "# 上述的 \"(xyz)\" 是指將 xyz 所指稱或表示的內容，整個當成一個群組來看待的意思！\n",
    "# 這些設定群組找到的資料，會依序傳回來，我們再來進行組合與應用。\n",
    "#items = re.findall(\"([0-9]{4}).?([0-9]{6})\", msg)\n",
    "\n",
    "#items = re.findall(\"(\\d{4}).?(\\d{3})(\\d{3})\", txt)\n",
    "\n",
    "#items = re.findall(\"(\\d{4}).?(\\d{3})(\\d{3})\", txt)\n",
    "print(items)\n",
    "\n",
    "for it in items:\n",
    "\tprint(it[0], \"-\", it[1], sep=\"\")"
   ]
  },
  {
   "cell_type": "code",
   "execution_count": 12,
   "metadata": {},
   "outputs": [
    {
     "name": "stdout",
     "output_type": "stream",
     "text": [
      "[('02', '12345678')]\n",
      "(02) 12345678\n"
     ]
    }
   ],
   "source": [
    "'''\n",
    "有的時候，我們想尋找與選取的部分可能分散在附近，因此需要分別設定其規則，等找到後再將它們組合起來。\n",
    "所以我們可以將這些分開的部份用括號括起來當成一群(group)，RE如果有找到也會依序記住這些分群，接著\n",
    "再依我們期望的形式進行組合！\n",
    "此外，凡是屬於RE中的運算符號，如果要當成一般內容時，要在其前加上反斜線(backslash)。\n",
    "'''\n",
    "import re\n",
    "\n",
    "# back-slash 用來表示程式內容接續的意思！\n",
    "phoneNos = \"0212345678, 02 66571234, 02-2911-5637, \" +  \\\n",
    "           \"(02) 66571256, (02)66571278, (02)6657-1290, \" +  \\\n",
    "           \"(02) 6657-1298, (02) 6657 1299\"\n",
    "\n",
    "# 上述的 \"(xyz)\" 是指將 xyz 所指稱或表示的內容，整個當成一個群組來看待的意思！\n",
    "# 這些設定群組找到的資料，會依序傳回來，我們再來進行組合與應用。\n",
    "\n",
    "items = re.findall(\"(\\d{2})(\\d{8})\", phoneNos)\n",
    "print(items)\n",
    "\n",
    "for it in items:\n",
    "\tprint(f\"({it[0]}) {it[1]}\")"
   ]
  },
  {
   "cell_type": "code",
   "execution_count": null,
   "metadata": {},
   "outputs": [],
   "source": [
    "import re\n",
    "\n",
    "# another format to define a string in Python\n",
    "msg = '''\n",
    "<table border=1>\n",
    "    <tr> <th>1</th> <th>2</th> <th>3</th> </tr>\n",
    "    <tr> <th>4</th> <th>5</th> <th>6</th> </tr>\n",
    "</table>\n",
    "'''\n",
    "\n",
    "result = re.sub(\"<th>\", \"\", msg)   # search！\n",
    "\n",
    "#result = re.sub(\"<.+>\", \"\", msg)   # greedy search: 盡可能地往下去找！\n",
    "#result = re.sub(\"<.+?>\", \"\", msg)  # use ? to stop the greedy search.\n",
    "print(result)\n",
    "\n",
    "'''\n",
    "請截取 msg 中的所有包含其所在路徑的影像檔資料標籤(角括號<>及其括住的內容)移除！\n",
    "'''\n",
    "# 完成移除的工作！"
   ]
  },
  {
   "cell_type": "code",
   "execution_count": null,
   "metadata": {},
   "outputs": [],
   "source": [
    "'''\n",
    "請截取 msg 中的所有包含其所在路徑的影像檔資料標籤(角括號<>及其括住的內容)移除！\n",
    "'''\n",
    "import re\n",
    "\n",
    "msg = \"\"\"\n",
    "<table>\n",
    "<tr>\n",
    "  <th> <img src='.\\images2Move\\alarmclock256.jpg' height=150 /> </th>\n",
    "  <th> <img src='.\\images2Move\\birds.jpg' height=150 /> </th>\n",
    "  <th> <img src='.\\images2Move\\Brick_wall.jpg' height=150 /> </th>\n",
    "  <th> <img src='.\\images2Move\\Conan-4.jpg' height=150 /> </th>\n",
    "  <th> <img src='.\\images2Move\\CountryKitchen.jpg' height=150 /> </th>\n",
    "</tr>\n",
    "<tr>\n",
    "  <th> <img src='.\\images2Move\\Porsche 911 GT3 R Hybrid-1.jpg' height=150 /> </th>\n",
    "  <th> <img src='.\\images2Move\\rock-wall.jpg' height=150 /> </th>\n",
    "  <th> <img src='.\\images2Move\\RunningHorse.jpg' height=150 /> </th>\n",
    "  <th> <img src='.\\images2Move\\SantaFe-2015.jpg' height=150 /> </th>\n",
    "  <th> <img src='.\\images2Move\\Apple-1.jpg' height=150 /> </th>\n",
    "</tr>\n",
    "<tr>\n",
    "  <th> <img src='.\\images2Move\\Apple-2.jpg' height=150 /> </th>\n",
    "  <th> <img src='.\\images2Move\\德國 ZEPPELIN 齊柏林經典機械腕錶 ( ZN-7636-1 ).jpg' height=150 /> </th>\n",
    "  <th> <img src='.\\images2Move\\碧潭夜景.jpg' height=150 /> </th>\n",
    "</tr>\n",
    "</table>\n",
    "\"\"\"\n",
    "#print(msg)\n",
    "\n",
    "result = re.findall(\"(<img.+?/>)\", msg)  # \\ is also the control character\n",
    "\n",
    "print(result)"
   ]
  },
  {
   "cell_type": "code",
   "execution_count": null,
   "metadata": {
    "scrolled": true
   },
   "outputs": [],
   "source": [
    "'''\n",
    "請截取 msg 中的所有包含其所在路徑的影像檔資料標籤(角括號<>及其括住的內容)移除！\n",
    "'''\n",
    "import re\n",
    "\n",
    "msg = \"\"\"\n",
    "<table>\n",
    "<tr>\n",
    "  <th> <img src='.\\images2Move\\alarmclock256.jpg' height=150 /> </th>\n",
    "  <th> <img src='.\\images2Move\\birds.jpg' height=150 /> </th>\n",
    "  <th> <img src='.\\images2Move\\Brick_wall.jpg' height=150 /> </th>\n",
    "  <th> <img src='.\\images2Move\\Conan-4.jpg' height=150 /> </th>\n",
    "  <th> <img src='.\\images2Move\\CountryKitchen.jpg' height=150 /> </th>\n",
    "</tr>\n",
    "<tr>\n",
    "  <th> <img src='.\\images2Move\\Porsche 911 GT3 R Hybrid-1.jpg' height=150 /> </th>\n",
    "  <th> <img src='.\\images2Move\\rock-wall.jpg' height=150 /> </th>\n",
    "  <th> <img src='.\\images2Move\\RunningHorse.jpg' height=150 /> </th>\n",
    "  <th> <img src='.\\images2Move\\SantaFe-2015.jpg' height=150 /> </th>\n",
    "  <th> <img src='.\\images2Move\\Apple-1.jpg' height=150 /> </th>\n",
    "</tr>\n",
    "<tr>\n",
    "  <th> <img src='.\\images2Move\\Apple-2.jpg' height=150 /> </th>\n",
    "  <th> <img src='.\\images2Move\\德國 ZEPPELIN 齊柏林經典機械腕錶 ( ZN-7636-1 ).jpg' height=150 /> </th>\n",
    "  <th> <img src='.\\images2Move\\碧潭夜景.jpg' height=150 /> </th>\n",
    "</tr>\n",
    "</table>\n",
    "\"\"\"\n",
    "print(msg)\n",
    "\n",
    "# 上述的 \"(xyz)\" 是指將 xyz 所指稱或表示的內容，整個當成一個群組來看待的意思！\n",
    "# 這些設定群組找到的資料，會依序傳回來，我們再來進行組合與應用。\n",
    "#    src='.\\images2Move\\碧潭夜景.jpg'\n",
    "#    \"src='.\\\\images2Move\\\\碧潭夜景.jpg'\"\n",
    "#result = re.findall(\"src='\\.\\\\images2Move\\\\(.+\\.jpg)'\", msg)\n",
    "\n",
    "'''\n",
    "因為 backslash(\\) 是 RE 中的控制字元，所以如果需要將其當成一般的字元時，必須在其前再加上一個反斜線！\n",
    "字串中的反斜線本來就要寫成連續兩個，所以在 pattern 中會變成四個！\n",
    "\n",
    "想找: \\(xyz.jpg) => \\(.+.jpg) => \\(.+\\.jpg) => 放入字串中變成 \"\\\\(.+\\.jpg)\"。\n",
    "         任意字元 <-- ^  ^ --> 這是點！\n",
    "'''\n",
    "\n",
    "# \\images2Move\\碧潭夜景.jpg\n",
    "# \\.+\\.jpg -> \\\\.+\n",
    "result = re.findall(\"\\\\\\\\(.+?\\.jpg)\", msg)  # \\ is also the control character\n",
    "#result = re.findall(r\"\\\\(.+?\\.jpg)\", msg)  # \\ is also the control character\n",
    "print(result)"
   ]
  },
  {
   "cell_type": "code",
   "execution_count": 1,
   "metadata": {},
   "outputs": [
    {
     "name": "stdout",
     "output_type": "stream",
     "text": [
      "1! = 1\n",
      "2! = 2\n",
      "3! = 6\n",
      "4! = 24\n",
      "5! = 120\n",
      "6! = 720\n",
      "7! = 5040\n",
      "8! = 40320\n",
      "9! = 362880\n",
      "10! = 3628800\n",
      "11! = 39916800\n",
      "12! = 479001600\n",
      "13! = 6227020800\n",
      "14! = 87178291200\n",
      "15! = 1307674368000\n",
      "16! = 20922789888000\n",
      "17! = 355687428096000\n",
      "18! = 6402373705728000\n",
      "19! = 121645100408832000\n",
      "20! = 2432902008176640000\n",
      "21! = 51090942171709440000\n",
      "22! = 1124000727777607680000\n",
      "23! = 25852016738884976640000\n",
      "24! = 620448401733239439360000\n",
      "25! = 15511210043330985984000000\n"
     ]
    }
   ],
   "source": [
    "def factorial(n):\n",
    "    if n == 0 or n == 1:\n",
    "        return 1\n",
    "    else:\n",
    "        return n * factorial(n - 1)\n",
    "# Print factorial 1 - 25\n",
    "for i in range(1, 26):\n",
    "    result = factorial(i)\n",
    "    print(f\"{i}! = {result}\")\n"
   ]
  },
  {
   "cell_type": "code",
   "execution_count": 6,
   "metadata": {},
   "outputs": [
    {
     "name": "stdout",
     "output_type": "stream",
     "text": [
      "Fibonacci numbers: 1,1,2,3,5,8,13,21,34,55,"
     ]
    }
   ],
   "source": [
    "def fibonacci(n):\n",
    "    if n <= 1:\n",
    "        return 1\n",
    "    else:\n",
    "        return fibonacci(n - 1) + fibonacci(n - 2)\n",
    "\n",
    "# print fibonacci numbers\n",
    "print(\"Fibonacci numbers: \", end=\"\")\n",
    "for i in range(10):  # adjust the range of fibonacci numbers\n",
    "    print(fibonacci(i), end=\",\")\n"
   ]
  },
  {
   "cell_type": "code",
   "execution_count": 9,
   "metadata": {},
   "outputs": [
    {
     "name": "stdout",
     "output_type": "stream",
     "text": [
      "請輸入要顯示幾項的 Fibonacci 數列: 0\n",
      "請重新輸入！\n",
      "請輸入要顯示幾項的 Fibonacci 數列: 12\n",
      "[1, 1, 2, 3, 5, 8, 13, 21, 34, 55, 89, 144]\n"
     ]
    }
   ],
   "source": [
    "def show_fib(n):\n",
    "    if n <= 0:\n",
    "        return None\n",
    "    fib_sequence = []\n",
    "    a, b = 1, 1\n",
    "    for i in range(n):\n",
    "        if i < 2:\n",
    "            fib_sequence.append(1)\n",
    "        else:\n",
    "            a, b = b, a + b\n",
    "            fib_sequence.append(b)\n",
    "    return fib_sequence\n",
    "\n",
    "while True:\n",
    "    n = int(input(\"請輸入要顯示幾項的 Fibonacci 數列: \"))\n",
    "    if n <= 0:\n",
    "        print(\"請重新輸入！\")\n",
    "    else:\n",
    "        fib_list = show_fib(n)\n",
    "        print(fib_list)\n",
    "        break\n"
   ]
  },
  {
   "cell_type": "code",
   "execution_count": null,
   "metadata": {},
   "outputs": [],
   "source": []
  },
  {
   "cell_type": "code",
   "execution_count": null,
   "metadata": {},
   "outputs": [],
   "source": []
  }
 ],
 "metadata": {
  "kernelspec": {
   "display_name": "Python 3 (ipykernel)",
   "language": "python",
   "name": "python3"
  },
  "language_info": {
   "codemirror_mode": {
    "name": "ipython",
    "version": 3
   },
   "file_extension": ".py",
   "mimetype": "text/x-python",
   "name": "python",
   "nbconvert_exporter": "python",
   "pygments_lexer": "ipython3",
   "version": "3.11.5"
  }
 },
 "nbformat": 4,
 "nbformat_minor": 4
}
