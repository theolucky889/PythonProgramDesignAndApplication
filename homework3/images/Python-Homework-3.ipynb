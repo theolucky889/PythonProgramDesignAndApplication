{
 "cells": [
  {
   "cell_type": "markdown",
   "id": "3cdf5db5",
   "metadata": {},
   "source": [
    "**Python Homework 3**"
   ]
  },
  {
   "cell_type": "markdown",
   "id": "a0df18aa",
   "metadata": {},
   "source": [
    "```\n",
    "# Problem 1:\n",
    "請參考並改寫下列 Python 程式 (fill_table_2d(list2d))，\n",
    "可以將一維串列資料依序填入 HTML 表格中，同時能指定每列(row)顯示的元素個數。\n",
    "\n",
    "def fill_table(data, cols):\n",
    "    pass\n",
    "其中，data 為一維串列資料，cols 表示每列包含的元素個數。    \n",
    "```\n",
    "![fille_table_2d](./images/Code-fille_table_2d.jpg)\n"
   ]
  },
  {
   "cell_type": "code",
   "execution_count": null,
   "id": "fb14a90d",
   "metadata": {},
   "outputs": [],
   "source": [
    "# Problem 2:\n",
    "\n",
    "已知資料 data 如下:   \n",
    "data = '''\n",
    "國立臺北科技大學,互動設計系,50,29\n",
    "國立臺北科技大學,創意設計學士班,13,0\n",
    "國立臺北科技大學,工業設計系,42,17\n",
    "國立臺北科技大學,文化事業發展系,26,9\n",
    "國立臺北科技大學,應用英文系,33,10\n",
    "國立臺北科技大學,經營管理系,36,20\n",
    "國立臺北科技大學,資訊與財金管理系,28,35\n",
    "國立臺北科技大學,資訊工程系,9,54\n",
    "國立臺北科技大學,化學工程與生物科技系,34,91\n",
    "國立臺北科技大學,分子科學與工程系,14,26\n",
    "國立臺北科技大學,材料及資源工程系,23,77\n",
    "國立臺北科技大學,能源與冷凍空調工程系,1,43\n",
    "'''\n",
    "\n",
    "請撰寫 Python 程式，將上述資料拆解後，存入二維陣列 lst2d 中。\n"
   ]
  },
  {
   "cell_type": "markdown",
   "id": "e8d8bbbc",
   "metadata": {},
   "source": [
    "```\n",
    "# Problem 3:\n",
    "請至政府開放資料平台，使用關鍵字\"大專院校各校科系別學生數\"，讀取\"112學年大專院校各校科系別學生數（CSV檔）\"。\n",
    "接著請找出我們學校中有日間部四技的系，將校名、系別與新生人數(含男女生)，填入 HTML 的表格中，部分輸出結果如下圖所示。\n",
    "(可以使用 requests 或 pandas 來讀取資料檔案。)\n",
    "```\n",
    "![北科部分科系的新生人數](./images/TaipeiTech-Departments.jpg)\n"
   ]
  }
 ],
 "metadata": {
  "kernelspec": {
   "display_name": "Python 3 (ipykernel)",
   "language": "python",
   "name": "python3"
  },
  "language_info": {
   "codemirror_mode": {
    "name": "ipython",
    "version": 3
   },
   "file_extension": ".py",
   "mimetype": "text/x-python",
   "name": "python",
   "nbconvert_exporter": "python",
   "pygments_lexer": "ipython3",
   "version": "3.9.19"
  }
 },
 "nbformat": 4,
 "nbformat_minor": 5
}
