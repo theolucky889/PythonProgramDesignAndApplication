{
  "cells": [
    {
      "cell_type": "markdown",
      "id": "d4496a91",
      "metadata": {
        "id": "d4496a91"
      },
      "source": [
        "# Pandas由入門到進階"
      ]
    },
    {
      "cell_type": "markdown",
      "id": "fbad9e63",
      "metadata": {
        "id": "fbad9e63"
      },
      "source": [
        "## 宣告資料\n",
        "\n",
        "Pandas常用的資料類型有：\n",
        "1. Series：一維陣列的資料，列(index)為資料儲存順序\n",
        "2. DataFrame：二維的資料陣列，由列(index)及欄(column)組合而成\n",
        "\n",
        "Pandas模組匯入\n",
        "\n",
        "```\n",
        "import pandas as pd\n",
        "```"
      ]
    },
    {
      "cell_type": "markdown",
      "id": "ba4e36ef",
      "metadata": {
        "id": "ba4e36ef"
      },
      "source": [
        "### Series 一維資料\n",
        "\n",
        "```\n",
        "se = pd.Series(串列)\n",
        "```"
      ]
    },
    {
      "cell_type": "code",
      "execution_count": null,
      "id": "e7dd81ad",
      "metadata": {
        "id": "e7dd81ad"
      },
      "outputs": [],
      "source": [
        "# 宣告\n",
        "\n",
        "\n",
        "# 一維資料 Series\n",
        "\n",
        "# 取得索引及值\n"
      ]
    },
    {
      "cell_type": "code",
      "execution_count": null,
      "id": "52c3a4d3",
      "metadata": {
        "scrolled": true,
        "id": "52c3a4d3"
      },
      "outputs": [],
      "source": [
        "# 取得數值資料的統計資訊\n"
      ]
    },
    {
      "cell_type": "code",
      "execution_count": null,
      "id": "779079f4",
      "metadata": {
        "id": "779079f4",
        "outputId": "47d8418f-d9db-4995-add9-d5d90a9b046c"
      },
      "outputs": [
        {
          "data": {
            "text/plain": [
              "80.0"
            ]
          },
          "execution_count": 22,
          "metadata": {},
          "output_type": "execute_result"
        }
      ],
      "source": [
        "# 統計：加總、最小值、最大值、平均值、中位數\n"
      ]
    },
    {
      "cell_type": "code",
      "execution_count": null,
      "id": "7729ad9d",
      "metadata": {
        "id": "7729ad9d",
        "outputId": "e3b4c3aa-dbfd-46c5-c743-8856feab50b2"
      },
      "outputs": [
        {
          "data": {
            "text/plain": [
              "50"
            ]
          },
          "execution_count": 27,
          "metadata": {},
          "output_type": "execute_result"
        }
      ],
      "source": [
        "# 取值 loc(用索引名稱),iloc(用索引值)\n"
      ]
    },
    {
      "cell_type": "markdown",
      "id": "df767945",
      "metadata": {
        "id": "df767945"
      },
      "source": [
        "### DataFrame 二維資料\n",
        "\n",
        "```\n",
        "df = pd.DataFrame(字典)\n",
        "```\n",
        "\n",
        "範例資料:\n",
        "\n",
        "```\n",
        "{\n",
        "  \"姓名\":[\"林小明\", \"陳聰明\", \"黃美麗\", \"張小娟\", \"廖小誠\"],\n",
        "  \"國文\":[65,92,78,83,70],\n",
        "  \"英文\":[90,72,76,93,56],\n",
        "  \"數學\":[81,85,91,89,77],\n",
        "  \"社會\":[79,53,47,94,80]\n",
        "}\n",
        "```"
      ]
    },
    {
      "cell_type": "code",
      "execution_count": null,
      "id": "a77728b5",
      "metadata": {
        "id": "a77728b5"
      },
      "outputs": [],
      "source": [
        "# 定義資料\n"
      ]
    },
    {
      "cell_type": "code",
      "execution_count": null,
      "id": "56645636",
      "metadata": {
        "scrolled": true,
        "id": "56645636"
      },
      "outputs": [],
      "source": [
        "# 顯示 index , columns\n",
        "\n",
        "\n",
        "# 取得所有的值\n"
      ]
    },
    {
      "cell_type": "code",
      "execution_count": null,
      "id": "8c93f9b8",
      "metadata": {
        "id": "8c93f9b8"
      },
      "outputs": [],
      "source": [
        "# 資料資訊 shape (row, column), describe(), info()\n"
      ]
    },
    {
      "cell_type": "code",
      "execution_count": null,
      "id": "545be642",
      "metadata": {
        "id": "545be642"
      },
      "outputs": [],
      "source": [
        "## 取得列資料 索引, iloc, loc\n"
      ]
    },
    {
      "cell_type": "code",
      "execution_count": null,
      "id": "6bfc5b4c",
      "metadata": {
        "scrolled": true,
        "id": "6bfc5b4c"
      },
      "outputs": [],
      "source": [
        "# 取得欄資料(單欄, 多欄)\n"
      ]
    },
    {
      "cell_type": "code",
      "execution_count": null,
      "id": "1e44fc4d",
      "metadata": {
        "id": "1e44fc4d",
        "outputId": "bec69aed-e3d9-4cf3-86ea-f36aff63aadf"
      },
      "outputs": [
        {
          "data": {
            "text/plain": [
              "94"
            ]
          },
          "execution_count": 68,
          "metadata": {},
          "output_type": "execute_result"
        }
      ],
      "source": [
        "# 取得指定欄列的資料(儲存格)\n",
        "\n",
        "\n",
        "# 張小娟的社會成績\n"
      ]
    },
    {
      "cell_type": "code",
      "execution_count": null,
      "id": "84741792",
      "metadata": {
        "id": "84741792"
      },
      "outputs": [],
      "source": [
        "# 取前幾名, 後幾名\n"
      ]
    },
    {
      "cell_type": "code",
      "execution_count": null,
      "id": "4c828c1c",
      "metadata": {
        "id": "4c828c1c"
      },
      "outputs": [],
      "source": [
        "# 篩選\n"
      ]
    },
    {
      "cell_type": "code",
      "execution_count": null,
      "id": "7e518214",
      "metadata": {
        "scrolled": true,
        "id": "7e518214"
      },
      "outputs": [],
      "source": [
        "# 設定某一欄為索引\n"
      ]
    },
    {
      "cell_type": "code",
      "execution_count": null,
      "id": "b8307bb4",
      "metadata": {
        "id": "b8307bb4"
      },
      "outputs": [],
      "source": [
        "# 黃美麗的數學成績\n"
      ]
    },
    {
      "cell_type": "markdown",
      "id": "97753be1",
      "metadata": {
        "id": "97753be1"
      },
      "source": [
        "## 讀取資料\n",
        "\n",
        "Pandas可以讀取本地或是網路上「表格式」的資料，如CSV、Excel、json、html，方法有：\n",
        "1. read_csv()\n",
        "2. read_excel()\n",
        "3. read_json()\n",
        "4. read_html()"
      ]
    },
    {
      "cell_type": "markdown",
      "id": "5da5e4a1",
      "metadata": {
        "id": "5da5e4a1"
      },
      "source": [
        "## 專題:AQI空氣品質查詢"
      ]
    },
    {
      "cell_type": "code",
      "execution_count": null,
      "id": "dc4141d3",
      "metadata": {
        "id": "dc4141d3"
      },
      "outputs": [],
      "source": []
    },
    {
      "cell_type": "code",
      "execution_count": null,
      "id": "1b9d0ec9",
      "metadata": {
        "id": "1b9d0ec9"
      },
      "outputs": [],
      "source": [
        "# 查詢空氣品質的互動程式\n"
      ]
    },
    {
      "cell_type": "markdown",
      "id": "4f04b234",
      "metadata": {
        "id": "4f04b234"
      },
      "source": [
        "## 專題:中央氣象局地震測報中心\n",
        "\n",
        "https://scweb.cwa.gov.tw/\n",
        "\n",
        "https://scweb.cwa.gov.tw/zh-tw/earthquake/data"
      ]
    },
    {
      "cell_type": "code",
      "execution_count": null,
      "id": "49b70694",
      "metadata": {
        "id": "49b70694"
      },
      "outputs": [],
      "source": []
    },
    {
      "cell_type": "code",
      "execution_count": null,
      "id": "dead5adb",
      "metadata": {
        "id": "dead5adb"
      },
      "outputs": [],
      "source": []
    },
    {
      "cell_type": "markdown",
      "id": "04aba016",
      "metadata": {
        "id": "04aba016"
      },
      "source": [
        "## 專題:大專校院校別學生數統計\n",
        "\n",
        "\n",
        "https://depart.moe.edu.tw/ed4500/News_Content.aspx?n=5A930C32CC6C3818&sms=91B3AAE8C6388B96&s=8AF80DB14ADF7370"
      ]
    },
    {
      "cell_type": "code",
      "execution_count": null,
      "id": "b9d17976",
      "metadata": {
        "id": "b9d17976"
      },
      "outputs": [],
      "source": []
    }
  ],
  "metadata": {
    "kernelspec": {
      "display_name": "Python 3 (ipykernel)",
      "language": "python",
      "name": "python3"
    },
    "language_info": {
      "codemirror_mode": {
        "name": "ipython",
        "version": 3
      },
      "file_extension": ".py",
      "mimetype": "text/x-python",
      "name": "python",
      "nbconvert_exporter": "python",
      "pygments_lexer": "ipython3",
      "version": "3.11.5"
    },
    "colab": {
      "provenance": []
    }
  },
  "nbformat": 4,
  "nbformat_minor": 5
}