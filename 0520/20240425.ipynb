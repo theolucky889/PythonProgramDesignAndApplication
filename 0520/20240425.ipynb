{
 "cells": [
  {
   "cell_type": "markdown",
   "id": "d4496a91",
   "metadata": {
    "id": "d4496a91"
   },
   "source": [
    "# Pandas由入門到進階"
   ]
  },
  {
   "cell_type": "markdown",
   "id": "fbad9e63",
   "metadata": {
    "id": "fbad9e63"
   },
   "source": [
    "## 宣告資料\n",
    "\n",
    "Pandas常用的資料類型有：\n",
    "1. Series：一維陣列的資料，列(index)為資料儲存順序\n",
    "2. DataFrame：二維的資料陣列，由列(index)及欄(column)組合而成\n",
    "\n",
    "Pandas模組匯入\n",
    "\n",
    "```\n",
    "import pandas as pd\n",
    "```"
   ]
  },
  {
   "cell_type": "markdown",
   "id": "ba4e36ef",
   "metadata": {
    "id": "ba4e36ef"
   },
   "source": [
    "### Series 一維資料\n",
    "\n",
    "```\n",
    "se = pd.Series(串列)\n",
    "```"
   ]
  },
  {
   "cell_type": "code",
   "execution_count": 6,
   "id": "e7dd81ad",
   "metadata": {
    "id": "e7dd81ad"
   },
   "outputs": [
    {
     "data": {
      "text/plain": [
       "Apple     100\n",
       "Banana     50\n",
       "Cherry    120\n",
       "Orange     80\n",
       "Tomato     30\n",
       "dtype: int64"
      ]
     },
     "execution_count": 6,
     "metadata": {},
     "output_type": "execute_result"
    }
   ],
   "source": [
    "# 宣告\n",
    "import pandas as pd\n",
    "\n",
    "# 一維資料 Series\n",
    "price = [100, 50, 120, 80, 30]\n",
    "se = pd.Series(price)\n",
    "se\n",
    "\n",
    "# 取得索引及值\n",
    "list(se.index)\n",
    "se.values\n",
    "\n",
    "fruits = ['Apple', 'Banana', 'Cherry', 'Orange', 'Tomato']\n",
    "price = [100, 50, 120, 80, 30]\n",
    "\n",
    "se2 = pd.Series(price, index=fruits)\n",
    "se2"
   ]
  },
  {
   "cell_type": "code",
   "execution_count": 7,
   "id": "52c3a4d3",
   "metadata": {
    "id": "52c3a4d3",
    "scrolled": true
   },
   "outputs": [
    {
     "data": {
      "text/plain": [
       "count      5.000000\n",
       "mean      76.000000\n",
       "std       36.469165\n",
       "min       30.000000\n",
       "25%       50.000000\n",
       "50%       80.000000\n",
       "75%      100.000000\n",
       "max      120.000000\n",
       "dtype: float64"
      ]
     },
     "execution_count": 7,
     "metadata": {},
     "output_type": "execute_result"
    }
   ],
   "source": [
    "# 取得數值資料的統計資訊\n",
    "se2.describe()"
   ]
  },
  {
   "cell_type": "code",
   "execution_count": 11,
   "id": "7729ad9d",
   "metadata": {
    "id": "7729ad9d",
    "outputId": "e3b4c3aa-dbfd-46c5-c743-8856feab50b2"
   },
   "outputs": [
    {
     "data": {
      "text/plain": [
       "120"
      ]
     },
     "execution_count": 11,
     "metadata": {},
     "output_type": "execute_result"
    }
   ],
   "source": [
    "# 取值 loc(用索引名稱),iloc(用索引值)\n",
    "se\n",
    "se.loc[2]\n",
    "se.iloc[2]\n",
    "\n",
    "se2.iloc[2]\n",
    "se2.loc['Cherry']"
   ]
  },
  {
   "cell_type": "code",
   "execution_count": 12,
   "id": "bf84b1eb",
   "metadata": {},
   "outputs": [
    {
     "data": {
      "text/plain": [
       "0    100\n",
       "1     50\n",
       "2    120\n",
       "3     80\n",
       "4     30\n",
       "dtype: int64"
      ]
     },
     "execution_count": 12,
     "metadata": {},
     "output_type": "execute_result"
    }
   ],
   "source": [
    "se"
   ]
  },
  {
   "cell_type": "code",
   "execution_count": 9,
   "id": "779079f4",
   "metadata": {
    "id": "779079f4",
    "outputId": "47d8418f-d9db-4995-add9-d5d90a9b046c"
   },
   "outputs": [
    {
     "data": {
      "text/plain": [
       "80.0"
      ]
     },
     "execution_count": 9,
     "metadata": {},
     "output_type": "execute_result"
    }
   ],
   "source": [
    "# 統計：加總、最小值、最大值、平均值、中位數\n",
    "se2.sum()\n",
    "se2.min()\n",
    "se2.max()\n",
    "se2.mean()\n",
    "se2.median()"
   ]
  },
  {
   "cell_type": "markdown",
   "id": "df767945",
   "metadata": {
    "id": "df767945"
   },
   "source": [
    "### DataFrame 二維資料\n",
    "\n",
    "```\n",
    "df = pd.DataFrame(字典)\n",
    "```\n",
    "\n",
    "範例資料:\n",
    "\n",
    "```\n",
    "{\n",
    "  \"姓名\":[\"林小明\", \"陳聰明\", \"黃美麗\", \"張小娟\", \"廖小誠\"],\n",
    "  \"國文\":[65,92,78,83,70],\n",
    "  \"英文\":[90,72,76,93,56],\n",
    "  \"數學\":[81,85,91,89,77],\n",
    "  \"社會\":[79,53,47,94,80]\n",
    "}\n",
    "```"
   ]
  },
  {
   "cell_type": "code",
   "execution_count": 14,
   "id": "a77728b5",
   "metadata": {
    "id": "a77728b5"
   },
   "outputs": [
    {
     "data": {
      "text/html": [
       "<div>\n",
       "<style scoped>\n",
       "    .dataframe tbody tr th:only-of-type {\n",
       "        vertical-align: middle;\n",
       "    }\n",
       "\n",
       "    .dataframe tbody tr th {\n",
       "        vertical-align: top;\n",
       "    }\n",
       "\n",
       "    .dataframe thead th {\n",
       "        text-align: right;\n",
       "    }\n",
       "</style>\n",
       "<table border=\"1\" class=\"dataframe\">\n",
       "  <thead>\n",
       "    <tr style=\"text-align: right;\">\n",
       "      <th></th>\n",
       "      <th>姓名</th>\n",
       "      <th>國文</th>\n",
       "      <th>英文</th>\n",
       "      <th>數學</th>\n",
       "      <th>社會</th>\n",
       "    </tr>\n",
       "  </thead>\n",
       "  <tbody>\n",
       "    <tr>\n",
       "      <th>0</th>\n",
       "      <td>林小明</td>\n",
       "      <td>65</td>\n",
       "      <td>90</td>\n",
       "      <td>81</td>\n",
       "      <td>79</td>\n",
       "    </tr>\n",
       "    <tr>\n",
       "      <th>1</th>\n",
       "      <td>陳聰明</td>\n",
       "      <td>92</td>\n",
       "      <td>72</td>\n",
       "      <td>85</td>\n",
       "      <td>53</td>\n",
       "    </tr>\n",
       "    <tr>\n",
       "      <th>2</th>\n",
       "      <td>黃美麗</td>\n",
       "      <td>78</td>\n",
       "      <td>76</td>\n",
       "      <td>91</td>\n",
       "      <td>47</td>\n",
       "    </tr>\n",
       "    <tr>\n",
       "      <th>3</th>\n",
       "      <td>張小娟</td>\n",
       "      <td>83</td>\n",
       "      <td>93</td>\n",
       "      <td>89</td>\n",
       "      <td>94</td>\n",
       "    </tr>\n",
       "    <tr>\n",
       "      <th>4</th>\n",
       "      <td>廖小誠</td>\n",
       "      <td>70</td>\n",
       "      <td>56</td>\n",
       "      <td>77</td>\n",
       "      <td>80</td>\n",
       "    </tr>\n",
       "  </tbody>\n",
       "</table>\n",
       "</div>"
      ],
      "text/plain": [
       "    姓名  國文  英文  數學  社會\n",
       "0  林小明  65  90  81  79\n",
       "1  陳聰明  92  72  85  53\n",
       "2  黃美麗  78  76  91  47\n",
       "3  張小娟  83  93  89  94\n",
       "4  廖小誠  70  56  77  80"
      ]
     },
     "execution_count": 14,
     "metadata": {},
     "output_type": "execute_result"
    }
   ],
   "source": [
    "# 定義資料\n",
    "import pandas as pd\n",
    "df = pd.DataFrame({\n",
    "  \"姓名\":[\"林小明\", \"陳聰明\", \"黃美麗\", \"張小娟\", \"廖小誠\"],\n",
    "  \"國文\":[65,92,78,83,70],\n",
    "  \"英文\":[90,72,76,93,56],\n",
    "  \"數學\":[81,85,91,89,77],\n",
    "  \"社會\":[79,53,47,94,80]\n",
    "})\n",
    "df"
   ]
  },
  {
   "cell_type": "code",
   "execution_count": 17,
   "id": "56645636",
   "metadata": {
    "id": "56645636",
    "scrolled": true
   },
   "outputs": [
    {
     "data": {
      "text/plain": [
       "array([['林小明', 65, 90, 81, 79],\n",
       "       ['陳聰明', 92, 72, 85, 53],\n",
       "       ['黃美麗', 78, 76, 91, 47],\n",
       "       ['張小娟', 83, 93, 89, 94],\n",
       "       ['廖小誠', 70, 56, 77, 80]], dtype=object)"
      ]
     },
     "execution_count": 17,
     "metadata": {},
     "output_type": "execute_result"
    }
   ],
   "source": [
    "# 顯示 index , columns\n",
    "df.index\n",
    "df.columns\n",
    "\n",
    "# 取得所有的值\n",
    "df.values"
   ]
  },
  {
   "cell_type": "code",
   "execution_count": 20,
   "id": "8c93f9b8",
   "metadata": {
    "id": "8c93f9b8"
   },
   "outputs": [
    {
     "name": "stdout",
     "output_type": "stream",
     "text": [
      "<class 'pandas.core.frame.DataFrame'>\n",
      "RangeIndex: 5 entries, 0 to 4\n",
      "Data columns (total 5 columns):\n",
      " #   Column  Non-Null Count  Dtype \n",
      "---  ------  --------------  ----- \n",
      " 0   姓名      5 non-null      object\n",
      " 1   國文      5 non-null      int64 \n",
      " 2   英文      5 non-null      int64 \n",
      " 3   數學      5 non-null      int64 \n",
      " 4   社會      5 non-null      int64 \n",
      "dtypes: int64(4), object(1)\n",
      "memory usage: 332.0+ bytes\n"
     ]
    }
   ],
   "source": [
    "# 資料資訊 shape (row, column), describe(), info()\n",
    "df.shape\n",
    "df.describe()\n",
    "df.info()"
   ]
  },
  {
   "cell_type": "code",
   "execution_count": 21,
   "id": "86b59801",
   "metadata": {},
   "outputs": [
    {
     "data": {
      "text/html": [
       "<div>\n",
       "<style scoped>\n",
       "    .dataframe tbody tr th:only-of-type {\n",
       "        vertical-align: middle;\n",
       "    }\n",
       "\n",
       "    .dataframe tbody tr th {\n",
       "        vertical-align: top;\n",
       "    }\n",
       "\n",
       "    .dataframe thead th {\n",
       "        text-align: right;\n",
       "    }\n",
       "</style>\n",
       "<table border=\"1\" class=\"dataframe\">\n",
       "  <thead>\n",
       "    <tr style=\"text-align: right;\">\n",
       "      <th></th>\n",
       "      <th>姓名</th>\n",
       "      <th>國文</th>\n",
       "      <th>英文</th>\n",
       "      <th>數學</th>\n",
       "      <th>社會</th>\n",
       "    </tr>\n",
       "  </thead>\n",
       "  <tbody>\n",
       "    <tr>\n",
       "      <th>0</th>\n",
       "      <td>林小明</td>\n",
       "      <td>65</td>\n",
       "      <td>90</td>\n",
       "      <td>81</td>\n",
       "      <td>79</td>\n",
       "    </tr>\n",
       "    <tr>\n",
       "      <th>1</th>\n",
       "      <td>陳聰明</td>\n",
       "      <td>92</td>\n",
       "      <td>72</td>\n",
       "      <td>85</td>\n",
       "      <td>53</td>\n",
       "    </tr>\n",
       "    <tr>\n",
       "      <th>2</th>\n",
       "      <td>黃美麗</td>\n",
       "      <td>78</td>\n",
       "      <td>76</td>\n",
       "      <td>91</td>\n",
       "      <td>47</td>\n",
       "    </tr>\n",
       "    <tr>\n",
       "      <th>3</th>\n",
       "      <td>張小娟</td>\n",
       "      <td>83</td>\n",
       "      <td>93</td>\n",
       "      <td>89</td>\n",
       "      <td>94</td>\n",
       "    </tr>\n",
       "    <tr>\n",
       "      <th>4</th>\n",
       "      <td>廖小誠</td>\n",
       "      <td>70</td>\n",
       "      <td>56</td>\n",
       "      <td>77</td>\n",
       "      <td>80</td>\n",
       "    </tr>\n",
       "  </tbody>\n",
       "</table>\n",
       "</div>"
      ],
      "text/plain": [
       "    姓名  國文  英文  數學  社會\n",
       "0  林小明  65  90  81  79\n",
       "1  陳聰明  92  72  85  53\n",
       "2  黃美麗  78  76  91  47\n",
       "3  張小娟  83  93  89  94\n",
       "4  廖小誠  70  56  77  80"
      ]
     },
     "execution_count": 21,
     "metadata": {},
     "output_type": "execute_result"
    }
   ],
   "source": [
    "df"
   ]
  },
  {
   "cell_type": "code",
   "execution_count": 29,
   "id": "545be642",
   "metadata": {
    "id": "545be642"
   },
   "outputs": [
    {
     "data": {
      "text/plain": [
       "array(['張小娟', 83, 93, 89, 94], dtype=object)"
      ]
     },
     "execution_count": 29,
     "metadata": {},
     "output_type": "execute_result"
    }
   ],
   "source": [
    "## 取得列資料 索引, iloc, loc\n",
    "df.iloc[1]\n",
    "df.loc[1]\n",
    "df.values[1]\n",
    "\n",
    "df.iloc[3]\n",
    "df.loc[3]\n",
    "df.values[3]"
   ]
  },
  {
   "cell_type": "code",
   "execution_count": 30,
   "id": "d9b53123",
   "metadata": {},
   "outputs": [
    {
     "data": {
      "text/html": [
       "<div>\n",
       "<style scoped>\n",
       "    .dataframe tbody tr th:only-of-type {\n",
       "        vertical-align: middle;\n",
       "    }\n",
       "\n",
       "    .dataframe tbody tr th {\n",
       "        vertical-align: top;\n",
       "    }\n",
       "\n",
       "    .dataframe thead th {\n",
       "        text-align: right;\n",
       "    }\n",
       "</style>\n",
       "<table border=\"1\" class=\"dataframe\">\n",
       "  <thead>\n",
       "    <tr style=\"text-align: right;\">\n",
       "      <th></th>\n",
       "      <th>姓名</th>\n",
       "      <th>國文</th>\n",
       "      <th>英文</th>\n",
       "      <th>數學</th>\n",
       "      <th>社會</th>\n",
       "    </tr>\n",
       "  </thead>\n",
       "  <tbody>\n",
       "    <tr>\n",
       "      <th>0</th>\n",
       "      <td>林小明</td>\n",
       "      <td>65</td>\n",
       "      <td>90</td>\n",
       "      <td>81</td>\n",
       "      <td>79</td>\n",
       "    </tr>\n",
       "    <tr>\n",
       "      <th>1</th>\n",
       "      <td>陳聰明</td>\n",
       "      <td>92</td>\n",
       "      <td>72</td>\n",
       "      <td>85</td>\n",
       "      <td>53</td>\n",
       "    </tr>\n",
       "    <tr>\n",
       "      <th>2</th>\n",
       "      <td>黃美麗</td>\n",
       "      <td>78</td>\n",
       "      <td>76</td>\n",
       "      <td>91</td>\n",
       "      <td>47</td>\n",
       "    </tr>\n",
       "    <tr>\n",
       "      <th>3</th>\n",
       "      <td>張小娟</td>\n",
       "      <td>83</td>\n",
       "      <td>93</td>\n",
       "      <td>89</td>\n",
       "      <td>94</td>\n",
       "    </tr>\n",
       "    <tr>\n",
       "      <th>4</th>\n",
       "      <td>廖小誠</td>\n",
       "      <td>70</td>\n",
       "      <td>56</td>\n",
       "      <td>77</td>\n",
       "      <td>80</td>\n",
       "    </tr>\n",
       "  </tbody>\n",
       "</table>\n",
       "</div>"
      ],
      "text/plain": [
       "    姓名  國文  英文  數學  社會\n",
       "0  林小明  65  90  81  79\n",
       "1  陳聰明  92  72  85  53\n",
       "2  黃美麗  78  76  91  47\n",
       "3  張小娟  83  93  89  94\n",
       "4  廖小誠  70  56  77  80"
      ]
     },
     "execution_count": 30,
     "metadata": {},
     "output_type": "execute_result"
    }
   ],
   "source": [
    "df"
   ]
  },
  {
   "cell_type": "code",
   "execution_count": 32,
   "id": "6bfc5b4c",
   "metadata": {
    "id": "6bfc5b4c",
    "scrolled": true
   },
   "outputs": [
    {
     "data": {
      "text/plain": [
       "0    林小明\n",
       "1    陳聰明\n",
       "2    黃美麗\n",
       "3    張小娟\n",
       "4    廖小誠\n",
       "Name: 姓名, dtype: object"
      ]
     },
     "execution_count": 32,
     "metadata": {},
     "output_type": "execute_result"
    }
   ],
   "source": [
    "# 取得欄資料(單欄, 多欄)\n",
    "df['姓名']"
   ]
  },
  {
   "cell_type": "code",
   "execution_count": null,
   "id": "1e44fc4d",
   "metadata": {
    "id": "1e44fc4d",
    "outputId": "bec69aed-e3d9-4cf3-86ea-f36aff63aadf"
   },
   "outputs": [
    {
     "data": {
      "text/plain": [
       "94"
      ]
     },
     "execution_count": 68,
     "metadata": {},
     "output_type": "execute_result"
    }
   ],
   "source": [
    "# 取得指定欄列的資料(儲存格)\n",
    "\n",
    "\n",
    "# 張小娟的社會成績\n"
   ]
  },
  {
   "cell_type": "code",
   "execution_count": null,
   "id": "84741792",
   "metadata": {
    "id": "84741792"
   },
   "outputs": [],
   "source": [
    "# 取前幾名, 後幾名\n"
   ]
  },
  {
   "cell_type": "code",
   "execution_count": null,
   "id": "4c828c1c",
   "metadata": {
    "id": "4c828c1c"
   },
   "outputs": [],
   "source": [
    "# 篩選\n"
   ]
  },
  {
   "cell_type": "code",
   "execution_count": null,
   "id": "7e518214",
   "metadata": {
    "id": "7e518214",
    "scrolled": true
   },
   "outputs": [],
   "source": [
    "# 設定某一欄為索引\n"
   ]
  },
  {
   "cell_type": "code",
   "execution_count": null,
   "id": "b8307bb4",
   "metadata": {
    "id": "b8307bb4"
   },
   "outputs": [],
   "source": [
    "# 黃美麗的數學成績\n"
   ]
  },
  {
   "cell_type": "markdown",
   "id": "97753be1",
   "metadata": {
    "id": "97753be1"
   },
   "source": [
    "## 讀取資料\n",
    "\n",
    "Pandas可以讀取本地或是網路上「表格式」的資料，如CSV、Excel、json、html，方法有：\n",
    "1. read_csv()\n",
    "2. read_excel()\n",
    "3. read_json()\n",
    "4. read_html()"
   ]
  },
  {
   "cell_type": "markdown",
   "id": "5da5e4a1",
   "metadata": {
    "id": "5da5e4a1"
   },
   "source": [
    "## 專題:AQI空氣品質查詢"
   ]
  },
  {
   "cell_type": "code",
   "execution_count": null,
   "id": "dc4141d3",
   "metadata": {
    "id": "dc4141d3"
   },
   "outputs": [],
   "source": []
  },
  {
   "cell_type": "code",
   "execution_count": null,
   "id": "1b9d0ec9",
   "metadata": {
    "id": "1b9d0ec9"
   },
   "outputs": [],
   "source": [
    "# 查詢空氣品質的互動程式\n"
   ]
  },
  {
   "cell_type": "markdown",
   "id": "4f04b234",
   "metadata": {
    "id": "4f04b234"
   },
   "source": [
    "## 專題:中央氣象局地震測報中心\n",
    "\n",
    "https://scweb.cwa.gov.tw/\n",
    "\n",
    "https://scweb.cwa.gov.tw/zh-tw/earthquake/data"
   ]
  },
  {
   "cell_type": "code",
   "execution_count": null,
   "id": "49b70694",
   "metadata": {
    "id": "49b70694"
   },
   "outputs": [],
   "source": []
  },
  {
   "cell_type": "code",
   "execution_count": null,
   "id": "dead5adb",
   "metadata": {
    "id": "dead5adb"
   },
   "outputs": [],
   "source": []
  },
  {
   "cell_type": "markdown",
   "id": "04aba016",
   "metadata": {
    "id": "04aba016"
   },
   "source": [
    "## 專題:大專校院校別學生數統計\n",
    "\n",
    "\n",
    "https://depart.moe.edu.tw/ed4500/News_Content.aspx?n=5A930C32CC6C3818&sms=91B3AAE8C6388B96&s=8AF80DB14ADF7370"
   ]
  },
  {
   "cell_type": "code",
   "execution_count": null,
   "id": "b9d17976",
   "metadata": {
    "id": "b9d17976"
   },
   "outputs": [],
   "source": []
  }
 ],
 "metadata": {
  "colab": {
   "provenance": []
  },
  "kernelspec": {
   "display_name": "Python 3 (ipykernel)",
   "language": "python",
   "name": "python3"
  },
  "language_info": {
   "codemirror_mode": {
    "name": "ipython",
    "version": 3
   },
   "file_extension": ".py",
   "mimetype": "text/x-python",
   "name": "python",
   "nbconvert_exporter": "python",
   "pygments_lexer": "ipython3",
   "version": "3.11.5"
  }
 },
 "nbformat": 4,
 "nbformat_minor": 5
}
